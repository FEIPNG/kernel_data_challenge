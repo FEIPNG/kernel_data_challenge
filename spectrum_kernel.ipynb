{
 "cells": [
  {
   "cell_type": "markdown",
   "metadata": {},
   "source": [
    "Next Steps\n",
    "\n",
    "    Tune the C parameter.\n",
    "    Try different values of k (k-mer size).\n",
    "    Optimize performance (e.g., using sparse representations for large sequences)."
   ]
  },
  {
   "cell_type": "code",
   "execution_count": 1,
   "metadata": {},
   "outputs": [],
   "source": [
    "import numpy as np\n",
    "import pandas as pd\n",
    "import cvxopt\n",
    "from collections import Counter\n",
    "\n",
    "def generate_kmers(sequence, k):\n",
    "    \"\"\"Extract all k-mers from a sequence.\"\"\"\n",
    "    return [sequence[i:i+k] for i in range(len(sequence) - k + 1)]\n",
    "\n",
    "def build_kmer_dict(sequences, k):\n",
    "    \"\"\"Create a dictionary mapping each unique k-mer to an index.\"\"\"\n",
    "    kmer_set = set()\n",
    "    for seq in sequences:\n",
    "        kmer_set.update(generate_kmers(seq, k))\n",
    "    return {kmer: idx for idx, kmer in enumerate(sorted(kmer_set))}\n",
    "\n",
    "def compute_kmer_feature_matrix(sequences, k, kmer_dict):\n",
    "    \"\"\"Convert sequences into k-mer frequency vectors.\"\"\"\n",
    "    num_samples = len(sequences)\n",
    "    num_kmers = len(kmer_dict)\n",
    "    feature_matrix = np.zeros((num_samples, num_kmers))\n",
    "\n",
    "    for i, seq in enumerate(sequences):\n",
    "        kmer_counts = Counter(generate_kmers(seq, k))\n",
    "        for kmer, count in kmer_counts.items():\n",
    "            if kmer in kmer_dict:\n",
    "                feature_matrix[i, kmer_dict[kmer]] = count\n",
    "    return feature_matrix\n",
    "\n",
    "def spectrum_kernel_matrix(sequences1, sequences2, k):\n",
    "    \"\"\"Compute the Spectrum Kernel matrix between two sets of sequences.\"\"\"\n",
    "    all_sequences = np.concatenate([sequences1, sequences2])\n",
    "    kmer_dict = build_kmer_dict(all_sequences, k)\n",
    "\n",
    "    # Convert sequences to feature matrices\n",
    "    X1 = compute_kmer_feature_matrix(sequences1, k, kmer_dict)\n",
    "    X2 = compute_kmer_feature_matrix(sequences2, k, kmer_dict)\n",
    "\n",
    "    return X1 @ X2.T  # Compute the dot product\n",
    "\n",
    "def train_svm(K, y, C=1.0):\n",
    "    \"\"\"Train an SVM using the precomputed kernel matrix K.\"\"\"\n",
    "    n = len(y)\n",
    "    y = y.astype(float).reshape(-1, 1)  # Ensure y is a column vector\n",
    "\n",
    "    # Construct the quadratic programming matrices\n",
    "    P = cvxopt.matrix(np.outer(y, y) * K)  # P_ij = y_i * y_j * K_ij\n",
    "    q = cvxopt.matrix(-np.ones(n))        # q_i = -1\n",
    "    G = cvxopt.matrix(np.vstack((-np.eye(n), np.eye(n))))  # Constraints 0 <= α <= C\n",
    "    h = cvxopt.matrix(np.hstack((np.zeros(n), C * np.ones(n))))\n",
    "    A = cvxopt.matrix(y.T)  # Equality constraint sum(α_i * y_i) = 0\n",
    "    b = cvxopt.matrix(0.0)\n",
    "\n",
    "    # Solve the quadratic program\n",
    "    solution = cvxopt.solvers.qp(P, q, G, h, A, b)\n",
    "    alphas = np.ravel(solution['x'])\n",
    "\n",
    "    # Support vectors: α > 0\n",
    "    sv_indices = alphas > 1e-5\n",
    "    support_vectors = np.where(sv_indices)[0]\n",
    "    alphas = alphas[sv_indices]\n",
    "    support_y = y[sv_indices].flatten()\n",
    "\n",
    "    # Compute the bias term (intercept)\n",
    "    bias = np.mean(support_y - np.sum(alphas * support_y * K[support_vectors][:, support_vectors], axis=1))\n",
    "\n",
    "    return alphas, support_vectors, bias\n",
    "\n",
    "def predict_svm(K_test, alphas, support_vectors, support_y, bias):\n",
    "    \"\"\"Make predictions using the trained SVM.\"\"\"\n",
    "    return np.sign(np.sum(alphas * support_y * K_test[:, support_vectors], axis=1) + bias)\n"
   ]
  },
  {
   "cell_type": "code",
   "execution_count": 2,
   "metadata": {},
   "outputs": [],
   "source": [
    "import numpy as np\n",
    "import pandas as pd\n",
    "import cvxopt\n",
    "import optuna\n",
    "from collections import Counter\n",
    "cvxopt.solvers.options[\"show_progress\"] = False\n",
    "\n",
    "\n",
    "def load_data(seq_file: str, label_file: str) -> tuple:\n",
    "    \"\"\"\n",
    "    加载多组CSV文件并合并数据\n",
    "    \n",
    "    参数:\n",
    "        seq_files: 多个x.csv文件路径列表（如[\"x.csv\", \"x1.csv\"]）\n",
    "        label_files: 多个y.csv文件路径列表（如[\"y.csv\", \"y1.csv\"]）\n",
    "    \n",
    "    返回:\n",
    "        (sequences, labels): 合并后的序列列表和标签数组\n",
    "    \"\"\"\n",
    "    # 合并所有数据\n",
    "    df_seq = pd.read_csv(seq_file)\n",
    "    df_label = pd.read_csv(label_file)\n",
    "    \n",
    "    merged = pd.merge(df_seq, df_label, on='Id', how='inner')\n",
    "    if merged.empty:\n",
    "        print(f\"警告: {seq_file}和{label_file}中没有匹配的ID\")\n",
    "\n",
    "    # 提取数据\n",
    "    sequences = merged['seq'].values\n",
    "    labels = np.where(merged['Bound'] == 1, 1, -1)\n",
    "    return sequences, labels\n",
    "\n",
    "def manual_kfold_split(X, y, n_splits=3, seed=42):\n",
    "    \"\"\"Manually splits X and y into K folds for cross-validation.\"\"\"\n",
    "    np.random.seed(seed)\n",
    "    indices = np.arange(len(X))\n",
    "    np.random.shuffle(indices)\n",
    "    \n",
    "    folds = np.array_split(indices, n_splits)\n",
    "    return folds\n",
    "\n",
    "def cross_val_score_manual(X, y, k, C, n_splits=3):\n",
    "    \"\"\"Performs cross-validation without using sklearn.\"\"\"\n",
    "    folds = manual_kfold_split(X, y, n_splits)\n",
    "    accuracies = []\n",
    "\n",
    "    for i in range(n_splits):\n",
    "        # print(\"i = \", i)\n",
    "        val_indices = folds[i]  # Current fold is validation set\n",
    "        train_indices = np.hstack([folds[j] for j in range(n_splits) if j != i])  # Rest are training\n",
    "\n",
    "        X_train, y_train = X[train_indices], y[train_indices]\n",
    "        X_val, y_val = X[val_indices], y[val_indices]\n",
    "\n",
    "        # Compute kernel matrices\n",
    "        K_train = spectrum_kernel_matrix(X_train, X_train, k)\n",
    "        K_val = spectrum_kernel_matrix(X_val, X_train, k)\n",
    "\n",
    "        # Train and predict\n",
    "        alphas, support_vectors, bias = train_svm(K_train, y_train, C)\n",
    "        predictions = predict_svm(K_val, alphas, support_vectors, y_train[support_vectors], bias)\n",
    "\n",
    "        # Compute accuracy\n",
    "        accuracy = np.mean(predictions == y_val)\n",
    "        accuracies.append(accuracy)\n",
    "\n",
    "        # print(\"accuracies: \", accuracies)\n",
    "    return np.mean(accuracies)\n",
    "\n",
    "def objective(trial):\n",
    "    \"\"\"Objective function for Optuna to optimize k and C.\"\"\"\n",
    "    k = trial.suggest_int(\"k\", 2, 5)  # k-mer length between 2 and 6\n",
    "    C = trial.suggest_loguniform(\"C\", 1e-3, 1e0)  # C in [0.01, 100]\n",
    "\n",
    "    cross_val = cross_val_score_manual(X_train, Y_train, k, C)\n",
    "\n",
    "    print(f\"C = {C}, k = {k}: {cross_val}\")\n",
    "    return cross_val\n",
    "\n",
    "def train_and_predict_spectrum_svm(X_train_path, Y_train_path, X_test_path, n_trials=20):\n",
    "    \"\"\"Hyperparameter optimization with Optuna, then train and predict.\"\"\"\n",
    "    global X_train, Y_train  # Needed for Optuna's objective function\n",
    "    X_train, Y_train = load_data(X_train_path, Y_train_path)\n",
    "\n",
    "    df_pred = pd.read_csv(X_test_path)\n",
    "    X_test = df_pred[\"seq\"].values\n",
    "    # X_test = load_data(X_test_path)\n",
    "\n",
    "    # Run Optuna optimization\n",
    "    study = optuna.create_study(direction=\"maximize\")\n",
    "    study.optimize(objective, n_trials=n_trials)\n",
    "\n",
    "    # Best hyperparameters\n",
    "    best_k = study.best_params[\"k\"]\n",
    "    best_C = study.best_params[\"C\"]\n",
    "    print(f\"Best k: {best_k}, Best C: {best_C}\")\n",
    "\n",
    "    # Train final model with best hyperparameters\n",
    "    K_train = spectrum_kernel_matrix(X_train, X_train, best_k)\n",
    "    K_test = spectrum_kernel_matrix(X_test, X_train, best_k)\n",
    "    alphas, support_vectors, bias = train_svm(K_train, Y_train, best_C)\n",
    "\n",
    "    # Predict on test set\n",
    "    predictions = predict_svm(K_test, alphas, support_vectors, Y_train[support_vectors], bias)\n",
    "\n",
    "    # Convert {-1,1} predictions to {0,1}\n",
    "    predictions = (predictions + 1) // 2\n",
    "\n",
    "    df_pred[\"Bound\"] = predictions\n",
    "\n",
    "    return df_pred"
   ]
  },
  {
   "cell_type": "code",
   "execution_count": null,
   "metadata": {},
   "outputs": [
    {
     "name": "stderr",
     "output_type": "stream",
     "text": [
      "[I 2025-02-21 19:14:18,324] A new study created in memory with name: no-name-931261fe-99e4-4d94-abe0-95374905a67f\n",
      "C:\\Users\\liuce\\AppData\\Local\\Temp\\ipykernel_13288\\1816469161.py:73: FutureWarning: suggest_loguniform has been deprecated in v3.0.0. This feature will be removed in v6.0.0. See https://github.com/optuna/optuna/releases/tag/v3.0.0. Use suggest_float(..., log=True) instead.\n",
      "  C = trial.suggest_loguniform(\"C\", 1e-3, 1e0)  # C in [0.01, 100]\n",
      "[I 2025-02-21 19:14:26,248] Trial 0 finished with value: 0.5699897798848323 and parameters: {'k': 2, 'C': 0.4860433805245759}. Best is trial 0 with value: 0.5699897798848323.\n"
     ]
    },
    {
     "name": "stdout",
     "output_type": "stream",
     "text": [
      "C = 0.4860433805245759, k = 2: 0.5699897798848323\n"
     ]
    },
    {
     "name": "stderr",
     "output_type": "stream",
     "text": [
      "[I 2025-02-21 19:14:33,174] Trial 1 finished with value: 0.5820062941502222 and parameters: {'k': 3, 'C': 0.7765205675026385}. Best is trial 1 with value: 0.5820062941502222.\n"
     ]
    },
    {
     "name": "stdout",
     "output_type": "stream",
     "text": [
      "C = 0.7765205675026385, k = 3: 0.5820062941502222\n"
     ]
    },
    {
     "name": "stderr",
     "output_type": "stream",
     "text": [
      "[I 2025-02-21 19:14:39,748] Trial 2 finished with value: 0.6000138069103587 and parameters: {'k': 4, 'C': 0.037963787831821846}. Best is trial 2 with value: 0.6000138069103587.\n"
     ]
    },
    {
     "name": "stdout",
     "output_type": "stream",
     "text": [
      "C = 0.037963787831821846, k = 4: 0.6000138069103587\n"
     ]
    },
    {
     "name": "stderr",
     "output_type": "stream",
     "text": [
      "[I 2025-02-21 19:14:46,598] Trial 3 finished with value: 0.5709870290080185 and parameters: {'k': 2, 'C': 0.04506931672870658}. Best is trial 2 with value: 0.6000138069103587.\n"
     ]
    },
    {
     "name": "stdout",
     "output_type": "stream",
     "text": [
      "C = 0.04506931672870658, k = 2: 0.5709870290080185\n"
     ]
    },
    {
     "name": "stderr",
     "output_type": "stream",
     "text": [
      "[I 2025-02-21 19:14:53,465] Trial 4 finished with value: 0.6160020590305448 and parameters: {'k': 5, 'C': 0.00522692920587771}. Best is trial 4 with value: 0.6160020590305448.\n"
     ]
    },
    {
     "name": "stdout",
     "output_type": "stream",
     "text": [
      "C = 0.00522692920587771, k = 5: 0.6160020590305448\n"
     ]
    },
    {
     "name": "stderr",
     "output_type": "stream",
     "text": [
      "[I 2025-02-21 19:15:00,241] Trial 5 finished with value: 0.5729875302588946 and parameters: {'k': 2, 'C': 0.04735582063669948}. Best is trial 4 with value: 0.6160020590305448.\n"
     ]
    },
    {
     "name": "stdout",
     "output_type": "stream",
     "text": [
      "C = 0.04735582063669948, k = 2: 0.5729875302588946\n"
     ]
    },
    {
     "name": "stderr",
     "output_type": "stream",
     "text": [
      "[I 2025-02-21 19:15:07,034] Trial 6 finished with value: 0.5924995460227844 and parameters: {'k': 4, 'C': 0.0011221734862310831}. Best is trial 4 with value: 0.6160020590305448.\n"
     ]
    },
    {
     "name": "stdout",
     "output_type": "stream",
     "text": [
      "C = 0.0011221734862310831, k = 4: 0.5924995460227844\n"
     ]
    },
    {
     "name": "stderr",
     "output_type": "stream",
     "text": [
      "[I 2025-02-21 19:15:13,637] Trial 7 finished with value: 0.6055020537779159 and parameters: {'k': 5, 'C': 0.002893090223603513}. Best is trial 4 with value: 0.6160020590305448.\n"
     ]
    },
    {
     "name": "stdout",
     "output_type": "stream",
     "text": [
      "C = 0.002893090223603513, k = 5: 0.6055020537779159\n"
     ]
    },
    {
     "name": "stderr",
     "output_type": "stream",
     "text": [
      "[I 2025-02-21 19:15:20,403] Trial 8 finished with value: 0.5694877786332059 and parameters: {'k': 2, 'C': 0.09632699165494871}. Best is trial 4 with value: 0.6160020590305448.\n"
     ]
    },
    {
     "name": "stdout",
     "output_type": "stream",
     "text": [
      "C = 0.09632699165494871, k = 2: 0.5694877786332059\n"
     ]
    },
    {
     "name": "stderr",
     "output_type": "stream",
     "text": [
      "[I 2025-02-21 19:15:27,233] Trial 9 finished with value: 0.5820085452769111 and parameters: {'k': 5, 'C': 0.18124359768053794}. Best is trial 4 with value: 0.6160020590305448.\n"
     ]
    },
    {
     "name": "stdout",
     "output_type": "stream",
     "text": [
      "C = 0.18124359768053794, k = 5: 0.5820085452769111\n"
     ]
    },
    {
     "name": "stderr",
     "output_type": "stream",
     "text": [
      "[I 2025-02-21 19:15:33,957] Trial 10 finished with value: 0.6145005575290433 and parameters: {'k': 5, 'C': 0.006953673483233831}. Best is trial 4 with value: 0.6160020590305448.\n"
     ]
    },
    {
     "name": "stdout",
     "output_type": "stream",
     "text": [
      "C = 0.006953673483233831, k = 5: 0.6145005575290433\n"
     ]
    },
    {
     "name": "stderr",
     "output_type": "stream",
     "text": [
      "[I 2025-02-21 19:15:40,272] Trial 11 finished with value: 0.6149995572784178 and parameters: {'k': 5, 'C': 0.007709613165644205}. Best is trial 4 with value: 0.6160020590305448.\n"
     ]
    },
    {
     "name": "stdout",
     "output_type": "stream",
     "text": [
      "C = 0.007709613165644205, k = 5: 0.6149995572784178\n"
     ]
    },
    {
     "name": "stderr",
     "output_type": "stream",
     "text": [
      "[I 2025-02-21 19:15:46,787] Trial 12 finished with value: 0.5970078024051038 and parameters: {'k': 4, 'C': 0.008720762900527203}. Best is trial 4 with value: 0.6160020590305448.\n"
     ]
    },
    {
     "name": "stdout",
     "output_type": "stream",
     "text": [
      "C = 0.008720762900527203, k = 4: 0.5970078024051038\n"
     ]
    },
    {
     "name": "stderr",
     "output_type": "stream",
     "text": [
      "[I 2025-02-21 19:15:53,391] Trial 13 finished with value: 0.6045033039036037 and parameters: {'k': 5, 'C': 0.00986572298648419}. Best is trial 4 with value: 0.6160020590305448.\n"
     ]
    },
    {
     "name": "stdout",
     "output_type": "stream",
     "text": [
      "C = 0.00986572298648419, k = 5: 0.6045033039036037\n"
     ]
    },
    {
     "name": "stderr",
     "output_type": "stream",
     "text": [
      "[I 2025-02-21 19:16:00,479] Trial 14 finished with value: 0.5904975440207824 and parameters: {'k': 3, 'C': 0.003036388487957504}. Best is trial 4 with value: 0.6160020590305448.\n"
     ]
    },
    {
     "name": "stdout",
     "output_type": "stream",
     "text": [
      "C = 0.003036388487957504, k = 3: 0.5904975440207824\n"
     ]
    },
    {
     "name": "stderr",
     "output_type": "stream",
     "text": [
      "[I 2025-02-21 19:16:07,491] Trial 15 finished with value: 0.5930120525322925 and parameters: {'k': 4, 'C': 0.015264990079319349}. Best is trial 4 with value: 0.6160020590305448.\n"
     ]
    },
    {
     "name": "stdout",
     "output_type": "stream",
     "text": [
      "C = 0.015264990079319349, k = 4: 0.5930120525322925\n"
     ]
    },
    {
     "name": "stderr",
     "output_type": "stream",
     "text": [
      "[I 2025-02-21 19:16:14,430] Trial 16 finished with value: 0.6075018046532289 and parameters: {'k': 5, 'C': 0.0032508223361963425}. Best is trial 4 with value: 0.6160020590305448.\n"
     ]
    },
    {
     "name": "stdout",
     "output_type": "stream",
     "text": [
      "C = 0.0032508223361963425, k = 5: 0.6075018046532289\n"
     ]
    },
    {
     "name": "stderr",
     "output_type": "stream",
     "text": [
      "[I 2025-02-21 19:16:21,796] Trial 17 finished with value: 0.5854962908935922 and parameters: {'k': 5, 'C': 0.0011526651517446444}. Best is trial 4 with value: 0.6160020590305448.\n"
     ]
    },
    {
     "name": "stdout",
     "output_type": "stream",
     "text": [
      "C = 0.0011526651517446444, k = 5: 0.5854962908935922\n"
     ]
    },
    {
     "name": "stderr",
     "output_type": "stream",
     "text": [
      "[I 2025-02-21 19:16:29,067] Trial 18 finished with value: 0.5915015465240353 and parameters: {'k': 3, 'C': 0.01911345276678152}. Best is trial 4 with value: 0.6160020590305448.\n"
     ]
    },
    {
     "name": "stdout",
     "output_type": "stream",
     "text": [
      "C = 0.01911345276678152, k = 3: 0.5915015465240353\n"
     ]
    },
    {
     "name": "stderr",
     "output_type": "stream",
     "text": [
      "[I 2025-02-21 19:16:35,579] Trial 19 finished with value: 0.5935140537839189 and parameters: {'k': 4, 'C': 0.004716298737137293}. Best is trial 4 with value: 0.6160020590305448.\n"
     ]
    },
    {
     "name": "stdout",
     "output_type": "stream",
     "text": [
      "C = 0.004716298737137293, k = 4: 0.5935140537839189\n",
      "Best k: 5, Best C: 0.00522692920587771\n"
     ]
    },
    {
     "name": "stderr",
     "output_type": "stream",
     "text": [
      "[I 2025-02-21 19:16:42,268] A new study created in memory with name: no-name-a843482b-a685-4b26-854f-e66f81b63edb\n",
      "C:\\Users\\liuce\\AppData\\Local\\Temp\\ipykernel_13288\\1816469161.py:73: FutureWarning: suggest_loguniform has been deprecated in v3.0.0. This feature will be removed in v6.0.0. See https://github.com/optuna/optuna/releases/tag/v3.0.0. Use suggest_float(..., log=True) instead.\n",
      "  C = trial.suggest_loguniform(\"C\", 1e-3, 1e0)  # C in [0.01, 100]\n",
      "[I 2025-02-21 19:16:50,405] Trial 0 finished with value: 0.6255018136577357 and parameters: {'k': 3, 'C': 0.0818482843786816}. Best is trial 0 with value: 0.6255018136577357.\n"
     ]
    },
    {
     "name": "stdout",
     "output_type": "stream",
     "text": [
      "C = 0.0818482843786816, k = 3: 0.6255018136577357\n"
     ]
    },
    {
     "name": "stderr",
     "output_type": "stream",
     "text": [
      "[I 2025-02-21 19:16:59,794] Trial 1 finished with value: 0.6205043124083603 and parameters: {'k': 3, 'C': 0.013211481271136956}. Best is trial 0 with value: 0.6255018136577357.\n"
     ]
    },
    {
     "name": "stdout",
     "output_type": "stream",
     "text": [
      "C = 0.013211481271136956, k = 3: 0.6205043124083603\n"
     ]
    },
    {
     "name": "stderr",
     "output_type": "stream",
     "text": [
      "[I 2025-02-21 19:17:07,788] Trial 2 finished with value: 0.5860012936474707 and parameters: {'k': 2, 'C': 0.028152404219249284}. Best is trial 0 with value: 0.6255018136577357.\n"
     ]
    },
    {
     "name": "stdout",
     "output_type": "stream",
     "text": [
      "C = 0.028152404219249284, k = 2: 0.5860012936474707\n"
     ]
    },
    {
     "name": "stderr",
     "output_type": "stream",
     "text": [
      "[I 2025-02-21 19:17:16,177] Trial 3 finished with value: 0.5779977878928403 and parameters: {'k': 2, 'C': 0.010156217508594512}. Best is trial 0 with value: 0.6255018136577357.\n"
     ]
    },
    {
     "name": "stdout",
     "output_type": "stream",
     "text": [
      "C = 0.010156217508594512, k = 2: 0.5779977878928403\n"
     ]
    },
    {
     "name": "stderr",
     "output_type": "stream",
     "text": [
      "[I 2025-02-21 19:17:23,490] Trial 4 finished with value: 0.6730080905493199 and parameters: {'k': 5, 'C': 0.0032162743656388914}. Best is trial 4 with value: 0.6730080905493199.\n"
     ]
    },
    {
     "name": "stdout",
     "output_type": "stream",
     "text": [
      "C = 0.0032162743656388914, k = 5: 0.6730080905493199\n"
     ]
    },
    {
     "name": "stderr",
     "output_type": "stream",
     "text": [
      "[I 2025-02-21 19:17:30,973] Trial 5 finished with value: 0.6655050852951903 and parameters: {'k': 5, 'C': 0.013453752462349125}. Best is trial 4 with value: 0.6730080905493199.\n"
     ]
    },
    {
     "name": "stdout",
     "output_type": "stream",
     "text": [
      "C = 0.013453752462349125, k = 5: 0.6655050852951903\n"
     ]
    },
    {
     "name": "stderr",
     "output_type": "stream",
     "text": [
      "[I 2025-02-21 19:17:38,704] Trial 6 finished with value: 0.6329980655317987 and parameters: {'k': 4, 'C': 0.014609292931736264}. Best is trial 4 with value: 0.6730080905493199.\n"
     ]
    },
    {
     "name": "stdout",
     "output_type": "stream",
     "text": [
      "C = 0.014609292931736264, k = 4: 0.6329980655317987\n"
     ]
    },
    {
     "name": "stderr",
     "output_type": "stream",
     "text": [
      "[I 2025-02-21 19:17:46,585] Trial 7 finished with value: 0.5774972873923399 and parameters: {'k': 2, 'C': 0.006791236053543397}. Best is trial 4 with value: 0.6730080905493199.\n"
     ]
    },
    {
     "name": "stdout",
     "output_type": "stream",
     "text": [
      "C = 0.006791236053543397, k = 2: 0.5774972873923399\n"
     ]
    },
    {
     "name": "stderr",
     "output_type": "stream",
     "text": [
      "[I 2025-02-21 19:17:54,393] Trial 8 finished with value: 0.6180033106569839 and parameters: {'k': 3, 'C': 0.4643213998239667}. Best is trial 4 with value: 0.6730080905493199.\n"
     ]
    },
    {
     "name": "stdout",
     "output_type": "stream",
     "text": [
      "C = 0.4643213998239667, k = 3: 0.6180033106569839\n"
     ]
    },
    {
     "name": "stderr",
     "output_type": "stream",
     "text": [
      "[I 2025-02-21 19:18:02,395] Trial 9 finished with value: 0.5905012958985972 and parameters: {'k': 2, 'C': 0.8221955656979055}. Best is trial 4 with value: 0.6730080905493199.\n"
     ]
    },
    {
     "name": "stdout",
     "output_type": "stream",
     "text": [
      "C = 0.8221955656979055, k = 2: 0.5905012958985972\n"
     ]
    },
    {
     "name": "stderr",
     "output_type": "stream",
     "text": [
      "[I 2025-02-21 19:18:09,775] Trial 10 finished with value: 0.6590068329198764 and parameters: {'k': 5, 'C': 0.001067084864075745}. Best is trial 4 with value: 0.6730080905493199.\n"
     ]
    },
    {
     "name": "stdout",
     "output_type": "stream",
     "text": [
      "C = 0.001067084864075745, k = 5: 0.6590068329198764\n"
     ]
    },
    {
     "name": "stderr",
     "output_type": "stream",
     "text": [
      "[I 2025-02-21 19:18:17,400] Trial 11 finished with value: 0.6685065875470673 and parameters: {'k': 5, 'C': 0.0019199060764942349}. Best is trial 4 with value: 0.6730080905493199.\n"
     ]
    },
    {
     "name": "stdout",
     "output_type": "stream",
     "text": [
      "C = 0.0019199060764942349, k = 5: 0.6685065875470673\n"
     ]
    },
    {
     "name": "stderr",
     "output_type": "stream",
     "text": [
      "[I 2025-02-21 19:18:24,555] Trial 12 finished with value: 0.6630100865483174 and parameters: {'k': 5, 'C': 0.0012297355939132476}. Best is trial 4 with value: 0.6730080905493199.\n"
     ]
    },
    {
     "name": "stdout",
     "output_type": "stream",
     "text": [
      "C = 0.0012297355939132476, k = 5: 0.6630100865483174\n"
     ]
    },
    {
     "name": "stderr",
     "output_type": "stream",
     "text": [
      "[I 2025-02-21 19:18:31,563] Trial 13 finished with value: 0.6430028229128678 and parameters: {'k': 4, 'C': 0.003117722071079087}. Best is trial 4 with value: 0.6730080905493199.\n"
     ]
    },
    {
     "name": "stdout",
     "output_type": "stream",
     "text": [
      "C = 0.003117722071079087, k = 4: 0.6430028229128678\n"
     ]
    },
    {
     "name": "stderr",
     "output_type": "stream",
     "text": [
      "[I 2025-02-21 19:18:39,239] Trial 14 finished with value: 0.645001823412618 and parameters: {'k': 4, 'C': 0.003710514433061992}. Best is trial 4 with value: 0.6730080905493199.\n"
     ]
    },
    {
     "name": "stdout",
     "output_type": "stream",
     "text": [
      "C = 0.003710514433061992, k = 4: 0.645001823412618\n"
     ]
    },
    {
     "name": "stderr",
     "output_type": "stream",
     "text": [
      "[I 2025-02-21 19:18:46,826] Trial 15 finished with value: 0.6630055842949396 and parameters: {'k': 5, 'C': 0.08399211849691202}. Best is trial 4 with value: 0.6730080905493199.\n"
     ]
    },
    {
     "name": "stdout",
     "output_type": "stream",
     "text": [
      "C = 0.08399211849691202, k = 5: 0.6630055842949396\n"
     ]
    },
    {
     "name": "stderr",
     "output_type": "stream",
     "text": [
      "[I 2025-02-21 19:18:54,557] Trial 16 finished with value: 0.645001823412618 and parameters: {'k': 4, 'C': 0.002356692359509429}. Best is trial 4 with value: 0.6730080905493199.\n"
     ]
    },
    {
     "name": "stdout",
     "output_type": "stream",
     "text": [
      "C = 0.002356692359509429, k = 4: 0.645001823412618\n"
     ]
    },
    {
     "name": "stderr",
     "output_type": "stream",
     "text": [
      "[I 2025-02-21 19:19:02,731] Trial 17 finished with value: 0.6695060877969423 and parameters: {'k': 5, 'C': 0.005096608453223425}. Best is trial 4 with value: 0.6730080905493199.\n"
     ]
    },
    {
     "name": "stdout",
     "output_type": "stream",
     "text": [
      "C = 0.005096608453223425, k = 5: 0.6695060877969423\n"
     ]
    },
    {
     "name": "stderr",
     "output_type": "stream",
     "text": [
      "[I 2025-02-21 19:19:10,337] Trial 18 finished with value: 0.6670058364211288 and parameters: {'k': 5, 'C': 0.005376109210424385}. Best is trial 4 with value: 0.6730080905493199.\n"
     ]
    },
    {
     "name": "stdout",
     "output_type": "stream",
     "text": [
      "C = 0.005376109210424385, k = 5: 0.6670058364211288\n"
     ]
    },
    {
     "name": "stderr",
     "output_type": "stream",
     "text": [
      "[I 2025-02-21 19:19:18,467] Trial 19 finished with value: 0.6375003189096142 and parameters: {'k': 4, 'C': 0.05826853797883022}. Best is trial 4 with value: 0.6730080905493199.\n"
     ]
    },
    {
     "name": "stdout",
     "output_type": "stream",
     "text": [
      "C = 0.05826853797883022, k = 4: 0.6375003189096142\n",
      "Best k: 5, Best C: 0.0032162743656388914\n"
     ]
    },
    {
     "name": "stderr",
     "output_type": "stream",
     "text": [
      "[I 2025-02-21 19:19:25,379] A new study created in memory with name: no-name-b43f03d5-a0f1-4c64-a76f-9fa99f819c65\n",
      "C:\\Users\\liuce\\AppData\\Local\\Temp\\ipykernel_13288\\1816469161.py:73: FutureWarning: suggest_loguniform has been deprecated in v3.0.0. This feature will be removed in v6.0.0. See https://github.com/optuna/optuna/releases/tag/v3.0.0. Use suggest_float(..., log=True) instead.\n",
      "  C = trial.suggest_loguniform(\"C\", 1e-3, 1e0)  # C in [0.01, 100]\n",
      "[I 2025-02-21 19:19:33,055] Trial 0 finished with value: 0.6220073146609878 and parameters: {'k': 5, 'C': 0.004817169309834877}. Best is trial 0 with value: 0.6220073146609878.\n"
     ]
    },
    {
     "name": "stdout",
     "output_type": "stream",
     "text": [
      "C = 0.004817169309834877, k = 5: 0.6220073146609878\n"
     ]
    },
    {
     "name": "stderr",
     "output_type": "stream",
     "text": [
      "[I 2025-02-21 19:19:41,598] Trial 1 finished with value: 0.5950012981497239 and parameters: {'k': 2, 'C': 0.006408218842486696}. Best is trial 0 with value: 0.6220073146609878.\n"
     ]
    },
    {
     "name": "stdout",
     "output_type": "stream",
     "text": [
      "C = 0.006408218842486696, k = 2: 0.5950012981497239\n"
     ]
    },
    {
     "name": "stderr",
     "output_type": "stream",
     "text": [
      "[I 2025-02-21 19:19:50,670] Trial 2 finished with value: 0.5985048016532274 and parameters: {'k': 2, 'C': 0.013223586472214654}. Best is trial 0 with value: 0.6220073146609878.\n"
     ]
    },
    {
     "name": "stdout",
     "output_type": "stream",
     "text": [
      "C = 0.013223586472214654, k = 2: 0.5985048016532274\n"
     ]
    },
    {
     "name": "stderr",
     "output_type": "stream",
     "text": [
      "[I 2025-02-21 19:19:58,511] Trial 3 finished with value: 0.6074958016487252 and parameters: {'k': 4, 'C': 0.08142229068758683}. Best is trial 0 with value: 0.6220073146609878.\n"
     ]
    },
    {
     "name": "stdout",
     "output_type": "stream",
     "text": [
      "C = 0.08142229068758683, k = 4: 0.6074958016487252\n"
     ]
    },
    {
     "name": "stderr",
     "output_type": "stream",
     "text": [
      "[I 2025-02-21 19:20:07,069] Trial 4 finished with value: 0.6090115602859232 and parameters: {'k': 3, 'C': 0.016054489502643182}. Best is trial 0 with value: 0.6220073146609878.\n"
     ]
    },
    {
     "name": "stdout",
     "output_type": "stream",
     "text": [
      "C = 0.016054489502643182, k = 3: 0.6090115602859232\n"
     ]
    },
    {
     "name": "stderr",
     "output_type": "stream",
     "text": [
      "[I 2025-02-21 19:20:14,565] Trial 5 finished with value: 0.6120093106599853 and parameters: {'k': 5, 'C': 0.002959361779052844}. Best is trial 0 with value: 0.6220073146609878.\n"
     ]
    },
    {
     "name": "stdout",
     "output_type": "stream",
     "text": [
      "C = 0.002959361779052844, k = 5: 0.6120093106599853\n"
     ]
    },
    {
     "name": "stderr",
     "output_type": "stream",
     "text": [
      "[I 2025-02-21 19:20:23,601] Trial 6 finished with value: 0.6050150600375488 and parameters: {'k': 3, 'C': 0.24276542751464475}. Best is trial 0 with value: 0.6220073146609878.\n"
     ]
    },
    {
     "name": "stdout",
     "output_type": "stream",
     "text": [
      "C = 0.24276542751464475, k = 3: 0.6050150600375488\n"
     ]
    },
    {
     "name": "stderr",
     "output_type": "stream",
     "text": [
      "[I 2025-02-21 19:20:32,245] Trial 7 finished with value: 0.6009990500245372 and parameters: {'k': 4, 'C': 0.2889210212566755}. Best is trial 0 with value: 0.6220073146609878.\n"
     ]
    },
    {
     "name": "stdout",
     "output_type": "stream",
     "text": [
      "C = 0.2889210212566755, k = 4: 0.6009990500245372\n"
     ]
    },
    {
     "name": "stderr",
     "output_type": "stream",
     "text": [
      "[I 2025-02-21 19:20:40,822] Trial 8 finished with value: 0.5975045510277894 and parameters: {'k': 2, 'C': 0.01377307906890249}. Best is trial 0 with value: 0.6220073146609878.\n"
     ]
    },
    {
     "name": "stdout",
     "output_type": "stream",
     "text": [
      "C = 0.01377307906890249, k = 2: 0.5975045510277894\n"
     ]
    },
    {
     "name": "stderr",
     "output_type": "stream",
     "text": [
      "[I 2025-02-21 19:20:48,002] Trial 9 finished with value: 0.584011297654476 and parameters: {'k': 5, 'C': 0.6687070769296843}. Best is trial 0 with value: 0.6220073146609878.\n"
     ]
    },
    {
     "name": "stdout",
     "output_type": "stream",
     "text": [
      "C = 0.6687070769296843, k = 5: 0.584011297654476\n"
     ]
    },
    {
     "name": "stderr",
     "output_type": "stream",
     "text": [
      "[I 2025-02-21 19:20:56,174] Trial 10 finished with value: 0.6130073101587344 and parameters: {'k': 5, 'C': 0.0013328984742830118}. Best is trial 0 with value: 0.6220073146609878.\n"
     ]
    },
    {
     "name": "stdout",
     "output_type": "stream",
     "text": [
      "C = 0.0013328984742830118, k = 5: 0.6130073101587344\n"
     ]
    },
    {
     "name": "stderr",
     "output_type": "stream",
     "text": [
      "[I 2025-02-21 19:21:04,585] Trial 11 finished with value: 0.6105100602851727 and parameters: {'k': 5, 'C': 0.0011000925812063558}. Best is trial 0 with value: 0.6220073146609878.\n"
     ]
    },
    {
     "name": "stdout",
     "output_type": "stream",
     "text": [
      "C = 0.0011000925812063558, k = 5: 0.6105100602851727\n"
     ]
    },
    {
     "name": "stderr",
     "output_type": "stream",
     "text": [
      "[I 2025-02-21 19:21:12,055] Trial 12 finished with value: 0.6090175632904269 and parameters: {'k': 4, 'C': 0.0012847879700535986}. Best is trial 0 with value: 0.6220073146609878.\n"
     ]
    },
    {
     "name": "stdout",
     "output_type": "stream",
     "text": [
      "C = 0.0012847879700535986, k = 4: 0.6090175632904269\n"
     ]
    },
    {
     "name": "stderr",
     "output_type": "stream",
     "text": [
      "[I 2025-02-21 19:21:19,575] Trial 13 finished with value: 0.6185053119086102 and parameters: {'k': 5, 'C': 0.0038334400886329127}. Best is trial 0 with value: 0.6220073146609878.\n"
     ]
    },
    {
     "name": "stdout",
     "output_type": "stream",
     "text": [
      "C = 0.0038334400886329127, k = 5: 0.6185053119086102\n"
     ]
    },
    {
     "name": "stderr",
     "output_type": "stream",
     "text": [
      "[I 2025-02-21 19:21:27,078] Trial 14 finished with value: 0.6195108151629891 and parameters: {'k': 4, 'C': 0.004938317309903191}. Best is trial 0 with value: 0.6220073146609878.\n"
     ]
    },
    {
     "name": "stdout",
     "output_type": "stream",
     "text": [
      "C = 0.004938317309903191, k = 4: 0.6195108151629891\n"
     ]
    },
    {
     "name": "stderr",
     "output_type": "stream",
     "text": [
      "[I 2025-02-21 19:21:35,207] Trial 15 finished with value: 0.603497800649225 and parameters: {'k': 4, 'C': 0.045539654994929304}. Best is trial 0 with value: 0.6220073146609878.\n"
     ]
    },
    {
     "name": "stdout",
     "output_type": "stream",
     "text": [
      "C = 0.045539654994929304, k = 4: 0.603497800649225\n"
     ]
    },
    {
     "name": "stderr",
     "output_type": "stream",
     "text": [
      "[I 2025-02-21 19:21:42,952] Trial 16 finished with value: 0.6080105592849221 and parameters: {'k': 3, 'C': 0.004469254931550909}. Best is trial 0 with value: 0.6220073146609878.\n"
     ]
    },
    {
     "name": "stdout",
     "output_type": "stream",
     "text": [
      "C = 0.004469254931550909, k = 3: 0.6080105592849221\n"
     ]
    },
    {
     "name": "stderr",
     "output_type": "stream",
     "text": [
      "[I 2025-02-21 19:21:50,593] Trial 17 finished with value: 0.6125023074048562 and parameters: {'k': 4, 'C': 0.031107143284761617}. Best is trial 0 with value: 0.6220073146609878.\n"
     ]
    },
    {
     "name": "stdout",
     "output_type": "stream",
     "text": [
      "C = 0.031107143284761617, k = 4: 0.6125023074048562\n"
     ]
    },
    {
     "name": "stderr",
     "output_type": "stream",
     "text": [
      "[I 2025-02-21 19:21:57,746] Trial 18 finished with value: 0.6295118206662434 and parameters: {'k': 5, 'C': 0.007925224469777689}. Best is trial 18 with value: 0.6295118206662434.\n"
     ]
    },
    {
     "name": "stdout",
     "output_type": "stream",
     "text": [
      "C = 0.007925224469777689, k = 5: 0.6295118206662434\n"
     ]
    },
    {
     "name": "stderr",
     "output_type": "stream",
     "text": [
      "[I 2025-02-21 19:22:05,461] Trial 19 finished with value: 0.6255108181644914 and parameters: {'k': 5, 'C': 0.00940072197718209}. Best is trial 18 with value: 0.6295118206662434.\n"
     ]
    },
    {
     "name": "stdout",
     "output_type": "stream",
     "text": [
      "C = 0.00940072197718209, k = 5: 0.6255108181644914\n",
      "Best k: 5, Best C: 0.007925224469777689\n"
     ]
    }
   ],
   "source": [
    "\n",
    "# === Run the function with hyperparameter tuning ===\n",
    "prediction_0 = train_and_predict_spectrum_svm(\"./data/Xtr0.csv\", \"./data/Ytr0.csv\", \"./data/Xte0.csv\", n_trials=20)\n",
    "prediction_1 = train_and_predict_spectrum_svm(\"./data/Xtr1.csv\", \"./data/Ytr1.csv\", \"./data/Xte1.csv\", n_trials=20)\n",
    "prediction_2 = train_and_predict_spectrum_svm(\"./data/Xtr2.csv\", \"./data/Ytr2.csv\", \"./data/Xte2.csv\", n_trials=20)"
   ]
  },
  {
   "cell_type": "code",
   "execution_count": 7,
   "metadata": {},
   "outputs": [],
   "source": [
    "def save_to_csv(df_0, df_1, df_2, suffixe = \"\"):\n",
    "    res = pd.concat([df_0, df_1, df_2], ignore_index = True)\n",
    "    res[\"Bound\"] = res[\"Bound\"].astype(\"int\")\n",
    "    res[[\"Id\", \"Bound\"]].to_csv(f\"./results/predictions_{suffixe}.csv\", index = False)\n",
    "    return\n",
    "    # df_pred.to_csv(\"predictions.csv\""
   ]
  },
  {
   "cell_type": "code",
   "execution_count": 20,
   "metadata": {},
   "outputs": [],
   "source": [
    "save_to_csv(prediction_0, prediction_1, prediction_2)"
   ]
  },
  {
   "cell_type": "markdown",
   "metadata": {},
   "source": [
    "# Spectrum kernel with logistic regression"
   ]
  },
  {
   "cell_type": "code",
   "execution_count": 8,
   "metadata": {},
   "outputs": [
    {
     "name": "stderr",
     "output_type": "stream",
     "text": [
      "[I 2025-02-24 16:06:21,728] A new study created in memory with name: no-name-b0f00558-8592-4025-8971-68258e4fa337\n",
      "C:\\Users\\liuce\\AppData\\Local\\Temp\\ipykernel_15328\\894395037.py:3: RuntimeWarning: overflow encountered in exp\n",
      "  return 1 / (1 + np.exp(-z))\n",
      "[I 2025-02-24 16:06:24,630] Trial 0 finished with value: 0.49450800125462796 and parameters: {'k': 3, 'C': 0.1522700303229262, 'threshold': 0.5071690092608194}. Best is trial 0 with value: 0.49450800125462796.\n"
     ]
    },
    {
     "name": "stdout",
     "output_type": "stream",
     "text": [
      "C = 0.1522700303229262, k = 3: 0.49450800125462796\n"
     ]
    },
    {
     "name": "stderr",
     "output_type": "stream",
     "text": [
      "[I 2025-02-24 16:06:27,603] Trial 1 finished with value: 0.5160002581291936 and parameters: {'k': 6, 'C': 0.3915350126854863, 'threshold': 0.4886432415948424}. Best is trial 1 with value: 0.5160002581291936.\n"
     ]
    },
    {
     "name": "stdout",
     "output_type": "stream",
     "text": [
      "C = 0.3915350126854863, k = 6: 0.5160002581291936\n"
     ]
    },
    {
     "name": "stderr",
     "output_type": "stream",
     "text": [
      "[I 2025-02-24 16:06:29,976] Trial 2 finished with value: 0.488500494497496 and parameters: {'k': 2, 'C': 0.02769345731545997, 'threshold': 0.5070951983618185}. Best is trial 1 with value: 0.5160002581291936.\n"
     ]
    },
    {
     "name": "stdout",
     "output_type": "stream",
     "text": [
      "C = 0.02769345731545997, k = 2: 0.488500494497496\n"
     ]
    },
    {
     "name": "stderr",
     "output_type": "stream",
     "text": [
      "[I 2025-02-24 16:06:32,592] Trial 3 finished with value: 0.5005057531294413 and parameters: {'k': 4, 'C': 0.016143017299670912, 'threshold': 0.49790708950667606}. Best is trial 1 with value: 0.5160002581291936.\n"
     ]
    },
    {
     "name": "stdout",
     "output_type": "stream",
     "text": [
      "C = 0.016143017299670912, k = 4: 0.5005057531294413\n"
     ]
    },
    {
     "name": "stderr",
     "output_type": "stream",
     "text": [
      "[I 2025-02-24 16:06:35,270] Trial 4 finished with value: 0.49950775363069216 and parameters: {'k': 5, 'C': 0.34802770574802827, 'threshold': 0.4972895250912335}. Best is trial 1 with value: 0.5160002581291936.\n"
     ]
    },
    {
     "name": "stdout",
     "output_type": "stream",
     "text": [
      "C = 0.34802770574802827, k = 5: 0.49950775363069216\n"
     ]
    },
    {
     "name": "stderr",
     "output_type": "stream",
     "text": [
      "[I 2025-02-24 16:06:38,013] Trial 5 finished with value: 0.5025070047558803 and parameters: {'k': 5, 'C': 0.2789423532704591, 'threshold': 0.5098924941944678}. Best is trial 1 with value: 0.5160002581291936.\n"
     ]
    },
    {
     "name": "stdout",
     "output_type": "stream",
     "text": [
      "C = 0.2789423532704591, k = 5: 0.5025070047558803\n"
     ]
    },
    {
     "name": "stderr",
     "output_type": "stream",
     "text": [
      "[I 2025-02-24 16:06:40,610] Trial 6 finished with value: 0.49300124712418564 and parameters: {'k': 4, 'C': 0.612685045427793, 'threshold': 0.4992106657333515}. Best is trial 1 with value: 0.5160002581291936.\n"
     ]
    },
    {
     "name": "stdout",
     "output_type": "stream",
     "text": [
      "C = 0.612685045427793, k = 4: 0.49300124712418564\n"
     ]
    },
    {
     "name": "stderr",
     "output_type": "stream",
     "text": [
      "[I 2025-02-24 16:06:43,688] Trial 7 finished with value: 0.5250115182648917 and parameters: {'k': 6, 'C': 0.470350374155682, 'threshold': 0.5023812335439868}. Best is trial 7 with value: 0.5250115182648917.\n"
     ]
    },
    {
     "name": "stdout",
     "output_type": "stream",
     "text": [
      "C = 0.470350374155682, k = 6: 0.5250115182648917\n"
     ]
    },
    {
     "name": "stderr",
     "output_type": "stream",
     "text": [
      "[I 2025-02-24 16:06:46,804] Trial 8 finished with value: 0.5040175107641375 and parameters: {'k': 6, 'C': 0.9298564999583202, 'threshold': 0.5057908926734325}. Best is trial 7 with value: 0.5250115182648917.\n"
     ]
    },
    {
     "name": "stdout",
     "output_type": "stream",
     "text": [
      "C = 0.9298564999583202, k = 6: 0.5040175107641375\n"
     ]
    },
    {
     "name": "stderr",
     "output_type": "stream",
     "text": [
      "[I 2025-02-24 16:06:49,607] Trial 9 finished with value: 0.5115085100092597 and parameters: {'k': 5, 'C': 0.1620398490070341, 'threshold': 0.4865912663832645}. Best is trial 7 with value: 0.5250115182648917.\n"
     ]
    },
    {
     "name": "stdout",
     "output_type": "stream",
     "text": [
      "C = 0.1620398490070341, k = 5: 0.5115085100092597\n"
     ]
    },
    {
     "name": "stderr",
     "output_type": "stream",
     "text": [
      "[I 2025-02-24 16:06:53,476] Trial 10 finished with value: 0.5444980212596404 and parameters: {'k': 6, 'C': 0.05527774672114904, 'threshold': 0.49154779019248745}. Best is trial 10 with value: 0.5444980212596404.\n"
     ]
    },
    {
     "name": "stdout",
     "output_type": "stream",
     "text": [
      "C = 0.05527774672114904, k = 6: 0.5444980212596404\n"
     ]
    },
    {
     "name": "stderr",
     "output_type": "stream",
     "text": [
      "[I 2025-02-24 16:06:57,139] Trial 11 finished with value: 0.5650102876489683 and parameters: {'k': 6, 'C': 0.053544648178012764, 'threshold': 0.48004993143439206}. Best is trial 11 with value: 0.5650102876489683.\n"
     ]
    },
    {
     "name": "stdout",
     "output_type": "stream",
     "text": [
      "C = 0.053544648178012764, k = 6: 0.5650102876489683\n"
     ]
    },
    {
     "name": "stderr",
     "output_type": "stream",
     "text": [
      "[I 2025-02-24 16:07:01,070] Trial 12 finished with value: 0.5515102808955882 and parameters: {'k': 6, 'C': 0.048748957755943484, 'threshold': 0.4806712463695473}. Best is trial 11 with value: 0.5650102876489683.\n"
     ]
    },
    {
     "name": "stdout",
     "output_type": "stream",
     "text": [
      "C = 0.048748957755943484, k = 6: 0.5515102808955882\n"
     ]
    },
    {
     "name": "stderr",
     "output_type": "stream",
     "text": [
      "[I 2025-02-24 16:07:04,409] Trial 13 finished with value: 0.5210037623830727 and parameters: {'k': 5, 'C': 0.06208610306282273, 'threshold': 0.48127985399082635}. Best is trial 11 with value: 0.5650102876489683.\n"
     ]
    },
    {
     "name": "stdout",
     "output_type": "stream",
     "text": [
      "C = 0.06208610306282273, k = 5: 0.5210037623830727\n"
     ]
    },
    {
     "name": "stderr",
     "output_type": "stream",
     "text": [
      "[I 2025-02-24 16:07:07,568] Trial 14 finished with value: 0.49250299775037404 and parameters: {'k': 3, 'C': 0.03444959663481846, 'threshold': 0.4801826783343527}. Best is trial 11 with value: 0.5650102876489683.\n"
     ]
    },
    {
     "name": "stdout",
     "output_type": "stream",
     "text": [
      "C = 0.03444959663481846, k = 3: 0.49250299775037404\n"
     ]
    },
    {
     "name": "stderr",
     "output_type": "stream",
     "text": [
      "[I 2025-02-24 16:07:11,131] Trial 15 finished with value: 0.5010047528788159 and parameters: {'k': 4, 'C': 0.010154354037281228, 'threshold': 0.4842692418098473}. Best is trial 11 with value: 0.5650102876489683.\n"
     ]
    },
    {
     "name": "stdout",
     "output_type": "stream",
     "text": [
      "C = 0.010154354037281228, k = 4: 0.5010047528788159\n"
     ]
    },
    {
     "name": "stderr",
     "output_type": "stream",
     "text": [
      "[I 2025-02-24 16:07:15,044] Trial 16 finished with value: 0.5325032678855767 and parameters: {'k': 6, 'C': 0.07908581020216288, 'threshold': 0.4923592568232516}. Best is trial 11 with value: 0.5650102876489683.\n"
     ]
    },
    {
     "name": "stdout",
     "output_type": "stream",
     "text": [
      "C = 0.07908581020216288, k = 6: 0.5325032678855767\n"
     ]
    },
    {
     "name": "stderr",
     "output_type": "stream",
     "text": [
      "[I 2025-02-24 16:07:18,094] Trial 17 finished with value: 0.5240052646349498 and parameters: {'k': 5, 'C': 0.03397463650830244, 'threshold': 0.4838239534633762}. Best is trial 11 with value: 0.5650102876489683.\n"
     ]
    },
    {
     "name": "stdout",
     "output_type": "stream",
     "text": [
      "C = 0.03397463650830244, k = 5: 0.5240052646349498\n"
     ]
    },
    {
     "name": "stderr",
     "output_type": "stream",
     "text": [
      "[I 2025-02-24 16:07:20,986] Trial 18 finished with value: 0.4950077513795655 and parameters: {'k': 3, 'C': 0.12680150604687956, 'threshold': 0.4883069884344368}. Best is trial 11 with value: 0.5650102876489683.\n"
     ]
    },
    {
     "name": "stdout",
     "output_type": "stream",
     "text": [
      "C = 0.12680150604687956, k = 3: 0.4950077513795655\n"
     ]
    },
    {
     "name": "stderr",
     "output_type": "stream",
     "text": [
      "[I 2025-02-24 16:07:24,374] Trial 19 finished with value: 0.582013797905852 and parameters: {'k': 6, 'C': 0.02024923961544178, 'threshold': 0.48393262784412083}. Best is trial 19 with value: 0.582013797905852.\n"
     ]
    },
    {
     "name": "stdout",
     "output_type": "stream",
     "text": [
      "C = 0.02024923961544178, k = 6: 0.582013797905852\n"
     ]
    },
    {
     "name": "stderr",
     "output_type": "stream",
     "text": [
      "[I 2025-02-24 16:07:27,357] Trial 20 finished with value: 0.5000052526289408 and parameters: {'k': 4, 'C': 0.018049382589429924, 'threshold': 0.48373213164806017}. Best is trial 19 with value: 0.582013797905852.\n"
     ]
    },
    {
     "name": "stdout",
     "output_type": "stream",
     "text": [
      "C = 0.018049382589429924, k = 4: 0.5000052526289408\n"
     ]
    },
    {
     "name": "stderr",
     "output_type": "stream",
     "text": [
      "[I 2025-02-24 16:07:30,609] Trial 21 finished with value: 0.5724802763783273 and parameters: {'k': 6, 'C': 0.04612092923803916, 'threshold': 0.4811076631985286}. Best is trial 19 with value: 0.582013797905852.\n"
     ]
    },
    {
     "name": "stdout",
     "output_type": "stream",
     "text": [
      "C = 0.04612092923803916, k = 6: 0.5724802763783273\n"
     ]
    },
    {
     "name": "stderr",
     "output_type": "stream",
     "text": [
      "[I 2025-02-24 16:07:33,994] Trial 22 finished with value: 0.5795172984078532 and parameters: {'k': 6, 'C': 0.01798983673058243, 'threshold': 0.48631646890947416}. Best is trial 19 with value: 0.582013797905852.\n"
     ]
    },
    {
     "name": "stdout",
     "output_type": "stream",
     "text": [
      "C = 0.01798983673058243, k = 6: 0.5795172984078532\n"
     ]
    },
    {
     "name": "stderr",
     "output_type": "stream",
     "text": [
      "[I 2025-02-24 16:07:37,074] Trial 23 finished with value: 0.5265055160107633 and parameters: {'k': 5, 'C': 0.017420586943529638, 'threshold': 0.486107878143836}. Best is trial 19 with value: 0.582013797905852.\n"
     ]
    },
    {
     "name": "stdout",
     "output_type": "stream",
     "text": [
      "C = 0.017420586943529638, k = 5: 0.5265055160107633\n"
     ]
    },
    {
     "name": "stderr",
     "output_type": "stream",
     "text": [
      "[I 2025-02-24 16:07:40,626] Trial 24 finished with value: 0.573513543528536 and parameters: {'k': 6, 'C': 0.01082612163979407, 'threshold': 0.49109466137664115}. Best is trial 19 with value: 0.582013797905852.\n"
     ]
    },
    {
     "name": "stdout",
     "output_type": "stream",
     "text": [
      "C = 0.01082612163979407, k = 6: 0.573513543528536\n"
     ]
    },
    {
     "name": "stderr",
     "output_type": "stream",
     "text": [
      "[I 2025-02-24 16:07:44,966] Trial 25 finished with value: 0.5325040182611397 and parameters: {'k': 5, 'C': 0.010250102678983698, 'threshold': 0.4905519183265818}. Best is trial 19 with value: 0.582013797905852.\n"
     ]
    },
    {
     "name": "stdout",
     "output_type": "stream",
     "text": [
      "C = 0.010250102678983698, k = 5: 0.5325040182611397\n"
     ]
    },
    {
     "name": "stderr",
     "output_type": "stream",
     "text": [
      "[I 2025-02-24 16:07:49,644] Trial 26 finished with value: 0.5709847778813296 and parameters: {'k': 6, 'C': 0.02382832255253754, 'threshold': 0.49503400847139295}. Best is trial 19 with value: 0.582013797905852.\n"
     ]
    },
    {
     "name": "stdout",
     "output_type": "stream",
     "text": [
      "C = 0.02382832255253754, k = 6: 0.5709847778813296\n"
     ]
    },
    {
     "name": "stderr",
     "output_type": "stream",
     "text": [
      "[I 2025-02-24 16:07:52,361] Trial 27 finished with value: 0.488500494497496 and parameters: {'k': 2, 'C': 0.014114058985173532, 'threshold': 0.4946258726273587}. Best is trial 19 with value: 0.582013797905852.\n"
     ]
    },
    {
     "name": "stdout",
     "output_type": "stream",
     "text": [
      "C = 0.014114058985173532, k = 2: 0.488500494497496\n"
     ]
    },
    {
     "name": "stderr",
     "output_type": "stream",
     "text": [
      "[I 2025-02-24 16:07:55,347] Trial 28 finished with value: 0.5285037661349504 and parameters: {'k': 5, 'C': 0.02361353087050417, 'threshold': 0.489208163230158}. Best is trial 19 with value: 0.582013797905852.\n"
     ]
    },
    {
     "name": "stdout",
     "output_type": "stream",
     "text": [
      "C = 0.02361353087050417, k = 5: 0.5285037661349504\n"
     ]
    },
    {
     "name": "stderr",
     "output_type": "stream",
     "text": [
      "[I 2025-02-24 16:07:58,401] Trial 29 finished with value: 0.4950077513795655 and parameters: {'k': 3, 'C': 0.01257561820104729, 'threshold': 0.48602911953544226}. Best is trial 19 with value: 0.582013797905852.\n"
     ]
    },
    {
     "name": "stdout",
     "output_type": "stream",
     "text": [
      "C = 0.01257561820104729, k = 3: 0.4950077513795655\n",
      "Best k: 6, Best C: 0.02024923961544178, Best threshold: 0.48393262784412083\n"
     ]
    },
    {
     "name": "stderr",
     "output_type": "stream",
     "text": [
      "[I 2025-02-24 16:08:01,891] A new study created in memory with name: no-name-b60ec731-4659-4fd3-9628-e4c40d420a6b\n",
      "[I 2025-02-24 16:08:06,500] Trial 0 finished with value: 0.66697582139861 and parameters: {'k': 6, 'C': 0.02402154421302285, 'threshold': 0.5039186881606753}. Best is trial 0 with value: 0.66697582139861.\n"
     ]
    },
    {
     "name": "stdout",
     "output_type": "stream",
     "text": [
      "C = 0.02402154421302285, k = 6: 0.66697582139861\n"
     ]
    },
    {
     "name": "stderr",
     "output_type": "stream",
     "text": [
      "C:\\Users\\liuce\\AppData\\Local\\Temp\\ipykernel_15328\\894395037.py:3: RuntimeWarning: overflow encountered in exp\n",
      "  return 1 / (1 + np.exp(-z))\n",
      "[I 2025-02-24 16:08:09,733] Trial 1 finished with value: 0.5105030067548809 and parameters: {'k': 2, 'C': 0.2898630600385778, 'threshold': 0.49073862454487127}. Best is trial 0 with value: 0.66697582139861.\n"
     ]
    },
    {
     "name": "stdout",
     "output_type": "stream",
     "text": [
      "C = 0.2898630600385778, k = 2: 0.5105030067548809\n"
     ]
    },
    {
     "name": "stderr",
     "output_type": "stream",
     "text": [
      "[I 2025-02-24 16:08:13,197] Trial 2 finished with value: 0.5669897783840812 and parameters: {'k': 5, 'C': 0.011251866673727646, 'threshold': 0.48677612396237646}. Best is trial 0 with value: 0.66697582139861.\n"
     ]
    },
    {
     "name": "stdout",
     "output_type": "stream",
     "text": [
      "C = 0.011251866673727646, k = 5: 0.5669897783840812\n"
     ]
    },
    {
     "name": "stderr",
     "output_type": "stream",
     "text": [
      "[I 2025-02-24 16:08:16,166] Trial 3 finished with value: 0.5105030067548809 and parameters: {'k': 2, 'C': 0.12027316739173624, 'threshold': 0.48410421071681425}. Best is trial 0 with value: 0.66697582139861.\n"
     ]
    },
    {
     "name": "stdout",
     "output_type": "stream",
     "text": [
      "C = 0.12027316739173624, k = 2: 0.5105030067548809\n"
     ]
    },
    {
     "name": "stderr",
     "output_type": "stream",
     "text": [
      "[I 2025-02-24 16:08:19,628] Trial 4 finished with value: 0.5564890227558893 and parameters: {'k': 5, 'C': 0.016831154389176244, 'threshold': 0.4992532761297553}. Best is trial 0 with value: 0.66697582139861.\n"
     ]
    },
    {
     "name": "stdout",
     "output_type": "stream",
     "text": [
      "C = 0.016831154389176244, k = 5: 0.5564890227558893\n"
     ]
    },
    {
     "name": "stderr",
     "output_type": "stream",
     "text": [
      "[I 2025-02-24 16:08:22,838] Trial 5 finished with value: 0.5269895082488786 and parameters: {'k': 4, 'C': 0.0680568054785008, 'threshold': 0.48106798090803193}. Best is trial 0 with value: 0.66697582139861.\n"
     ]
    },
    {
     "name": "stdout",
     "output_type": "stream",
     "text": [
      "C = 0.0680568054785008, k = 4: 0.5269895082488786\n"
     ]
    },
    {
     "name": "stderr",
     "output_type": "stream",
     "text": [
      "[I 2025-02-24 16:08:26,529] Trial 6 finished with value: 0.6780025902964434 and parameters: {'k': 6, 'C': 0.03167153005145385, 'threshold': 0.4844154047095179}. Best is trial 6 with value: 0.6780025902964434.\n"
     ]
    },
    {
     "name": "stdout",
     "output_type": "stream",
     "text": [
      "C = 0.03167153005145385, k = 6: 0.6780025902964434\n"
     ]
    },
    {
     "name": "stderr",
     "output_type": "stream",
     "text": [
      "[I 2025-02-24 16:08:29,784] Trial 7 finished with value: 0.5069904987446218 and parameters: {'k': 5, 'C': 0.9820495247973137, 'threshold': 0.4908204158262195}. Best is trial 6 with value: 0.6780025902964434.\n"
     ]
    },
    {
     "name": "stdout",
     "output_type": "stream",
     "text": [
      "C = 0.9820495247973137, k = 5: 0.5069904987446218\n"
     ]
    },
    {
     "name": "stderr",
     "output_type": "stream",
     "text": [
      "[I 2025-02-24 16:08:33,073] Trial 8 finished with value: 0.502491246869058 and parameters: {'k': 4, 'C': 0.6490385632065075, 'threshold': 0.5023378679000247}. Best is trial 6 with value: 0.6780025902964434.\n"
     ]
    },
    {
     "name": "stdout",
     "output_type": "stream",
     "text": [
      "C = 0.6490385632065075, k = 4: 0.502491246869058\n"
     ]
    },
    {
     "name": "stderr",
     "output_type": "stream",
     "text": [
      "[I 2025-02-24 16:08:37,084] Trial 9 finished with value: 0.6664790727759243 and parameters: {'k': 6, 'C': 0.027355379793740368, 'threshold': 0.4990790858424138}. Best is trial 6 with value: 0.6780025902964434.\n"
     ]
    },
    {
     "name": "stdout",
     "output_type": "stream",
     "text": [
      "C = 0.027355379793740368, k = 6: 0.6664790727759243\n"
     ]
    },
    {
     "name": "stderr",
     "output_type": "stream",
     "text": [
      "[I 2025-02-24 16:08:40,111] Trial 10 finished with value: 0.5000142571356964 and parameters: {'k': 3, 'C': 0.06126203624994909, 'threshold': 0.4932763468778013}. Best is trial 6 with value: 0.6780025902964434.\n"
     ]
    },
    {
     "name": "stdout",
     "output_type": "stream",
     "text": [
      "C = 0.06126203624994909, k = 3: 0.5000142571356964\n"
     ]
    },
    {
     "name": "stderr",
     "output_type": "stream",
     "text": [
      "[I 2025-02-24 16:08:43,726] Trial 11 finished with value: 0.6845008426717571 and parameters: {'k': 6, 'C': 0.031168890471893106, 'threshold': 0.5045736544096422}. Best is trial 11 with value: 0.6845008426717571.\n"
     ]
    },
    {
     "name": "stdout",
     "output_type": "stream",
     "text": [
      "C = 0.031168890471893106, k = 6: 0.6845008426717571\n"
     ]
    },
    {
     "name": "stderr",
     "output_type": "stream",
     "text": [
      "[I 2025-02-24 16:08:47,667] Trial 12 finished with value: 0.6209973091532311 and parameters: {'k': 6, 'C': 0.03551372971784097, 'threshold': 0.5083921338742348}. Best is trial 11 with value: 0.6845008426717571.\n"
     ]
    },
    {
     "name": "stdout",
     "output_type": "stream",
     "text": [
      "C = 0.03551372971784097, k = 6: 0.6209973091532311\n"
     ]
    },
    {
     "name": "stderr",
     "output_type": "stream",
     "text": [
      "[I 2025-02-24 16:08:52,089] Trial 13 finished with value: 0.5764827796312054 and parameters: {'k': 6, 'C': 0.13706796652627007, 'threshold': 0.5095672240393027}. Best is trial 11 with value: 0.6845008426717571.\n"
     ]
    },
    {
     "name": "stdout",
     "output_type": "stream",
     "text": [
      "C = 0.13706796652627007, k = 6: 0.5764827796312054\n"
     ]
    },
    {
     "name": "stderr",
     "output_type": "stream",
     "text": [
      "[I 2025-02-24 16:08:55,787] Trial 14 finished with value: 0.571489030259645 and parameters: {'k': 5, 'C': 0.046548701508994275, 'threshold': 0.4802367111990016}. Best is trial 11 with value: 0.6845008426717571.\n"
     ]
    },
    {
     "name": "stdout",
     "output_type": "stream",
     "text": [
      "C = 0.046548701508994275, k = 5: 0.571489030259645\n"
     ]
    },
    {
     "name": "stderr",
     "output_type": "stream",
     "text": [
      "[I 2025-02-24 16:08:59,245] Trial 15 finished with value: 0.5334915125020072 and parameters: {'k': 4, 'C': 0.010927820657831782, 'threshold': 0.4962424234278626}. Best is trial 11 with value: 0.6845008426717571.\n"
     ]
    },
    {
     "name": "stdout",
     "output_type": "stream",
     "text": [
      "C = 0.010927820657831782, k = 4: 0.5334915125020072\n"
     ]
    },
    {
     "name": "stderr",
     "output_type": "stream",
     "text": [
      "[I 2025-02-24 16:09:03,584] Trial 16 finished with value: 0.6000580790685738 and parameters: {'k': 6, 'C': 0.09678776893355719, 'threshold': 0.4875584560176722}. Best is trial 11 with value: 0.6845008426717571.\n"
     ]
    },
    {
     "name": "stdout",
     "output_type": "stream",
     "text": [
      "C = 0.09678776893355719, k = 6: 0.6000580790685738\n"
     ]
    },
    {
     "name": "stderr",
     "output_type": "stream",
     "text": [
      "[I 2025-02-24 16:09:07,491] Trial 17 finished with value: 0.5309875092483788 and parameters: {'k': 5, 'C': 0.20983847369333597, 'threshold': 0.504031383302474}. Best is trial 11 with value: 0.6845008426717571.\n"
     ]
    },
    {
     "name": "stdout",
     "output_type": "stream",
     "text": [
      "C = 0.20983847369333597, k = 5: 0.5309875092483788\n"
     ]
    },
    {
     "name": "stderr",
     "output_type": "stream",
     "text": [
      "[I 2025-02-24 16:09:11,397] Trial 18 finished with value: 0.6990101045573308 and parameters: {'k': 6, 'C': 0.01920829840800954, 'threshold': 0.5068671179278016}. Best is trial 18 with value: 0.6990101045573308.\n"
     ]
    },
    {
     "name": "stdout",
     "output_type": "stream",
     "text": [
      "C = 0.01920829840800954, k = 6: 0.6990101045573308\n"
     ]
    },
    {
     "name": "stderr",
     "output_type": "stream",
     "text": [
      "[I 2025-02-24 16:09:14,664] Trial 19 finished with value: 0.5040145092618856 and parameters: {'k': 3, 'C': 0.017403469663691138, 'threshold': 0.5068086854479475}. Best is trial 18 with value: 0.6990101045573308.\n"
     ]
    },
    {
     "name": "stdout",
     "output_type": "stream",
     "text": [
      "C = 0.017403469663691138, k = 3: 0.5040145092618856\n"
     ]
    },
    {
     "name": "stderr",
     "output_type": "stream",
     "text": [
      "[I 2025-02-24 16:09:18,134] Trial 20 finished with value: 0.5339912626269449 and parameters: {'k': 4, 'C': 0.01771541265346576, 'threshold': 0.5060315466325422}. Best is trial 18 with value: 0.6990101045573308.\n"
     ]
    },
    {
     "name": "stdout",
     "output_type": "stream",
     "text": [
      "C = 0.01771541265346576, k = 4: 0.5339912626269449\n"
     ]
    },
    {
     "name": "stderr",
     "output_type": "stream",
     "text": [
      "[I 2025-02-24 16:09:21,639] Trial 21 finished with value: 0.6010410710560635 and parameters: {'k': 6, 'C': 0.04263300239580066, 'threshold': 0.5007001102824721}. Best is trial 18 with value: 0.6990101045573308.\n"
     ]
    },
    {
     "name": "stdout",
     "output_type": "stream",
     "text": [
      "C = 0.04263300239580066, k = 6: 0.6010410710560635\n"
     ]
    },
    {
     "name": "stderr",
     "output_type": "stream",
     "text": [
      "[I 2025-02-24 16:09:25,218] Trial 22 finished with value: 0.6750033391712552 and parameters: {'k': 6, 'C': 0.032042610476621707, 'threshold': 0.49680472143361176}. Best is trial 18 with value: 0.6990101045573308.\n"
     ]
    },
    {
     "name": "stdout",
     "output_type": "stream",
     "text": [
      "C = 0.032042610476621707, k = 6: 0.6750033391712552\n"
     ]
    },
    {
     "name": "stderr",
     "output_type": "stream",
     "text": [
      "[I 2025-02-24 16:09:28,504] Trial 23 finished with value: 0.5679892786339562 and parameters: {'k': 5, 'C': 0.02339314522523844, 'threshold': 0.5050391498500582}. Best is trial 18 with value: 0.6990101045573308.\n"
     ]
    },
    {
     "name": "stdout",
     "output_type": "stream",
     "text": [
      "C = 0.02339314522523844, k = 5: 0.5679892786339562\n"
     ]
    },
    {
     "name": "stderr",
     "output_type": "stream",
     "text": [
      "[I 2025-02-24 16:09:31,904] Trial 24 finished with value: 0.6535283409346379 and parameters: {'k': 6, 'C': 0.06225952426655213, 'threshold': 0.49374149005885537}. Best is trial 18 with value: 0.6990101045573308.\n"
     ]
    },
    {
     "name": "stdout",
     "output_type": "stream",
     "text": [
      "C = 0.06225952426655213, k = 6: 0.6535283409346379\n"
     ]
    },
    {
     "name": "stderr",
     "output_type": "stream",
     "text": [
      "[I 2025-02-24 16:09:35,154] Trial 25 finished with value: 0.5679817748783266 and parameters: {'k': 5, 'C': 0.01572168757249131, 'threshold': 0.5017492709541465}. Best is trial 18 with value: 0.6990101045573308.\n"
     ]
    },
    {
     "name": "stdout",
     "output_type": "stream",
     "text": [
      "C = 0.01572168757249131, k = 5: 0.5679817748783266\n"
     ]
    },
    {
     "name": "stderr",
     "output_type": "stream",
     "text": [
      "[I 2025-02-24 16:09:38,694] Trial 26 finished with value: 0.6235440838139489 and parameters: {'k': 6, 'C': 0.04360657786434326, 'threshold': 0.5074291255766302}. Best is trial 18 with value: 0.6990101045573308.\n"
     ]
    },
    {
     "name": "stdout",
     "output_type": "stream",
     "text": [
      "C = 0.04360657786434326, k = 6: 0.6235440838139489\n"
     ]
    },
    {
     "name": "stderr",
     "output_type": "stream",
     "text": [
      "[I 2025-02-24 16:09:41,774] Trial 27 finished with value: 0.5200027613820717 and parameters: {'k': 3, 'C': 0.08112245858294165, 'threshold': 0.48312368022287044}. Best is trial 18 with value: 0.6990101045573308.\n"
     ]
    },
    {
     "name": "stdout",
     "output_type": "stream",
     "text": [
      "C = 0.08112245858294165, k = 3: 0.5200027613820717\n"
     ]
    },
    {
     "name": "stderr",
     "output_type": "stream",
     "text": [
      "[I 2025-02-24 16:09:44,944] Trial 28 finished with value: 0.5604930267598932 and parameters: {'k': 5, 'C': 0.02277247151156676, 'threshold': 0.5094872770734897}. Best is trial 18 with value: 0.6990101045573308.\n"
     ]
    },
    {
     "name": "stdout",
     "output_type": "stream",
     "text": [
      "C = 0.02277247151156676, k = 5: 0.5604930267598932\n"
     ]
    },
    {
     "name": "stderr",
     "output_type": "stream",
     "text": [
      "[I 2025-02-24 16:09:48,564] Trial 29 finished with value: 0.6545143344243793 and parameters: {'k': 6, 'C': 0.012769375255630648, 'threshold': 0.5034262345065803}. Best is trial 18 with value: 0.6990101045573308.\n"
     ]
    },
    {
     "name": "stdout",
     "output_type": "stream",
     "text": [
      "C = 0.012769375255630648, k = 6: 0.6545143344243793\n",
      "Best k: 6, Best C: 0.01920829840800954, Best threshold: 0.5068671179278016\n"
     ]
    },
    {
     "name": "stderr",
     "output_type": "stream",
     "text": [
      "[I 2025-02-24 16:09:52,154] A new study created in memory with name: no-name-d36352d5-f0c5-422e-a164-5a4198bf2e11\n",
      "C:\\Users\\liuce\\AppData\\Local\\Temp\\ipykernel_15328\\894395037.py:3: RuntimeWarning: overflow encountered in exp\n",
      "  return 1 / (1 + np.exp(-z))\n",
      "[I 2025-02-24 16:09:55,095] Trial 0 finished with value: 0.5575170372771572 and parameters: {'k': 3, 'C': 0.09996570445050645, 'threshold': 0.4853405818119471}. Best is trial 0 with value: 0.5575170372771572.\n"
     ]
    },
    {
     "name": "stdout",
     "output_type": "stream",
     "text": [
      "C = 0.09996570445050645, k = 3: 0.5575170372771572\n"
     ]
    },
    {
     "name": "stderr",
     "output_type": "stream",
     "text": [
      "[I 2025-02-24 16:09:58,694] Trial 1 finished with value: 0.5960060510285398 and parameters: {'k': 6, 'C': 0.07292356601122152, 'threshold': 0.4907732837754635}. Best is trial 1 with value: 0.5960060510285398.\n"
     ]
    },
    {
     "name": "stdout",
     "output_type": "stream",
     "text": [
      "C = 0.07292356601122152, k = 6: 0.5960060510285398\n"
     ]
    },
    {
     "name": "stderr",
     "output_type": "stream",
     "text": [
      "[I 2025-02-24 16:10:01,601] Trial 2 finished with value: 0.5690127909018464 and parameters: {'k': 3, 'C': 0.020041278529962427, 'threshold': 0.49119723178807156}. Best is trial 1 with value: 0.5960060510285398.\n"
     ]
    },
    {
     "name": "stdout",
     "output_type": "stream",
     "text": [
      "C = 0.020041278529962427, k = 3: 0.5690127909018464\n"
     ]
    },
    {
     "name": "stderr",
     "output_type": "stream",
     "text": [
      "[I 2025-02-24 16:10:04,796] Trial 3 finished with value: 0.5640122881502192 and parameters: {'k': 5, 'C': 0.8726728937366919, 'threshold': 0.5037828185162471}. Best is trial 1 with value: 0.5960060510285398.\n"
     ]
    },
    {
     "name": "stdout",
     "output_type": "stream",
     "text": [
      "C = 0.8726728937366919, k = 5: 0.5640122881502192\n"
     ]
    },
    {
     "name": "stderr",
     "output_type": "stream",
     "text": [
      "[I 2025-02-24 16:10:08,264] Trial 4 finished with value: 0.5940047994021008 and parameters: {'k': 6, 'C': 0.057164739027093764, 'threshold': 0.49112067715336805}. Best is trial 1 with value: 0.5960060510285398.\n"
     ]
    },
    {
     "name": "stdout",
     "output_type": "stream",
     "text": [
      "C = 0.057164739027093764, k = 6: 0.5940047994021008\n"
     ]
    },
    {
     "name": "stderr",
     "output_type": "stream",
     "text": [
      "[I 2025-02-24 16:10:11,250] Trial 5 finished with value: 0.5510165337751545 and parameters: {'k': 3, 'C': 0.31308085118213175, 'threshold': 0.48156832349932155}. Best is trial 1 with value: 0.5960060510285398.\n"
     ]
    },
    {
     "name": "stdout",
     "output_type": "stream",
     "text": [
      "C = 0.31308085118213175, k = 3: 0.5510165337751545\n"
     ]
    },
    {
     "name": "stderr",
     "output_type": "stream",
     "text": [
      "[I 2025-02-24 16:10:14,736] Trial 6 finished with value: 0.5520145332739036 and parameters: {'k': 3, 'C': 0.6103074883520305, 'threshold': 0.48033115458056885}. Best is trial 1 with value: 0.5960060510285398.\n"
     ]
    },
    {
     "name": "stdout",
     "output_type": "stream",
     "text": [
      "C = 0.6103074883520305, k = 3: 0.5520145332739036\n"
     ]
    },
    {
     "name": "stderr",
     "output_type": "stream",
     "text": [
      "[I 2025-02-24 16:10:17,544] Trial 7 finished with value: 0.5605140372756564 and parameters: {'k': 2, 'C': 0.030891932374528332, 'threshold': 0.4985177134613736}. Best is trial 1 with value: 0.5960060510285398.\n"
     ]
    },
    {
     "name": "stdout",
     "output_type": "stream",
     "text": [
      "C = 0.030891932374528332, k = 2: 0.5605140372756564\n"
     ]
    },
    {
     "name": "stderr",
     "output_type": "stream",
     "text": [
      "[I 2025-02-24 16:10:21,527] Trial 8 finished with value: 0.5740065402734068 and parameters: {'k': 6, 'C': 0.13972974726040785, 'threshold': 0.5078327329753111}. Best is trial 1 with value: 0.5960060510285398.\n"
     ]
    },
    {
     "name": "stdout",
     "output_type": "stream",
     "text": [
      "C = 0.13972974726040785, k = 6: 0.5740065402734068\n"
     ]
    },
    {
     "name": "stderr",
     "output_type": "stream",
     "text": [
      "[I 2025-02-24 16:10:24,339] Trial 9 finished with value: 0.5645135390262827 and parameters: {'k': 2, 'C': 0.012205432154956774, 'threshold': 0.48404988657785536}. Best is trial 1 with value: 0.5960060510285398.\n"
     ]
    },
    {
     "name": "stdout",
     "output_type": "stream",
     "text": [
      "C = 0.012205432154956774, k = 2: 0.5645135390262827\n"
     ]
    },
    {
     "name": "stderr",
     "output_type": "stream",
     "text": [
      "[I 2025-02-24 16:10:27,361] Trial 10 finished with value: 0.570512041276659 and parameters: {'k': 5, 'C': 0.15080127961038325, 'threshold': 0.49783600473145867}. Best is trial 1 with value: 0.5960060510285398.\n"
     ]
    },
    {
     "name": "stdout",
     "output_type": "stream",
     "text": [
      "C = 0.15080127961038325, k = 5: 0.570512041276659\n"
     ]
    },
    {
     "name": "stderr",
     "output_type": "stream",
     "text": [
      "[I 2025-02-24 16:10:30,821] Trial 11 finished with value: 0.5870120495307901 and parameters: {'k': 6, 'C': 0.04317264046438225, 'threshold': 0.4909048273274188}. Best is trial 1 with value: 0.5960060510285398.\n"
     ]
    },
    {
     "name": "stdout",
     "output_type": "stream",
     "text": [
      "C = 0.04317264046438225, k = 6: 0.5870120495307901\n"
     ]
    },
    {
     "name": "stderr",
     "output_type": "stream",
     "text": [
      "[I 2025-02-24 16:10:34,116] Trial 12 finished with value: 0.5775077926502215 and parameters: {'k': 5, 'C': 0.06393140872305934, 'threshold': 0.49053158188071705}. Best is trial 1 with value: 0.5960060510285398.\n"
     ]
    },
    {
     "name": "stdout",
     "output_type": "stream",
     "text": [
      "C = 0.06393140872305934, k = 5: 0.5775077926502215\n"
     ]
    },
    {
     "name": "stderr",
     "output_type": "stream",
     "text": [
      "[I 2025-02-24 16:10:37,670] Trial 13 finished with value: 0.5885128006567286 and parameters: {'k': 6, 'C': 0.06053494555267592, 'threshold': 0.48858473385610246}. Best is trial 1 with value: 0.5960060510285398.\n"
     ]
    },
    {
     "name": "stdout",
     "output_type": "stream",
     "text": [
      "C = 0.06053494555267592, k = 6: 0.5885128006567286\n"
     ]
    },
    {
     "name": "stderr",
     "output_type": "stream",
     "text": [
      "[I 2025-02-24 16:10:40,864] Trial 14 finished with value: 0.5625130377754065 and parameters: {'k': 5, 'C': 0.24719856999131534, 'threshold': 0.49721384816493713}. Best is trial 1 with value: 0.5960060510285398.\n"
     ]
    },
    {
     "name": "stdout",
     "output_type": "stream",
     "text": [
      "C = 0.24719856999131534, k = 5: 0.5625130377754065\n"
     ]
    },
    {
     "name": "stderr",
     "output_type": "stream",
     "text": [
      "[I 2025-02-24 16:10:44,885] Trial 15 finished with value: 0.5680125402764084 and parameters: {'k': 4, 'C': 0.025851574205672776, 'threshold': 0.49464952643174065}. Best is trial 1 with value: 0.5960060510285398.\n"
     ]
    },
    {
     "name": "stdout",
     "output_type": "stream",
     "text": [
      "C = 0.025851574205672776, k = 4: 0.5680125402764084\n"
     ]
    },
    {
     "name": "stderr",
     "output_type": "stream",
     "text": [
      "[I 2025-02-24 16:10:48,422] Trial 16 finished with value: 0.5945068006537272 and parameters: {'k': 6, 'C': 0.08284111169966517, 'threshold': 0.48700016249346817}. Best is trial 1 with value: 0.5960060510285398.\n"
     ]
    },
    {
     "name": "stdout",
     "output_type": "stream",
     "text": [
      "C = 0.08284111169966517, k = 6: 0.5945068006537272\n"
     ]
    },
    {
     "name": "stderr",
     "output_type": "stream",
     "text": [
      "[I 2025-02-24 16:10:51,501] Trial 17 finished with value: 0.5670107888998444 and parameters: {'k': 4, 'C': 0.11620660336806515, 'threshold': 0.4860310089601209}. Best is trial 1 with value: 0.5960060510285398.\n"
     ]
    },
    {
     "name": "stdout",
     "output_type": "stream",
     "text": [
      "C = 0.11620660336806515, k = 4: 0.5670107888998444\n"
     ]
    },
    {
     "name": "stderr",
     "output_type": "stream",
     "text": [
      "[I 2025-02-24 16:10:55,046] Trial 18 finished with value: 0.569021045033039 and parameters: {'k': 6, 'C': 0.27288426597115606, 'threshold': 0.4945492856628212}. Best is trial 1 with value: 0.5960060510285398.\n"
     ]
    },
    {
     "name": "stdout",
     "output_type": "stream",
     "text": [
      "C = 0.27288426597115606, k = 6: 0.569021045033039\n"
     ]
    },
    {
     "name": "stderr",
     "output_type": "stream",
     "text": [
      "[I 2025-02-24 16:10:58,152] Trial 19 finished with value: 0.5695177936557246 and parameters: {'k': 5, 'C': 0.08527708415038715, 'threshold': 0.501466250920309}. Best is trial 1 with value: 0.5960060510285398.\n"
     ]
    },
    {
     "name": "stdout",
     "output_type": "stream",
     "text": [
      "C = 0.08527708415038715, k = 5: 0.5695177936557246\n"
     ]
    },
    {
     "name": "stderr",
     "output_type": "stream",
     "text": [
      "[I 2025-02-24 16:11:01,248] Trial 20 finished with value: 0.5650147899023462 and parameters: {'k': 4, 'C': 0.19490356866948003, 'threshold': 0.4869905281241621}. Best is trial 1 with value: 0.5960060510285398.\n"
     ]
    },
    {
     "name": "stdout",
     "output_type": "stream",
     "text": [
      "C = 0.19490356866948003, k = 4: 0.5650147899023462\n"
     ]
    },
    {
     "name": "stderr",
     "output_type": "stream",
     "text": [
      "[I 2025-02-24 16:11:04,659] Trial 21 finished with value: 0.5895062979021 and parameters: {'k': 6, 'C': 0.0570443263305881, 'threshold': 0.49248465852805723}. Best is trial 1 with value: 0.5960060510285398.\n"
     ]
    },
    {
     "name": "stdout",
     "output_type": "stream",
     "text": [
      "C = 0.0570443263305881, k = 6: 0.5895062979021\n"
     ]
    },
    {
     "name": "stderr",
     "output_type": "stream",
     "text": [
      "[I 2025-02-24 16:11:08,214] Trial 22 finished with value: 0.5970138054096076 and parameters: {'k': 6, 'C': 0.04702410502959134, 'threshold': 0.48855778512832665}. Best is trial 22 with value: 0.5970138054096076.\n"
     ]
    },
    {
     "name": "stdout",
     "output_type": "stream",
     "text": [
      "C = 0.04702410502959134, k = 6: 0.5970138054096076\n"
     ]
    },
    {
     "name": "stderr",
     "output_type": "stream",
     "text": [
      "[I 2025-02-24 16:11:11,649] Trial 23 finished with value: 0.5680102891497194 and parameters: {'k': 6, 'C': 0.03797323643157507, 'threshold': 0.4829331119489867}. Best is trial 22 with value: 0.5970138054096076.\n"
     ]
    },
    {
     "name": "stdout",
     "output_type": "stream",
     "text": [
      "C = 0.03797323643157507, k = 6: 0.5680102891497194\n"
     ]
    },
    {
     "name": "stderr",
     "output_type": "stream",
     "text": [
      "[I 2025-02-24 16:11:14,753] Trial 24 finished with value: 0.5755185470327899 and parameters: {'k': 5, 'C': 0.017829959480734882, 'threshold': 0.4885837997224746}. Best is trial 22 with value: 0.5970138054096076.\n"
     ]
    },
    {
     "name": "stdout",
     "output_type": "stream",
     "text": [
      "C = 0.017829959480734882, k = 5: 0.5755185470327899\n"
     ]
    },
    {
     "name": "stderr",
     "output_type": "stream",
     "text": [
      "[I 2025-02-24 16:11:18,168] Trial 25 finished with value: 0.5865115490302896 and parameters: {'k': 6, 'C': 0.08093574415099448, 'threshold': 0.4879546320350588}. Best is trial 22 with value: 0.5970138054096076.\n"
     ]
    },
    {
     "name": "stdout",
     "output_type": "stream",
     "text": [
      "C = 0.08093574415099448, k = 6: 0.5865115490302896\n"
     ]
    },
    {
     "name": "stderr",
     "output_type": "stream",
     "text": [
      "[I 2025-02-24 16:11:21,271] Trial 26 finished with value: 0.584015049532291 and parameters: {'k': 5, 'C': 0.04199285327304349, 'threshold': 0.4935464122636891}. Best is trial 22 with value: 0.5970138054096076.\n"
     ]
    },
    {
     "name": "stdout",
     "output_type": "stream",
     "text": [
      "C = 0.04199285327304349, k = 5: 0.584015049532291\n"
     ]
    },
    {
     "name": "stderr",
     "output_type": "stream",
     "text": [
      "[I 2025-02-24 16:11:24,808] Trial 27 finished with value: 0.5885120502811657 and parameters: {'k': 6, 'C': 0.46339290367314545, 'threshold': 0.484076418218948}. Best is trial 22 with value: 0.5970138054096076.\n"
     ]
    },
    {
     "name": "stdout",
     "output_type": "stream",
     "text": [
      "C = 0.46339290367314545, k = 6: 0.5885120502811657\n"
     ]
    },
    {
     "name": "stderr",
     "output_type": "stream",
     "text": [
      "[I 2025-02-24 16:11:27,773] Trial 28 finished with value: 0.5705135420277849 and parameters: {'k': 4, 'C': 0.01067371317662793, 'threshold': 0.4887295834630342}. Best is trial 22 with value: 0.5970138054096076.\n"
     ]
    },
    {
     "name": "stdout",
     "output_type": "stream",
     "text": [
      "C = 0.01067371317662793, k = 4: 0.5705135420277849\n"
     ]
    },
    {
     "name": "stderr",
     "output_type": "stream",
     "text": [
      "[I 2025-02-24 16:11:31,309] Trial 29 finished with value: 0.583009546277912 and parameters: {'k': 6, 'C': 0.10569969542094641, 'threshold': 0.48607478578110125}. Best is trial 22 with value: 0.5970138054096076.\n"
     ]
    },
    {
     "name": "stdout",
     "output_type": "stream",
     "text": [
      "C = 0.10569969542094641, k = 6: 0.583009546277912\n",
      "Best k: 6, Best C: 0.04702410502959134, Best threshold: 0.48855778512832665\n"
     ]
    }
   ],
   "source": [
    "def sigmoid(z):\n",
    "    \"\"\"Sigmoid activation function.\"\"\"\n",
    "    return 1 / (1 + np.exp(-z))\n",
    "\n",
    "def train_logistic_regression(K_train, y_train, C, lr=0.01, epochs=1000):\n",
    "    \"\"\"\n",
    "    Train logistic regression using batch gradient descent.\n",
    "    \n",
    "    Parameters:\n",
    "    - K_train: (n_samples, n_samples) kernel matrix\n",
    "    - y_train: (n_samples,) labels {-1,1}\n",
    "    - C: regularization parameter\n",
    "    - lr: learning rate\n",
    "    - epochs: number of gradient updates\n",
    "    \n",
    "    Returns:\n",
    "    - w: optimized weight vector\n",
    "    - b: bias term\n",
    "    \"\"\"\n",
    "    n_samples = K_train.shape[0]\n",
    "    \n",
    "    # Initialize weights\n",
    "    w = np.zeros(n_samples)\n",
    "    b = 0\n",
    "    \n",
    "    # Gradient Descent\n",
    "    for _ in range(epochs):\n",
    "        linear_model = K_train @ w + b\n",
    "        y_pred = sigmoid(linear_model)\n",
    "        \n",
    "        # Compute gradients\n",
    "        error = y_pred - (y_train + 1) / 2  # Convert {-1,1} -> {0,1} for logistic loss\n",
    "        dw = (K_train.T @ error) / n_samples + C * w\n",
    "        db = np.mean(error)\n",
    "        \n",
    "        # Update weights\n",
    "        w -= lr * dw\n",
    "        b -= lr * db\n",
    "\n",
    "    return w, b\n",
    "\n",
    "\n",
    "def predict_logistic_regression(K_test, w, b, threshold = 0.5):\n",
    "    \"\"\"\n",
    "    Predict using logistic regression with kernel.\n",
    "    \n",
    "    Parameters:\n",
    "    - K_test: (n_samples, n_train_samples) kernel matrix\n",
    "    - w: trained weight vector\n",
    "    - b: bias term\n",
    "    - threshold: threshold for prediction \n",
    "    \n",
    "    Returns:\n",
    "    - predictions: {-1,1}\n",
    "    \"\"\"\n",
    "    y_pred_prob = sigmoid(K_test @ w + b)\n",
    "    return np.where(y_pred_prob >= threshold, 1, -1)\n",
    "\n",
    "\n",
    "def cross_val_score_manual_logistic_regression(X, y, k, C, threshold, n_splits=3):\n",
    "    \"\"\"Performs cross-validation without using sklearn.\"\"\"\n",
    "    folds = manual_kfold_split(X, y, n_splits)\n",
    "    accuracies = []\n",
    "\n",
    "    for i in range(n_splits):\n",
    "        val_indices = folds[i]  \n",
    "        train_indices = np.hstack([folds[j] for j in range(n_splits) if j != i])\n",
    "\n",
    "        X_train, y_train = X[train_indices], y[train_indices]\n",
    "        X_val, y_val = X[val_indices], y[val_indices]\n",
    "\n",
    "        # Compute kernel matrices\n",
    "        K_train = spectrum_kernel_matrix(X_train, X_train, k)\n",
    "        K_val = spectrum_kernel_matrix(X_val, X_train, k)\n",
    "\n",
    "        # Train and predict\n",
    "        w, b = train_logistic_regression(K_train, y_train, C)\n",
    "        predictions = predict_logistic_regression(K_val, w, b, threshold = threshold)\n",
    "\n",
    "        # Compute accuracy\n",
    "        accuracy = np.mean(predictions == y_val)\n",
    "        accuracies.append(accuracy)\n",
    "\n",
    "    return np.mean(accuracies)\n",
    "\n",
    "\n",
    "def objective(trial):\n",
    "    \"\"\"Objective function for Optuna to optimize k and C.\"\"\"\n",
    "    k = trial.suggest_int(\"k\", 2, 6)  # k-mer length between 2 and 6\n",
    "    C = trial.suggest_float(\"C\", 1e-2, 1e0, log = True)  # Regularization term\n",
    "    threshold = trial.suggest_float(\"threshold\", 0.48, 0.51)\n",
    "\n",
    "    cross_val = cross_val_score_manual_logistic_regression(X_train, Y_train, k, C, threshold)\n",
    "\n",
    "    print(f\"C = {C}, k = {k}: {cross_val}\")\n",
    "    return cross_val\n",
    "\n",
    "\n",
    "def train_and_predict_spectrum_logistic_regression(X_train_path, Y_train_path, X_test_path, n_trials=30):\n",
    "    \"\"\"Hyperparameter optimization with Optuna, then train and predict.\"\"\"\n",
    "    global X_train, Y_train  \n",
    "    X_train, Y_train = load_data(X_train_path, Y_train_path)\n",
    "\n",
    "    df_pred = pd.read_csv(X_test_path)\n",
    "    X_test = df_pred[\"seq\"].values\n",
    "\n",
    "    # Run Optuna optimization\n",
    "    study = optuna.create_study(direction=\"maximize\")\n",
    "    study.optimize(objective, n_trials=n_trials)\n",
    "\n",
    "    # Best hyperparameters\n",
    "    best_k = study.best_params[\"k\"]\n",
    "    best_C = study.best_params[\"C\"]\n",
    "\n",
    "\n",
    "    #A MODIFIER !!!\n",
    "    best_threshold = study.best_params[\"threshold\"]\n",
    "    print(f\"Best k: {best_k}, Best C: {best_C}, Best threshold: {best_threshold}\")\n",
    "\n",
    "    # Train final model\n",
    "    K_train = spectrum_kernel_matrix(X_train, X_train, best_k)\n",
    "    K_test = spectrum_kernel_matrix(X_test, X_train, best_k)\n",
    "    w, b = train_logistic_regression(K_train, Y_train, best_C)\n",
    "\n",
    "    # Predict on test set\n",
    "    predictions = predict_logistic_regression(K_test, w, b, threshold = best_threshold)\n",
    "\n",
    "    # Convert {-1,1} predictions to {0,1}\n",
    "    predictions = (predictions + 1) // 2\n",
    "\n",
    "    df_pred[\"Bound\"] = predictions\n",
    "\n",
    "    return df_pred\n",
    "\n",
    "\n",
    "# === Run the function with hyperparameter tuning ===\n",
    "prediction_0_LR = train_and_predict_spectrum_logistic_regression(\"./data/Xtr0.csv\", \"./data/Ytr0.csv\", \"./data/Xte0.csv\", n_trials=30)\n",
    "prediction_1_LR = train_and_predict_spectrum_logistic_regression(\"./data/Xtr1.csv\", \"./data/Ytr1.csv\", \"./data/Xte1.csv\", n_trials=30)\n",
    "prediction_2_LR = train_and_predict_spectrum_logistic_regression(\"./data/Xtr2.csv\", \"./data/Ytr2.csv\", \"./data/Xte2.csv\", n_trials=30)"
   ]
  },
  {
   "cell_type": "markdown",
   "metadata": {},
   "source": [
    "Best k: 6, Best C: 0.010897299565192597, Best threshold: 0.4891718137318136\n",
    "'k': 6, 'C': 0.01789216686540087, 'threshold': 0.49165528214733156, 0.57"
   ]
  },
  {
   "cell_type": "code",
   "execution_count": 10,
   "metadata": {},
   "outputs": [],
   "source": [
    "save_to_csv(prediction_0_LR, prediction_1_LR, prediction_2_LR, suffixe = \"lr_separately\")"
   ]
  },
  {
   "cell_type": "markdown",
   "metadata": {},
   "source": [
    "# Prediction only (without Optuna)"
   ]
  }
 ],
 "metadata": {
  "kernelspec": {
   "display_name": "kernel-env",
   "language": "python",
   "name": "python3"
  },
  "language_info": {
   "codemirror_mode": {
    "name": "ipython",
    "version": 3
   },
   "file_extension": ".py",
   "mimetype": "text/x-python",
   "name": "python",
   "nbconvert_exporter": "python",
   "pygments_lexer": "ipython3",
   "version": "3.10.16"
  }
 },
 "nbformat": 4,
 "nbformat_minor": 2
}
