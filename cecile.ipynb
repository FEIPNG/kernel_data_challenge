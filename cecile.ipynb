{
 "cells": [
  {
   "cell_type": "code",
   "execution_count": 1,
   "metadata": {},
   "outputs": [
    {
     "name": "stdout",
     "output_type": "stream",
     "text": [
      "[[3. 2. 2.]\n",
      " [2. 3. 2.]\n",
      " [2. 2. 3.]]\n"
     ]
    }
   ],
   "source": [
    "import numpy as np\n",
    "from collections import Counter\n",
    "\n",
    "def generate_kmers(sequence, k):\n",
    "    \"\"\"Extract all k-mers from a sequence.\"\"\"\n",
    "    return [sequence[i:i+k] for i in range(len(sequence) - k + 1)]\n",
    "\n",
    "def build_kmer_dict(sequences, k):\n",
    "    \"\"\"Create a dictionary mapping each unique k-mer to an index.\"\"\"\n",
    "    kmer_set = set()\n",
    "    for seq in sequences:\n",
    "        kmer_set.update(generate_kmers(seq, k))\n",
    "    return {kmer: idx for idx, kmer in enumerate(sorted(kmer_set))}\n",
    "\n",
    "def compute_kmer_feature_matrix(sequences, k, kmer_dict):\n",
    "    \"\"\"Convert sequences into k-mer frequency vectors.\"\"\"\n",
    "    num_samples = len(sequences)\n",
    "    num_kmers = len(kmer_dict)\n",
    "    feature_matrix = np.zeros((num_samples, num_kmers))\n",
    "\n",
    "    for i, seq in enumerate(sequences):\n",
    "        kmer_counts = Counter(generate_kmers(seq, k))\n",
    "        for kmer, count in kmer_counts.items():\n",
    "            if kmer in kmer_dict:\n",
    "                feature_matrix[i, kmer_dict[kmer]] = count\n",
    "    return feature_matrix\n",
    "\n",
    "def spectrum_kernel_matrix(sequences, k):\n",
    "    \"\"\"Compute the Spectrum Kernel matrix.\"\"\"\n",
    "    kmer_dict = build_kmer_dict(sequences, k)\n",
    "    feature_matrix = compute_kmer_feature_matrix(sequences, k, kmer_dict)\n",
    "    return feature_matrix @ feature_matrix.T  # Compute the dot product\n",
    "\n",
    "# Example usage\n",
    "sequences = [\"AGCT\", \"GCTA\", \"CTAG\"]\n",
    "k = 2\n",
    "K = spectrum_kernel_matrix(sequences, k)\n",
    "print(K)\n"
   ]
  },
  {
   "cell_type": "code",
   "execution_count": null,
   "metadata": {},
   "outputs": [],
   "source": [
    "import numpy as np\n",
    "import cvxopt\n",
    "\n",
    "def train_svm(K, y, C=1.0):\n",
    "    \"\"\"Train an SVM using the precomputed kernel matrix K.\"\"\"\n",
    "    n = len(y)\n",
    "    y = y.astype(float).reshape(-1, 1)  # Ensure y is a column vector\n",
    "\n",
    "    # Construct the quadratic programming matrices\n",
    "    P = cvxopt.matrix(np.outer(y, y) * K)  # P_ij = y_i * y_j * K_ij\n",
    "    q = cvxopt.matrix(-np.ones(n))        # q_i = -1\n",
    "    G = cvxopt.matrix(np.vstack((-np.eye(n), np.eye(n))))  # Constraints 0 <= α <= C\n",
    "    h = cvxopt.matrix(np.hstack((np.zeros(n), C * np.ones(n))))\n",
    "    A = cvxopt.matrix(y.T)  # Equality constraint sum(α_i * y_i) = 0\n",
    "    b = cvxopt.matrix(0.0)\n",
    "\n",
    "    # Solve the quadratic program\n",
    "    solution = cvxopt.solvers.qp(P, q, G, h, A, b)\n",
    "    alphas = np.ravel(solution['x'])\n",
    "\n",
    "    # Support vectors: α > 0\n",
    "    sv_indices = alphas > 1e-5\n",
    "    support_vectors = np.where(sv_indices)[0]\n",
    "    alphas = alphas[sv_indices]\n",
    "    support_y = y[sv_indices].flatten()\n",
    "\n",
    "    # Compute the bias term (intercept)\n",
    "    bias = np.mean(support_y - np.sum(alphas * support_y * K[support_vectors][:, support_vectors], axis=1))\n",
    "\n",
    "    return alphas, support_vectors, bias\n",
    "\n",
    "def predict_svm(K_test, alphas, support_vectors, support_y, bias):\n",
    "    \"\"\"Make predictions using the trained SVM.\"\"\"\n",
    "    return np.sign(np.sum(alphas * support_y * K_test[:, support_vectors], axis=1) + bias)\n",
    "\n",
    "# Example usage\n",
    "sequences_train = [\"AGCT\", \"GCTA\", \"CTAG\", \"TAGC\"]\n",
    "sequences_test = [\"AGCT\", \"CTAG\"]\n",
    "\n",
    "y_train = np.array([1, -1, 1, -1])  # Example labels\n",
    "\n",
    "k = 2\n",
    "K_train = spectrum_kernel_matrix(sequences_train, k)\n",
    "alphas, support_vectors, bias = train_svm(K_train, y_train)\n",
    "\n",
    "K_test = spectrum_kernel_matrix(sequences_test + sequences_train, k)[:len(sequences_test), :]\n",
    "predictions = predict_svm(K_test, alphas, support_vectors, y_train[support_vectors], bias)\n",
    "\n",
    "print(\"Predictions:\", predictions)\n"
   ]
  },
  {
   "cell_type": "markdown",
   "metadata": {},
   "source": [
    "Next Steps\n",
    "\n",
    "    Tune the C parameter.\n",
    "    Try different values of k (k-mer size).\n",
    "    Optimize performance (e.g., using sparse representations for large sequences)."
   ]
  },
  {
   "cell_type": "markdown",
   "metadata": {},
   "source": []
  }
 ],
 "metadata": {
  "kernelspec": {
   "display_name": "kernel-env",
   "language": "python",
   "name": "python3"
  },
  "language_info": {
   "codemirror_mode": {
    "name": "ipython",
    "version": 3
   },
   "file_extension": ".py",
   "mimetype": "text/x-python",
   "name": "python",
   "nbconvert_exporter": "python",
   "pygments_lexer": "ipython3",
   "version": "3.10.16"
  }
 },
 "nbformat": 4,
 "nbformat_minor": 2
}
