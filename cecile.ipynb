{
 "cells": [
  {
   "cell_type": "code",
   "execution_count": null,
   "metadata": {},
   "outputs": [
    {
     "name": "stdout",
     "output_type": "stream",
     "text": [
      "[[3. 2. 2.]\n",
      " [2. 3. 2.]\n",
      " [2. 2. 3.]]\n"
     ]
    }
   ],
   "source": [
    "# import numpy as np\n",
    "# from collections import Counter\n",
    "\n",
    "# def generate_kmers(sequence, k):\n",
    "#     \"\"\"Extract all k-mers from a sequence.\"\"\"\n",
    "#     return [sequence[i:i+k] for i in range(len(sequence) - k + 1)]\n",
    "\n",
    "# def build_kmer_dict(sequences, k):\n",
    "#     \"\"\"Create a dictionary mapping each unique k-mer to an index.\"\"\"\n",
    "#     kmer_set = set()\n",
    "#     for seq in sequences:\n",
    "#         kmer_set.update(generate_kmers(seq, k))\n",
    "#     return {kmer: idx for idx, kmer in enumerate(sorted(kmer_set))}\n",
    "\n",
    "# def compute_kmer_feature_matrix(sequences, k, kmer_dict):\n",
    "#     \"\"\"Convert sequences into k-mer frequency vectors.\"\"\"\n",
    "#     num_samples = len(sequences)\n",
    "#     num_kmers = len(kmer_dict)\n",
    "#     feature_matrix = np.zeros((num_samples, num_kmers))\n",
    "\n",
    "#     for i, seq in enumerate(sequences):\n",
    "#         kmer_counts = Counter(generate_kmers(seq, k))\n",
    "#         for kmer, count in kmer_counts.items():\n",
    "#             if kmer in kmer_dict:\n",
    "#                 feature_matrix[i, kmer_dict[kmer]] = count\n",
    "#     return feature_matrix\n",
    "\n",
    "# def spectrum_kernel_matrix(sequences, k):\n",
    "#     \"\"\"Compute the Spectrum Kernel matrix.\"\"\"\n",
    "#     kmer_dict = build_kmer_dict(sequences, k)\n",
    "#     feature_matrix = compute_kmer_feature_matrix(sequences, k, kmer_dict)\n",
    "#     return feature_matrix @ feature_matrix.T  # Compute the dot product\n",
    "\n",
    "# # Example usage\n",
    "# sequences = [\"AGCT\", \"GCTA\", \"CTAG\"]\n",
    "# k = 2\n",
    "# K = spectrum_kernel_matrix(sequences, k)\n",
    "# print(K)\n"
   ]
  },
  {
   "cell_type": "code",
   "execution_count": null,
   "metadata": {},
   "outputs": [
    {
     "name": "stdout",
     "output_type": "stream",
     "text": [
      "     pcost       dcost       gap    pres   dres\n",
      " 0: -1.7778e+00 -6.2222e+00  4e+00  0e+00  6e-16\n",
      " 1: -1.8769e+00 -2.1631e+00  3e-01  2e-16  3e-16\n",
      " 2: -1.9815e+00 -2.0225e+00  4e-02  8e-17  2e-16\n",
      " 3: -1.9973e+00 -2.0030e+00  6e-03  1e-16  1e-16\n",
      " 4: -1.9996e+00 -2.0004e+00  8e-04  2e-16  3e-16\n",
      " 5: -1.9999e+00 -2.0001e+00  1e-04  1e-16  9e-17\n",
      " 6: -2.0000e+00 -2.0000e+00  2e-05  2e-16  2e-16\n",
      " 7: -2.0000e+00 -2.0000e+00  2e-06  1e-16  1e-16\n",
      " 8: -2.0000e+00 -2.0000e+00  3e-07  2e-16  4e-16\n",
      "Optimal solution found.\n",
      "Predictions: [ 1. -1.]\n"
     ]
    }
   ],
   "source": [
    "# import numpy as np\n",
    "# import cvxopt\n",
    "\n",
    "# def train_svm(K, y, C=1.0):\n",
    "#     \"\"\"Train an SVM using the precomputed kernel matrix K.\"\"\"\n",
    "#     n = len(y)\n",
    "#     y = y.astype(float).reshape(-1, 1)  # Ensure y is a column vector\n",
    "\n",
    "#     # Construct the quadratic programming matrices\n",
    "#     P = cvxopt.matrix(np.outer(y, y) * K)  # P_ij = y_i * y_j * K_ij\n",
    "#     q = cvxopt.matrix(-np.ones(n))        # q_i = -1\n",
    "#     G = cvxopt.matrix(np.vstack((-np.eye(n), np.eye(n))))  # Constraints 0 <= α <= C\n",
    "#     h = cvxopt.matrix(np.hstack((np.zeros(n), C * np.ones(n))))\n",
    "#     A = cvxopt.matrix(y.T)  # Equality constraint sum(α_i * y_i) = 0\n",
    "#     b = cvxopt.matrix(0.0)\n",
    "\n",
    "#     # Solve the quadratic program\n",
    "#     solution = cvxopt.solvers.qp(P, q, G, h, A, b)\n",
    "#     alphas = np.ravel(solution['x'])\n",
    "\n",
    "#     # Support vectors: α > 0\n",
    "#     sv_indices = alphas > 1e-5\n",
    "#     support_vectors = np.where(sv_indices)[0]\n",
    "#     alphas = alphas[sv_indices]\n",
    "#     support_y = y[sv_indices].flatten()\n",
    "\n",
    "#     # Compute the bias term (intercept)\n",
    "#     bias = np.mean(support_y - np.sum(alphas * support_y * K[support_vectors][:, support_vectors], axis=1))\n",
    "\n",
    "#     return alphas, support_vectors, bias\n",
    "\n",
    "# def predict_svm(K_test, alphas, support_vectors, support_y, bias):\n",
    "#     \"\"\"Make predictions using the trained SVM.\"\"\"\n",
    "#     return np.sign(np.sum(alphas * support_y * K_test[:, support_vectors], axis=1) + bias)\n",
    "\n",
    "# # Example usage\n",
    "# sequences_train = [\"AGCT\", \"GCTA\", \"CTAG\", \"TAGC\"]\n",
    "# sequences_test = [\"AGCT\", \"CTAG\"]\n",
    "\n",
    "# y_train = np.array([1, -1, 1, -1])  # Example labels\n",
    "\n",
    "# k = 2\n",
    "# K_train = spectrum_kernel_matrix(sequences_train, k)\n",
    "# alphas, support_vectors, bias = train_svm(K_train, y_train)\n",
    "\n",
    "# K_test = spectrum_kernel_matrix(sequences_test + sequences_train, k)[:len(sequences_test), :]\n",
    "# predictions = predict_svm(K_test, alphas, support_vectors, y_train[support_vectors], bias)\n",
    "\n",
    "# print(\"Predictions:\", predictions)\n"
   ]
  },
  {
   "cell_type": "markdown",
   "metadata": {},
   "source": [
    "Next Steps\n",
    "\n",
    "    Tune the C parameter.\n",
    "    Try different values of k (k-mer size).\n",
    "    Optimize performance (e.g., using sparse representations for large sequences)."
   ]
  },
  {
   "cell_type": "code",
   "execution_count": 1,
   "metadata": {},
   "outputs": [],
   "source": [
    "import numpy as np\n",
    "import pandas as pd\n",
    "import cvxopt\n",
    "from collections import Counter\n",
    "\n",
    "# def load_data(seq_file: str, label_file: str) -> tuple:\n",
    "#     \"\"\"\n",
    "#     加载多组CSV文件并合并数据\n",
    "    \n",
    "#     参数:\n",
    "#         seq_files: 多个x.csv文件路径列表（如[\"x.csv\", \"x1.csv\"]）\n",
    "#         label_files: 多个y.csv文件路径列表（如[\"y.csv\", \"y1.csv\"]）\n",
    "    \n",
    "#     返回:\n",
    "#         (sequences, labels): 合并后的序列列表和标签数组\n",
    "#     \"\"\"\n",
    "#     # 合并所有数据\n",
    "#     df_seq = pd.read_csv(seq_file)\n",
    "#     df_label = pd.read_csv(label_file)\n",
    "    \n",
    "#     merged = pd.merge(df_seq, df_label, on='Id', how='inner')\n",
    "#     if merged.empty:\n",
    "#         print(f\"警告: {seq_file}和{label_file}中没有匹配的ID\")\n",
    "\n",
    "#     # 提取数据\n",
    "#     sequences = merged['seq'].values\n",
    "#     labels = np.where(merged['Bound'] == 1, 1, -1)\n",
    "#     return sequences, labels\n",
    "\n",
    "\n",
    "def generate_kmers(sequence, k):\n",
    "    \"\"\"Extract all k-mers from a sequence.\"\"\"\n",
    "    return [sequence[i:i+k] for i in range(len(sequence) - k + 1)]\n",
    "\n",
    "def build_kmer_dict(sequences, k):\n",
    "    \"\"\"Create a dictionary mapping each unique k-mer to an index.\"\"\"\n",
    "    kmer_set = set()\n",
    "    for seq in sequences:\n",
    "        kmer_set.update(generate_kmers(seq, k))\n",
    "    return {kmer: idx for idx, kmer in enumerate(sorted(kmer_set))}\n",
    "\n",
    "def compute_kmer_feature_matrix(sequences, k, kmer_dict):\n",
    "    \"\"\"Convert sequences into k-mer frequency vectors.\"\"\"\n",
    "    num_samples = len(sequences)\n",
    "    num_kmers = len(kmer_dict)\n",
    "    feature_matrix = np.zeros((num_samples, num_kmers))\n",
    "\n",
    "    for i, seq in enumerate(sequences):\n",
    "        kmer_counts = Counter(generate_kmers(seq, k))\n",
    "        for kmer, count in kmer_counts.items():\n",
    "            if kmer in kmer_dict:\n",
    "                feature_matrix[i, kmer_dict[kmer]] = count\n",
    "    return feature_matrix\n",
    "\n",
    "def spectrum_kernel_matrix(sequences1, sequences2, k):\n",
    "    \"\"\"Compute the Spectrum Kernel matrix between two sets of sequences.\"\"\"\n",
    "    all_sequences = np.concatenate([sequences1, sequences2])\n",
    "    kmer_dict = build_kmer_dict(all_sequences, k)\n",
    "\n",
    "    # Convert sequences to feature matrices\n",
    "    X1 = compute_kmer_feature_matrix(sequences1, k, kmer_dict)\n",
    "    X2 = compute_kmer_feature_matrix(sequences2, k, kmer_dict)\n",
    "\n",
    "    return X1 @ X2.T  # Compute the dot product\n",
    "\n",
    "def train_svm(K, y, C=1.0):\n",
    "    \"\"\"Train an SVM using the precomputed kernel matrix K.\"\"\"\n",
    "    n = len(y)\n",
    "    y = y.astype(float).reshape(-1, 1)  # Ensure y is a column vector\n",
    "\n",
    "    # Construct the quadratic programming matrices\n",
    "    P = cvxopt.matrix(np.outer(y, y) * K)  # P_ij = y_i * y_j * K_ij\n",
    "    q = cvxopt.matrix(-np.ones(n))        # q_i = -1\n",
    "    G = cvxopt.matrix(np.vstack((-np.eye(n), np.eye(n))))  # Constraints 0 <= α <= C\n",
    "    h = cvxopt.matrix(np.hstack((np.zeros(n), C * np.ones(n))))\n",
    "    A = cvxopt.matrix(y.T)  # Equality constraint sum(α_i * y_i) = 0\n",
    "    b = cvxopt.matrix(0.0)\n",
    "\n",
    "    # Solve the quadratic program\n",
    "    solution = cvxopt.solvers.qp(P, q, G, h, A, b)\n",
    "    alphas = np.ravel(solution['x'])\n",
    "\n",
    "    # Support vectors: α > 0\n",
    "    sv_indices = alphas > 1e-5\n",
    "    support_vectors = np.where(sv_indices)[0]\n",
    "    alphas = alphas[sv_indices]\n",
    "    support_y = y[sv_indices].flatten()\n",
    "\n",
    "    # Compute the bias term (intercept)\n",
    "    bias = np.mean(support_y - np.sum(alphas * support_y * K[support_vectors][:, support_vectors], axis=1))\n",
    "\n",
    "    return alphas, support_vectors, bias\n",
    "\n",
    "def predict_svm(K_test, alphas, support_vectors, support_y, bias):\n",
    "    \"\"\"Make predictions using the trained SVM.\"\"\"\n",
    "    return np.sign(np.sum(alphas * support_y * K_test[:, support_vectors], axis=1) + bias)\n",
    "\n",
    "\n",
    "\n",
    "\n",
    "# # === Main function to train and predict ===\n",
    "# def train_and_predict_spectrum_svm(X_train_path, Y_train_path, X_test_path, k=3, C=1.0):\n",
    "#     \"\"\"Train an SVM using the Spectrum Kernel and make predictions on test data.\"\"\"\n",
    "#     # Load data\n",
    "#     X_train, Y_train = load_data(X_train_path, Y_train_path)\n",
    "\n",
    "#     df_pred = pd.read_csv(X_test_path)\n",
    "#     X_test = df_pred[\"seq\"].values\n",
    "#     # X_test = load_data(X_test_path)\n",
    "\n",
    "#     # Compute Kernel matrices\n",
    "#     K_train = spectrum_kernel_matrix(X_train, X_train, k)\n",
    "#     K_test = spectrum_kernel_matrix(X_test, X_train, k) # TO CHECK\n",
    "\n",
    "#     # Train the SVM\n",
    "#     alphas, support_vectors, bias = train_svm(K_train, Y_train, C)\n",
    "\n",
    "#     # Predict on test set\n",
    "#     predictions = predict_svm(K_test, alphas, support_vectors, Y_train[support_vectors], bias)\n",
    "\n",
    "#     # Convert {-1, 1} predictions to {0, 1}\n",
    "#     predictions = (predictions + 1) // 2\n",
    "\n",
    "#     # # Save predictions\n",
    "#     df_pred[\"Bound\"] = predictions\n",
    "\n",
    "#     return df_pred\n",
    "#     # df_pred = pd.DataFrame(predictions, columns=[\"Bound\"])\n",
    "#     # df_pred.index = np.arange(10000, 10000 + len(predictions))  # Set index starting from 10000\n",
    "#     # df_pred.to_csv(\"predictions.csv\", index=False)\n",
    "\n",
    "#     # print(\"Predictions saved to predictions.csv!\")\n",
    "\n",
    "# # === Run the function with uploaded files ===\n",
    "# prediction_0 = train_and_predict_spectrum_svm(\"./data/Xtr0.csv\", \"./data/Ytr0.csv\", \"./data/Xte0.csv\", k=3, C=1.0)\n",
    "# prediction_1 = train_and_predict_spectrum_svm(\"./data/Xtr1.csv\", \"./data/Ytr1.csv\", \"./data/Xte1.csv\", k = 3, C = 1.0)\n",
    "# prediction_2 = train_and_predict_spectrum_svm(\"./data/Xtr2.csv\", \"./data/Ytr2.csv\", \".data/Xte2.csv\", k = 3, C=1.0)"
   ]
  },
  {
   "cell_type": "code",
   "execution_count": 15,
   "metadata": {},
   "outputs": [],
   "source": [
    "X = pd.read_csv(\"./data/Xtr0.csv\")"
   ]
  },
  {
   "cell_type": "code",
   "execution_count": 16,
   "metadata": {},
   "outputs": [
    {
     "data": {
      "text/html": [
       "<div>\n",
       "<style scoped>\n",
       "    .dataframe tbody tr th:only-of-type {\n",
       "        vertical-align: middle;\n",
       "    }\n",
       "\n",
       "    .dataframe tbody tr th {\n",
       "        vertical-align: top;\n",
       "    }\n",
       "\n",
       "    .dataframe thead th {\n",
       "        text-align: right;\n",
       "    }\n",
       "</style>\n",
       "<table border=\"1\" class=\"dataframe\">\n",
       "  <thead>\n",
       "    <tr style=\"text-align: right;\">\n",
       "      <th></th>\n",
       "      <th>Id</th>\n",
       "      <th>seq</th>\n",
       "    </tr>\n",
       "  </thead>\n",
       "  <tbody>\n",
       "    <tr>\n",
       "      <th>0</th>\n",
       "      <td>0</td>\n",
       "      <td>GGAGAATCATTTGAACCCGGGAGGTGGAGGTTGCCGTGAGCTGAGA...</td>\n",
       "    </tr>\n",
       "    <tr>\n",
       "      <th>1</th>\n",
       "      <td>1</td>\n",
       "      <td>ACCCTGCCTACACCGCGGCGGGGACAGGTGGAGGTTTCAACCCCTG...</td>\n",
       "    </tr>\n",
       "    <tr>\n",
       "      <th>2</th>\n",
       "      <td>2</td>\n",
       "      <td>TGCAAATCTGTAAGCATTTCTCAGGCAATGAATTATGTCAACACAA...</td>\n",
       "    </tr>\n",
       "    <tr>\n",
       "      <th>3</th>\n",
       "      <td>3</td>\n",
       "      <td>GCGGGACGTGGGCGTCGAGGGTAAGGATATCTGCAGAAGTACTGTC...</td>\n",
       "    </tr>\n",
       "    <tr>\n",
       "      <th>4</th>\n",
       "      <td>4</td>\n",
       "      <td>GGAGAATAGCATGTATCCGAGAGGTGGAGCTGGCAGTGAGCCGAGA...</td>\n",
       "    </tr>\n",
       "    <tr>\n",
       "      <th>...</th>\n",
       "      <td>...</td>\n",
       "      <td>...</td>\n",
       "    </tr>\n",
       "    <tr>\n",
       "      <th>1995</th>\n",
       "      <td>1995</td>\n",
       "      <td>GGAGAATCACTTGAACCCGGGAGGCAGAGGTTGCAGTGAGCCGAGA...</td>\n",
       "    </tr>\n",
       "    <tr>\n",
       "      <th>1996</th>\n",
       "      <td>1996</td>\n",
       "      <td>GGAAAAAGACATTCAGGACCACGGACAGATCCAGGACTGCCAGTTG...</td>\n",
       "    </tr>\n",
       "    <tr>\n",
       "      <th>1997</th>\n",
       "      <td>1997</td>\n",
       "      <td>TGGCCGGCCCGGCGCCGTCACCGCCCTCAAAAGACATGGCGGCGCC...</td>\n",
       "    </tr>\n",
       "    <tr>\n",
       "      <th>1998</th>\n",
       "      <td>1998</td>\n",
       "      <td>GCTTCATCATCACAGTGCAGCAGCTGACTACTTGCTAACTAACGTG...</td>\n",
       "    </tr>\n",
       "    <tr>\n",
       "      <th>1999</th>\n",
       "      <td>1999</td>\n",
       "      <td>GCAGAATGAAGCTCTTGTTGCTTTGGCATTAATAGCAGCTTTAGAA...</td>\n",
       "    </tr>\n",
       "  </tbody>\n",
       "</table>\n",
       "<p>2000 rows × 2 columns</p>\n",
       "</div>"
      ],
      "text/plain": [
       "        Id                                                seq\n",
       "0        0  GGAGAATCATTTGAACCCGGGAGGTGGAGGTTGCCGTGAGCTGAGA...\n",
       "1        1  ACCCTGCCTACACCGCGGCGGGGACAGGTGGAGGTTTCAACCCCTG...\n",
       "2        2  TGCAAATCTGTAAGCATTTCTCAGGCAATGAATTATGTCAACACAA...\n",
       "3        3  GCGGGACGTGGGCGTCGAGGGTAAGGATATCTGCAGAAGTACTGTC...\n",
       "4        4  GGAGAATAGCATGTATCCGAGAGGTGGAGCTGGCAGTGAGCCGAGA...\n",
       "...    ...                                                ...\n",
       "1995  1995  GGAGAATCACTTGAACCCGGGAGGCAGAGGTTGCAGTGAGCCGAGA...\n",
       "1996  1996  GGAAAAAGACATTCAGGACCACGGACAGATCCAGGACTGCCAGTTG...\n",
       "1997  1997  TGGCCGGCCCGGCGCCGTCACCGCCCTCAAAAGACATGGCGGCGCC...\n",
       "1998  1998  GCTTCATCATCACAGTGCAGCAGCTGACTACTTGCTAACTAACGTG...\n",
       "1999  1999  GCAGAATGAAGCTCTTGTTGCTTTGGCATTAATAGCAGCTTTAGAA...\n",
       "\n",
       "[2000 rows x 2 columns]"
      ]
     },
     "execution_count": 16,
     "metadata": {},
     "output_type": "execute_result"
    }
   ],
   "source": [
    "X"
   ]
  },
  {
   "cell_type": "code",
   "execution_count": 9,
   "metadata": {},
   "outputs": [
    {
     "name": "stderr",
     "output_type": "stream",
     "text": [
      "[I 2025-02-21 19:14:18,324] A new study created in memory with name: no-name-931261fe-99e4-4d94-abe0-95374905a67f\n",
      "C:\\Users\\liuce\\AppData\\Local\\Temp\\ipykernel_13288\\1816469161.py:73: FutureWarning: suggest_loguniform has been deprecated in v3.0.0. This feature will be removed in v6.0.0. See https://github.com/optuna/optuna/releases/tag/v3.0.0. Use suggest_float(..., log=True) instead.\n",
      "  C = trial.suggest_loguniform(\"C\", 1e-3, 1e0)  # C in [0.01, 100]\n",
      "[I 2025-02-21 19:14:26,248] Trial 0 finished with value: 0.5699897798848323 and parameters: {'k': 2, 'C': 0.4860433805245759}. Best is trial 0 with value: 0.5699897798848323.\n"
     ]
    },
    {
     "name": "stdout",
     "output_type": "stream",
     "text": [
      "C = 0.4860433805245759, k = 2: 0.5699897798848323\n"
     ]
    },
    {
     "name": "stderr",
     "output_type": "stream",
     "text": [
      "[I 2025-02-21 19:14:33,174] Trial 1 finished with value: 0.5820062941502222 and parameters: {'k': 3, 'C': 0.7765205675026385}. Best is trial 1 with value: 0.5820062941502222.\n"
     ]
    },
    {
     "name": "stdout",
     "output_type": "stream",
     "text": [
      "C = 0.7765205675026385, k = 3: 0.5820062941502222\n"
     ]
    },
    {
     "name": "stderr",
     "output_type": "stream",
     "text": [
      "[I 2025-02-21 19:14:39,748] Trial 2 finished with value: 0.6000138069103587 and parameters: {'k': 4, 'C': 0.037963787831821846}. Best is trial 2 with value: 0.6000138069103587.\n"
     ]
    },
    {
     "name": "stdout",
     "output_type": "stream",
     "text": [
      "C = 0.037963787831821846, k = 4: 0.6000138069103587\n"
     ]
    },
    {
     "name": "stderr",
     "output_type": "stream",
     "text": [
      "[I 2025-02-21 19:14:46,598] Trial 3 finished with value: 0.5709870290080185 and parameters: {'k': 2, 'C': 0.04506931672870658}. Best is trial 2 with value: 0.6000138069103587.\n"
     ]
    },
    {
     "name": "stdout",
     "output_type": "stream",
     "text": [
      "C = 0.04506931672870658, k = 2: 0.5709870290080185\n"
     ]
    },
    {
     "name": "stderr",
     "output_type": "stream",
     "text": [
      "[I 2025-02-21 19:14:53,465] Trial 4 finished with value: 0.6160020590305448 and parameters: {'k': 5, 'C': 0.00522692920587771}. Best is trial 4 with value: 0.6160020590305448.\n"
     ]
    },
    {
     "name": "stdout",
     "output_type": "stream",
     "text": [
      "C = 0.00522692920587771, k = 5: 0.6160020590305448\n"
     ]
    },
    {
     "name": "stderr",
     "output_type": "stream",
     "text": [
      "[I 2025-02-21 19:15:00,241] Trial 5 finished with value: 0.5729875302588946 and parameters: {'k': 2, 'C': 0.04735582063669948}. Best is trial 4 with value: 0.6160020590305448.\n"
     ]
    },
    {
     "name": "stdout",
     "output_type": "stream",
     "text": [
      "C = 0.04735582063669948, k = 2: 0.5729875302588946\n"
     ]
    },
    {
     "name": "stderr",
     "output_type": "stream",
     "text": [
      "[I 2025-02-21 19:15:07,034] Trial 6 finished with value: 0.5924995460227844 and parameters: {'k': 4, 'C': 0.0011221734862310831}. Best is trial 4 with value: 0.6160020590305448.\n"
     ]
    },
    {
     "name": "stdout",
     "output_type": "stream",
     "text": [
      "C = 0.0011221734862310831, k = 4: 0.5924995460227844\n"
     ]
    },
    {
     "name": "stderr",
     "output_type": "stream",
     "text": [
      "[I 2025-02-21 19:15:13,637] Trial 7 finished with value: 0.6055020537779159 and parameters: {'k': 5, 'C': 0.002893090223603513}. Best is trial 4 with value: 0.6160020590305448.\n"
     ]
    },
    {
     "name": "stdout",
     "output_type": "stream",
     "text": [
      "C = 0.002893090223603513, k = 5: 0.6055020537779159\n"
     ]
    },
    {
     "name": "stderr",
     "output_type": "stream",
     "text": [
      "[I 2025-02-21 19:15:20,403] Trial 8 finished with value: 0.5694877786332059 and parameters: {'k': 2, 'C': 0.09632699165494871}. Best is trial 4 with value: 0.6160020590305448.\n"
     ]
    },
    {
     "name": "stdout",
     "output_type": "stream",
     "text": [
      "C = 0.09632699165494871, k = 2: 0.5694877786332059\n"
     ]
    },
    {
     "name": "stderr",
     "output_type": "stream",
     "text": [
      "[I 2025-02-21 19:15:27,233] Trial 9 finished with value: 0.5820085452769111 and parameters: {'k': 5, 'C': 0.18124359768053794}. Best is trial 4 with value: 0.6160020590305448.\n"
     ]
    },
    {
     "name": "stdout",
     "output_type": "stream",
     "text": [
      "C = 0.18124359768053794, k = 5: 0.5820085452769111\n"
     ]
    },
    {
     "name": "stderr",
     "output_type": "stream",
     "text": [
      "[I 2025-02-21 19:15:33,957] Trial 10 finished with value: 0.6145005575290433 and parameters: {'k': 5, 'C': 0.006953673483233831}. Best is trial 4 with value: 0.6160020590305448.\n"
     ]
    },
    {
     "name": "stdout",
     "output_type": "stream",
     "text": [
      "C = 0.006953673483233831, k = 5: 0.6145005575290433\n"
     ]
    },
    {
     "name": "stderr",
     "output_type": "stream",
     "text": [
      "[I 2025-02-21 19:15:40,272] Trial 11 finished with value: 0.6149995572784178 and parameters: {'k': 5, 'C': 0.007709613165644205}. Best is trial 4 with value: 0.6160020590305448.\n"
     ]
    },
    {
     "name": "stdout",
     "output_type": "stream",
     "text": [
      "C = 0.007709613165644205, k = 5: 0.6149995572784178\n"
     ]
    },
    {
     "name": "stderr",
     "output_type": "stream",
     "text": [
      "[I 2025-02-21 19:15:46,787] Trial 12 finished with value: 0.5970078024051038 and parameters: {'k': 4, 'C': 0.008720762900527203}. Best is trial 4 with value: 0.6160020590305448.\n"
     ]
    },
    {
     "name": "stdout",
     "output_type": "stream",
     "text": [
      "C = 0.008720762900527203, k = 4: 0.5970078024051038\n"
     ]
    },
    {
     "name": "stderr",
     "output_type": "stream",
     "text": [
      "[I 2025-02-21 19:15:53,391] Trial 13 finished with value: 0.6045033039036037 and parameters: {'k': 5, 'C': 0.00986572298648419}. Best is trial 4 with value: 0.6160020590305448.\n"
     ]
    },
    {
     "name": "stdout",
     "output_type": "stream",
     "text": [
      "C = 0.00986572298648419, k = 5: 0.6045033039036037\n"
     ]
    },
    {
     "name": "stderr",
     "output_type": "stream",
     "text": [
      "[I 2025-02-21 19:16:00,479] Trial 14 finished with value: 0.5904975440207824 and parameters: {'k': 3, 'C': 0.003036388487957504}. Best is trial 4 with value: 0.6160020590305448.\n"
     ]
    },
    {
     "name": "stdout",
     "output_type": "stream",
     "text": [
      "C = 0.003036388487957504, k = 3: 0.5904975440207824\n"
     ]
    },
    {
     "name": "stderr",
     "output_type": "stream",
     "text": [
      "[I 2025-02-21 19:16:07,491] Trial 15 finished with value: 0.5930120525322925 and parameters: {'k': 4, 'C': 0.015264990079319349}. Best is trial 4 with value: 0.6160020590305448.\n"
     ]
    },
    {
     "name": "stdout",
     "output_type": "stream",
     "text": [
      "C = 0.015264990079319349, k = 4: 0.5930120525322925\n"
     ]
    },
    {
     "name": "stderr",
     "output_type": "stream",
     "text": [
      "[I 2025-02-21 19:16:14,430] Trial 16 finished with value: 0.6075018046532289 and parameters: {'k': 5, 'C': 0.0032508223361963425}. Best is trial 4 with value: 0.6160020590305448.\n"
     ]
    },
    {
     "name": "stdout",
     "output_type": "stream",
     "text": [
      "C = 0.0032508223361963425, k = 5: 0.6075018046532289\n"
     ]
    },
    {
     "name": "stderr",
     "output_type": "stream",
     "text": [
      "[I 2025-02-21 19:16:21,796] Trial 17 finished with value: 0.5854962908935922 and parameters: {'k': 5, 'C': 0.0011526651517446444}. Best is trial 4 with value: 0.6160020590305448.\n"
     ]
    },
    {
     "name": "stdout",
     "output_type": "stream",
     "text": [
      "C = 0.0011526651517446444, k = 5: 0.5854962908935922\n"
     ]
    },
    {
     "name": "stderr",
     "output_type": "stream",
     "text": [
      "[I 2025-02-21 19:16:29,067] Trial 18 finished with value: 0.5915015465240353 and parameters: {'k': 3, 'C': 0.01911345276678152}. Best is trial 4 with value: 0.6160020590305448.\n"
     ]
    },
    {
     "name": "stdout",
     "output_type": "stream",
     "text": [
      "C = 0.01911345276678152, k = 3: 0.5915015465240353\n"
     ]
    },
    {
     "name": "stderr",
     "output_type": "stream",
     "text": [
      "[I 2025-02-21 19:16:35,579] Trial 19 finished with value: 0.5935140537839189 and parameters: {'k': 4, 'C': 0.004716298737137293}. Best is trial 4 with value: 0.6160020590305448.\n"
     ]
    },
    {
     "name": "stdout",
     "output_type": "stream",
     "text": [
      "C = 0.004716298737137293, k = 4: 0.5935140537839189\n",
      "Best k: 5, Best C: 0.00522692920587771\n"
     ]
    },
    {
     "name": "stderr",
     "output_type": "stream",
     "text": [
      "[I 2025-02-21 19:16:42,268] A new study created in memory with name: no-name-a843482b-a685-4b26-854f-e66f81b63edb\n",
      "C:\\Users\\liuce\\AppData\\Local\\Temp\\ipykernel_13288\\1816469161.py:73: FutureWarning: suggest_loguniform has been deprecated in v3.0.0. This feature will be removed in v6.0.0. See https://github.com/optuna/optuna/releases/tag/v3.0.0. Use suggest_float(..., log=True) instead.\n",
      "  C = trial.suggest_loguniform(\"C\", 1e-3, 1e0)  # C in [0.01, 100]\n",
      "[I 2025-02-21 19:16:50,405] Trial 0 finished with value: 0.6255018136577357 and parameters: {'k': 3, 'C': 0.0818482843786816}. Best is trial 0 with value: 0.6255018136577357.\n"
     ]
    },
    {
     "name": "stdout",
     "output_type": "stream",
     "text": [
      "C = 0.0818482843786816, k = 3: 0.6255018136577357\n"
     ]
    },
    {
     "name": "stderr",
     "output_type": "stream",
     "text": [
      "[I 2025-02-21 19:16:59,794] Trial 1 finished with value: 0.6205043124083603 and parameters: {'k': 3, 'C': 0.013211481271136956}. Best is trial 0 with value: 0.6255018136577357.\n"
     ]
    },
    {
     "name": "stdout",
     "output_type": "stream",
     "text": [
      "C = 0.013211481271136956, k = 3: 0.6205043124083603\n"
     ]
    },
    {
     "name": "stderr",
     "output_type": "stream",
     "text": [
      "[I 2025-02-21 19:17:07,788] Trial 2 finished with value: 0.5860012936474707 and parameters: {'k': 2, 'C': 0.028152404219249284}. Best is trial 0 with value: 0.6255018136577357.\n"
     ]
    },
    {
     "name": "stdout",
     "output_type": "stream",
     "text": [
      "C = 0.028152404219249284, k = 2: 0.5860012936474707\n"
     ]
    },
    {
     "name": "stderr",
     "output_type": "stream",
     "text": [
      "[I 2025-02-21 19:17:16,177] Trial 3 finished with value: 0.5779977878928403 and parameters: {'k': 2, 'C': 0.010156217508594512}. Best is trial 0 with value: 0.6255018136577357.\n"
     ]
    },
    {
     "name": "stdout",
     "output_type": "stream",
     "text": [
      "C = 0.010156217508594512, k = 2: 0.5779977878928403\n"
     ]
    },
    {
     "name": "stderr",
     "output_type": "stream",
     "text": [
      "[I 2025-02-21 19:17:23,490] Trial 4 finished with value: 0.6730080905493199 and parameters: {'k': 5, 'C': 0.0032162743656388914}. Best is trial 4 with value: 0.6730080905493199.\n"
     ]
    },
    {
     "name": "stdout",
     "output_type": "stream",
     "text": [
      "C = 0.0032162743656388914, k = 5: 0.6730080905493199\n"
     ]
    },
    {
     "name": "stderr",
     "output_type": "stream",
     "text": [
      "[I 2025-02-21 19:17:30,973] Trial 5 finished with value: 0.6655050852951903 and parameters: {'k': 5, 'C': 0.013453752462349125}. Best is trial 4 with value: 0.6730080905493199.\n"
     ]
    },
    {
     "name": "stdout",
     "output_type": "stream",
     "text": [
      "C = 0.013453752462349125, k = 5: 0.6655050852951903\n"
     ]
    },
    {
     "name": "stderr",
     "output_type": "stream",
     "text": [
      "[I 2025-02-21 19:17:38,704] Trial 6 finished with value: 0.6329980655317987 and parameters: {'k': 4, 'C': 0.014609292931736264}. Best is trial 4 with value: 0.6730080905493199.\n"
     ]
    },
    {
     "name": "stdout",
     "output_type": "stream",
     "text": [
      "C = 0.014609292931736264, k = 4: 0.6329980655317987\n"
     ]
    },
    {
     "name": "stderr",
     "output_type": "stream",
     "text": [
      "[I 2025-02-21 19:17:46,585] Trial 7 finished with value: 0.5774972873923399 and parameters: {'k': 2, 'C': 0.006791236053543397}. Best is trial 4 with value: 0.6730080905493199.\n"
     ]
    },
    {
     "name": "stdout",
     "output_type": "stream",
     "text": [
      "C = 0.006791236053543397, k = 2: 0.5774972873923399\n"
     ]
    },
    {
     "name": "stderr",
     "output_type": "stream",
     "text": [
      "[I 2025-02-21 19:17:54,393] Trial 8 finished with value: 0.6180033106569839 and parameters: {'k': 3, 'C': 0.4643213998239667}. Best is trial 4 with value: 0.6730080905493199.\n"
     ]
    },
    {
     "name": "stdout",
     "output_type": "stream",
     "text": [
      "C = 0.4643213998239667, k = 3: 0.6180033106569839\n"
     ]
    },
    {
     "name": "stderr",
     "output_type": "stream",
     "text": [
      "[I 2025-02-21 19:18:02,395] Trial 9 finished with value: 0.5905012958985972 and parameters: {'k': 2, 'C': 0.8221955656979055}. Best is trial 4 with value: 0.6730080905493199.\n"
     ]
    },
    {
     "name": "stdout",
     "output_type": "stream",
     "text": [
      "C = 0.8221955656979055, k = 2: 0.5905012958985972\n"
     ]
    },
    {
     "name": "stderr",
     "output_type": "stream",
     "text": [
      "[I 2025-02-21 19:18:09,775] Trial 10 finished with value: 0.6590068329198764 and parameters: {'k': 5, 'C': 0.001067084864075745}. Best is trial 4 with value: 0.6730080905493199.\n"
     ]
    },
    {
     "name": "stdout",
     "output_type": "stream",
     "text": [
      "C = 0.001067084864075745, k = 5: 0.6590068329198764\n"
     ]
    },
    {
     "name": "stderr",
     "output_type": "stream",
     "text": [
      "[I 2025-02-21 19:18:17,400] Trial 11 finished with value: 0.6685065875470673 and parameters: {'k': 5, 'C': 0.0019199060764942349}. Best is trial 4 with value: 0.6730080905493199.\n"
     ]
    },
    {
     "name": "stdout",
     "output_type": "stream",
     "text": [
      "C = 0.0019199060764942349, k = 5: 0.6685065875470673\n"
     ]
    },
    {
     "name": "stderr",
     "output_type": "stream",
     "text": [
      "[I 2025-02-21 19:18:24,555] Trial 12 finished with value: 0.6630100865483174 and parameters: {'k': 5, 'C': 0.0012297355939132476}. Best is trial 4 with value: 0.6730080905493199.\n"
     ]
    },
    {
     "name": "stdout",
     "output_type": "stream",
     "text": [
      "C = 0.0012297355939132476, k = 5: 0.6630100865483174\n"
     ]
    },
    {
     "name": "stderr",
     "output_type": "stream",
     "text": [
      "[I 2025-02-21 19:18:31,563] Trial 13 finished with value: 0.6430028229128678 and parameters: {'k': 4, 'C': 0.003117722071079087}. Best is trial 4 with value: 0.6730080905493199.\n"
     ]
    },
    {
     "name": "stdout",
     "output_type": "stream",
     "text": [
      "C = 0.003117722071079087, k = 4: 0.6430028229128678\n"
     ]
    },
    {
     "name": "stderr",
     "output_type": "stream",
     "text": [
      "[I 2025-02-21 19:18:39,239] Trial 14 finished with value: 0.645001823412618 and parameters: {'k': 4, 'C': 0.003710514433061992}. Best is trial 4 with value: 0.6730080905493199.\n"
     ]
    },
    {
     "name": "stdout",
     "output_type": "stream",
     "text": [
      "C = 0.003710514433061992, k = 4: 0.645001823412618\n"
     ]
    },
    {
     "name": "stderr",
     "output_type": "stream",
     "text": [
      "[I 2025-02-21 19:18:46,826] Trial 15 finished with value: 0.6630055842949396 and parameters: {'k': 5, 'C': 0.08399211849691202}. Best is trial 4 with value: 0.6730080905493199.\n"
     ]
    },
    {
     "name": "stdout",
     "output_type": "stream",
     "text": [
      "C = 0.08399211849691202, k = 5: 0.6630055842949396\n"
     ]
    },
    {
     "name": "stderr",
     "output_type": "stream",
     "text": [
      "[I 2025-02-21 19:18:54,557] Trial 16 finished with value: 0.645001823412618 and parameters: {'k': 4, 'C': 0.002356692359509429}. Best is trial 4 with value: 0.6730080905493199.\n"
     ]
    },
    {
     "name": "stdout",
     "output_type": "stream",
     "text": [
      "C = 0.002356692359509429, k = 4: 0.645001823412618\n"
     ]
    },
    {
     "name": "stderr",
     "output_type": "stream",
     "text": [
      "[I 2025-02-21 19:19:02,731] Trial 17 finished with value: 0.6695060877969423 and parameters: {'k': 5, 'C': 0.005096608453223425}. Best is trial 4 with value: 0.6730080905493199.\n"
     ]
    },
    {
     "name": "stdout",
     "output_type": "stream",
     "text": [
      "C = 0.005096608453223425, k = 5: 0.6695060877969423\n"
     ]
    },
    {
     "name": "stderr",
     "output_type": "stream",
     "text": [
      "[I 2025-02-21 19:19:10,337] Trial 18 finished with value: 0.6670058364211288 and parameters: {'k': 5, 'C': 0.005376109210424385}. Best is trial 4 with value: 0.6730080905493199.\n"
     ]
    },
    {
     "name": "stdout",
     "output_type": "stream",
     "text": [
      "C = 0.005376109210424385, k = 5: 0.6670058364211288\n"
     ]
    },
    {
     "name": "stderr",
     "output_type": "stream",
     "text": [
      "[I 2025-02-21 19:19:18,467] Trial 19 finished with value: 0.6375003189096142 and parameters: {'k': 4, 'C': 0.05826853797883022}. Best is trial 4 with value: 0.6730080905493199.\n"
     ]
    },
    {
     "name": "stdout",
     "output_type": "stream",
     "text": [
      "C = 0.05826853797883022, k = 4: 0.6375003189096142\n",
      "Best k: 5, Best C: 0.0032162743656388914\n"
     ]
    },
    {
     "name": "stderr",
     "output_type": "stream",
     "text": [
      "[I 2025-02-21 19:19:25,379] A new study created in memory with name: no-name-b43f03d5-a0f1-4c64-a76f-9fa99f819c65\n",
      "C:\\Users\\liuce\\AppData\\Local\\Temp\\ipykernel_13288\\1816469161.py:73: FutureWarning: suggest_loguniform has been deprecated in v3.0.0. This feature will be removed in v6.0.0. See https://github.com/optuna/optuna/releases/tag/v3.0.0. Use suggest_float(..., log=True) instead.\n",
      "  C = trial.suggest_loguniform(\"C\", 1e-3, 1e0)  # C in [0.01, 100]\n",
      "[I 2025-02-21 19:19:33,055] Trial 0 finished with value: 0.6220073146609878 and parameters: {'k': 5, 'C': 0.004817169309834877}. Best is trial 0 with value: 0.6220073146609878.\n"
     ]
    },
    {
     "name": "stdout",
     "output_type": "stream",
     "text": [
      "C = 0.004817169309834877, k = 5: 0.6220073146609878\n"
     ]
    },
    {
     "name": "stderr",
     "output_type": "stream",
     "text": [
      "[I 2025-02-21 19:19:41,598] Trial 1 finished with value: 0.5950012981497239 and parameters: {'k': 2, 'C': 0.006408218842486696}. Best is trial 0 with value: 0.6220073146609878.\n"
     ]
    },
    {
     "name": "stdout",
     "output_type": "stream",
     "text": [
      "C = 0.006408218842486696, k = 2: 0.5950012981497239\n"
     ]
    },
    {
     "name": "stderr",
     "output_type": "stream",
     "text": [
      "[I 2025-02-21 19:19:50,670] Trial 2 finished with value: 0.5985048016532274 and parameters: {'k': 2, 'C': 0.013223586472214654}. Best is trial 0 with value: 0.6220073146609878.\n"
     ]
    },
    {
     "name": "stdout",
     "output_type": "stream",
     "text": [
      "C = 0.013223586472214654, k = 2: 0.5985048016532274\n"
     ]
    },
    {
     "name": "stderr",
     "output_type": "stream",
     "text": [
      "[I 2025-02-21 19:19:58,511] Trial 3 finished with value: 0.6074958016487252 and parameters: {'k': 4, 'C': 0.08142229068758683}. Best is trial 0 with value: 0.6220073146609878.\n"
     ]
    },
    {
     "name": "stdout",
     "output_type": "stream",
     "text": [
      "C = 0.08142229068758683, k = 4: 0.6074958016487252\n"
     ]
    },
    {
     "name": "stderr",
     "output_type": "stream",
     "text": [
      "[I 2025-02-21 19:20:07,069] Trial 4 finished with value: 0.6090115602859232 and parameters: {'k': 3, 'C': 0.016054489502643182}. Best is trial 0 with value: 0.6220073146609878.\n"
     ]
    },
    {
     "name": "stdout",
     "output_type": "stream",
     "text": [
      "C = 0.016054489502643182, k = 3: 0.6090115602859232\n"
     ]
    },
    {
     "name": "stderr",
     "output_type": "stream",
     "text": [
      "[I 2025-02-21 19:20:14,565] Trial 5 finished with value: 0.6120093106599853 and parameters: {'k': 5, 'C': 0.002959361779052844}. Best is trial 0 with value: 0.6220073146609878.\n"
     ]
    },
    {
     "name": "stdout",
     "output_type": "stream",
     "text": [
      "C = 0.002959361779052844, k = 5: 0.6120093106599853\n"
     ]
    },
    {
     "name": "stderr",
     "output_type": "stream",
     "text": [
      "[I 2025-02-21 19:20:23,601] Trial 6 finished with value: 0.6050150600375488 and parameters: {'k': 3, 'C': 0.24276542751464475}. Best is trial 0 with value: 0.6220073146609878.\n"
     ]
    },
    {
     "name": "stdout",
     "output_type": "stream",
     "text": [
      "C = 0.24276542751464475, k = 3: 0.6050150600375488\n"
     ]
    },
    {
     "name": "stderr",
     "output_type": "stream",
     "text": [
      "[I 2025-02-21 19:20:32,245] Trial 7 finished with value: 0.6009990500245372 and parameters: {'k': 4, 'C': 0.2889210212566755}. Best is trial 0 with value: 0.6220073146609878.\n"
     ]
    },
    {
     "name": "stdout",
     "output_type": "stream",
     "text": [
      "C = 0.2889210212566755, k = 4: 0.6009990500245372\n"
     ]
    },
    {
     "name": "stderr",
     "output_type": "stream",
     "text": [
      "[I 2025-02-21 19:20:40,822] Trial 8 finished with value: 0.5975045510277894 and parameters: {'k': 2, 'C': 0.01377307906890249}. Best is trial 0 with value: 0.6220073146609878.\n"
     ]
    },
    {
     "name": "stdout",
     "output_type": "stream",
     "text": [
      "C = 0.01377307906890249, k = 2: 0.5975045510277894\n"
     ]
    },
    {
     "name": "stderr",
     "output_type": "stream",
     "text": [
      "[I 2025-02-21 19:20:48,002] Trial 9 finished with value: 0.584011297654476 and parameters: {'k': 5, 'C': 0.6687070769296843}. Best is trial 0 with value: 0.6220073146609878.\n"
     ]
    },
    {
     "name": "stdout",
     "output_type": "stream",
     "text": [
      "C = 0.6687070769296843, k = 5: 0.584011297654476\n"
     ]
    },
    {
     "name": "stderr",
     "output_type": "stream",
     "text": [
      "[I 2025-02-21 19:20:56,174] Trial 10 finished with value: 0.6130073101587344 and parameters: {'k': 5, 'C': 0.0013328984742830118}. Best is trial 0 with value: 0.6220073146609878.\n"
     ]
    },
    {
     "name": "stdout",
     "output_type": "stream",
     "text": [
      "C = 0.0013328984742830118, k = 5: 0.6130073101587344\n"
     ]
    },
    {
     "name": "stderr",
     "output_type": "stream",
     "text": [
      "[I 2025-02-21 19:21:04,585] Trial 11 finished with value: 0.6105100602851727 and parameters: {'k': 5, 'C': 0.0011000925812063558}. Best is trial 0 with value: 0.6220073146609878.\n"
     ]
    },
    {
     "name": "stdout",
     "output_type": "stream",
     "text": [
      "C = 0.0011000925812063558, k = 5: 0.6105100602851727\n"
     ]
    },
    {
     "name": "stderr",
     "output_type": "stream",
     "text": [
      "[I 2025-02-21 19:21:12,055] Trial 12 finished with value: 0.6090175632904269 and parameters: {'k': 4, 'C': 0.0012847879700535986}. Best is trial 0 with value: 0.6220073146609878.\n"
     ]
    },
    {
     "name": "stdout",
     "output_type": "stream",
     "text": [
      "C = 0.0012847879700535986, k = 4: 0.6090175632904269\n"
     ]
    },
    {
     "name": "stderr",
     "output_type": "stream",
     "text": [
      "[I 2025-02-21 19:21:19,575] Trial 13 finished with value: 0.6185053119086102 and parameters: {'k': 5, 'C': 0.0038334400886329127}. Best is trial 0 with value: 0.6220073146609878.\n"
     ]
    },
    {
     "name": "stdout",
     "output_type": "stream",
     "text": [
      "C = 0.0038334400886329127, k = 5: 0.6185053119086102\n"
     ]
    },
    {
     "name": "stderr",
     "output_type": "stream",
     "text": [
      "[I 2025-02-21 19:21:27,078] Trial 14 finished with value: 0.6195108151629891 and parameters: {'k': 4, 'C': 0.004938317309903191}. Best is trial 0 with value: 0.6220073146609878.\n"
     ]
    },
    {
     "name": "stdout",
     "output_type": "stream",
     "text": [
      "C = 0.004938317309903191, k = 4: 0.6195108151629891\n"
     ]
    },
    {
     "name": "stderr",
     "output_type": "stream",
     "text": [
      "[I 2025-02-21 19:21:35,207] Trial 15 finished with value: 0.603497800649225 and parameters: {'k': 4, 'C': 0.045539654994929304}. Best is trial 0 with value: 0.6220073146609878.\n"
     ]
    },
    {
     "name": "stdout",
     "output_type": "stream",
     "text": [
      "C = 0.045539654994929304, k = 4: 0.603497800649225\n"
     ]
    },
    {
     "name": "stderr",
     "output_type": "stream",
     "text": [
      "[I 2025-02-21 19:21:42,952] Trial 16 finished with value: 0.6080105592849221 and parameters: {'k': 3, 'C': 0.004469254931550909}. Best is trial 0 with value: 0.6220073146609878.\n"
     ]
    },
    {
     "name": "stdout",
     "output_type": "stream",
     "text": [
      "C = 0.004469254931550909, k = 3: 0.6080105592849221\n"
     ]
    },
    {
     "name": "stderr",
     "output_type": "stream",
     "text": [
      "[I 2025-02-21 19:21:50,593] Trial 17 finished with value: 0.6125023074048562 and parameters: {'k': 4, 'C': 0.031107143284761617}. Best is trial 0 with value: 0.6220073146609878.\n"
     ]
    },
    {
     "name": "stdout",
     "output_type": "stream",
     "text": [
      "C = 0.031107143284761617, k = 4: 0.6125023074048562\n"
     ]
    },
    {
     "name": "stderr",
     "output_type": "stream",
     "text": [
      "[I 2025-02-21 19:21:57,746] Trial 18 finished with value: 0.6295118206662434 and parameters: {'k': 5, 'C': 0.007925224469777689}. Best is trial 18 with value: 0.6295118206662434.\n"
     ]
    },
    {
     "name": "stdout",
     "output_type": "stream",
     "text": [
      "C = 0.007925224469777689, k = 5: 0.6295118206662434\n"
     ]
    },
    {
     "name": "stderr",
     "output_type": "stream",
     "text": [
      "[I 2025-02-21 19:22:05,461] Trial 19 finished with value: 0.6255108181644914 and parameters: {'k': 5, 'C': 0.00940072197718209}. Best is trial 18 with value: 0.6295118206662434.\n"
     ]
    },
    {
     "name": "stdout",
     "output_type": "stream",
     "text": [
      "C = 0.00940072197718209, k = 5: 0.6255108181644914\n",
      "Best k: 5, Best C: 0.007925224469777689\n"
     ]
    }
   ],
   "source": [
    "import numpy as np\n",
    "import pandas as pd\n",
    "import cvxopt\n",
    "import optuna\n",
    "from collections import Counter\n",
    "cvxopt.solvers.options[\"show_progress\"] = False\n",
    "\n",
    "\n",
    "def load_data(seq_file: str, label_file: str) -> tuple:\n",
    "    \"\"\"\n",
    "    加载多组CSV文件并合并数据\n",
    "    \n",
    "    参数:\n",
    "        seq_files: 多个x.csv文件路径列表（如[\"x.csv\", \"x1.csv\"]）\n",
    "        label_files: 多个y.csv文件路径列表（如[\"y.csv\", \"y1.csv\"]）\n",
    "    \n",
    "    返回:\n",
    "        (sequences, labels): 合并后的序列列表和标签数组\n",
    "    \"\"\"\n",
    "    # 合并所有数据\n",
    "    df_seq = pd.read_csv(seq_file)\n",
    "    df_label = pd.read_csv(label_file)\n",
    "    \n",
    "    merged = pd.merge(df_seq, df_label, on='Id', how='inner')\n",
    "    if merged.empty:\n",
    "        print(f\"警告: {seq_file}和{label_file}中没有匹配的ID\")\n",
    "\n",
    "    # 提取数据\n",
    "    sequences = merged['seq'].values\n",
    "    labels = np.where(merged['Bound'] == 1, 1, -1)\n",
    "    return sequences, labels\n",
    "\n",
    "def manual_kfold_split(X, y, n_splits=3, seed=42):\n",
    "    \"\"\"Manually splits X and y into K folds for cross-validation.\"\"\"\n",
    "    np.random.seed(seed)\n",
    "    indices = np.arange(len(X))\n",
    "    np.random.shuffle(indices)\n",
    "    \n",
    "    folds = np.array_split(indices, n_splits)\n",
    "    return folds\n",
    "\n",
    "def cross_val_score_manual(X, y, k, C, n_splits=3):\n",
    "    \"\"\"Performs cross-validation without using sklearn.\"\"\"\n",
    "    folds = manual_kfold_split(X, y, n_splits)\n",
    "    accuracies = []\n",
    "\n",
    "    for i in range(n_splits):\n",
    "        # print(\"i = \", i)\n",
    "        val_indices = folds[i]  # Current fold is validation set\n",
    "        train_indices = np.hstack([folds[j] for j in range(n_splits) if j != i])  # Rest are training\n",
    "\n",
    "        X_train, y_train = X[train_indices], y[train_indices]\n",
    "        X_val, y_val = X[val_indices], y[val_indices]\n",
    "\n",
    "        # Compute kernel matrices\n",
    "        K_train = spectrum_kernel_matrix(X_train, X_train, k)\n",
    "        K_val = spectrum_kernel_matrix(X_val, X_train, k)\n",
    "\n",
    "        # Train and predict\n",
    "        alphas, support_vectors, bias = train_svm(K_train, y_train, C)\n",
    "        predictions = predict_svm(K_val, alphas, support_vectors, y_train[support_vectors], bias)\n",
    "\n",
    "        # Compute accuracy\n",
    "        accuracy = np.mean(predictions == y_val)\n",
    "        accuracies.append(accuracy)\n",
    "\n",
    "        # print(\"accuracies: \", accuracies)\n",
    "    return np.mean(accuracies)\n",
    "\n",
    "def objective(trial):\n",
    "    \"\"\"Objective function for Optuna to optimize k and C.\"\"\"\n",
    "    k = trial.suggest_int(\"k\", 2, 5)  # k-mer length between 2 and 6\n",
    "    C = trial.suggest_loguniform(\"C\", 1e-3, 1e0)  # C in [0.01, 100]\n",
    "\n",
    "    cross_val = cross_val_score_manual(X_train, Y_train, k, C)\n",
    "\n",
    "    print(f\"C = {C}, k = {k}: {cross_val}\")\n",
    "    return cross_val\n",
    "\n",
    "def train_and_predict_spectrum_svm(X_train_path, Y_train_path, X_test_path, n_trials=20):\n",
    "    \"\"\"Hyperparameter optimization with Optuna, then train and predict.\"\"\"\n",
    "    global X_train, Y_train  # Needed for Optuna's objective function\n",
    "    X_train, Y_train = load_data(X_train_path, Y_train_path)\n",
    "\n",
    "    df_pred = pd.read_csv(X_test_path)\n",
    "    X_test = df_pred[\"seq\"].values\n",
    "    # X_test = load_data(X_test_path)\n",
    "\n",
    "    # Run Optuna optimization\n",
    "    study = optuna.create_study(direction=\"maximize\")\n",
    "    study.optimize(objective, n_trials=n_trials)\n",
    "\n",
    "    # Best hyperparameters\n",
    "    best_k = study.best_params[\"k\"]\n",
    "    best_C = study.best_params[\"C\"]\n",
    "    print(f\"Best k: {best_k}, Best C: {best_C}\")\n",
    "\n",
    "    # Train final model with best hyperparameters\n",
    "    K_train = spectrum_kernel_matrix(X_train, X_train, best_k)\n",
    "    K_test = spectrum_kernel_matrix(X_test, X_train, best_k)\n",
    "    alphas, support_vectors, bias = train_svm(K_train, Y_train, best_C)\n",
    "\n",
    "    # Predict on test set\n",
    "    predictions = predict_svm(K_test, alphas, support_vectors, Y_train[support_vectors], bias)\n",
    "\n",
    "    # Convert {-1,1} predictions to {0,1}\n",
    "    predictions = (predictions + 1) // 2\n",
    "\n",
    "    df_pred[\"Bound\"] = predictions\n",
    "\n",
    "    return df_pred\n",
    "\n",
    "# === Run the function with hyperparameter tuning ===\n",
    "prediction_0 = train_and_predict_spectrum_svm(\"./data/Xtr0.csv\", \"./data/Ytr0.csv\", \"./data/Xte0.csv\", n_trials=20)\n",
    "prediction_1 = train_and_predict_spectrum_svm(\"./data/Xtr1.csv\", \"./data/Ytr1.csv\", \"./data/Xte1.csv\", n_trials=20)\n",
    "prediction_2 = train_and_predict_spectrum_svm(\"./data/Xtr2.csv\", \"./data/Ytr2.csv\", \"./data/Xte2.csv\", n_trials=20)"
   ]
  },
  {
   "cell_type": "code",
   "execution_count": 19,
   "metadata": {},
   "outputs": [],
   "source": [
    "def save_to_csv(df_0, df_1, df_2):\n",
    "    res = pd.concat([df_0, df_1, df_2], ignore_index = True)\n",
    "    res[\"Bound\"] = res[\"Bound\"].astype(\"int\")\n",
    "    res[[\"Id\", \"Bound\"]].to_csv(\"./results/predictions.csv\", index = False)\n",
    "    return\n",
    "    # df_pred.to_csv(\"predictions.csv\""
   ]
  },
  {
   "cell_type": "code",
   "execution_count": 20,
   "metadata": {},
   "outputs": [],
   "source": [
    "save_to_csv(prediction_0, prediction_1, prediction_2)"
   ]
  },
  {
   "cell_type": "markdown",
   "metadata": {},
   "source": []
  }
 ],
 "metadata": {
  "kernelspec": {
   "display_name": "kernel-env",
   "language": "python",
   "name": "python3"
  },
  "language_info": {
   "codemirror_mode": {
    "name": "ipython",
    "version": 3
   },
   "file_extension": ".py",
   "mimetype": "text/x-python",
   "name": "python",
   "nbconvert_exporter": "python",
   "pygments_lexer": "ipython3",
   "version": "3.10.16"
  }
 },
 "nbformat": 4,
 "nbformat_minor": 2
}
