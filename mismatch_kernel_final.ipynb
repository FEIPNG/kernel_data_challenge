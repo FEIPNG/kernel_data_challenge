{
 "cells": [
  {
   "cell_type": "code",
   "execution_count": 1,
   "metadata": {},
   "outputs": [],
   "source": [
    "from joblib import Parallel, delayed\n",
    "from tqdm import tqdm\n",
    "import numpy as np\n",
    "from scipy.sparse import coo_matrix\n",
    "from itertools import product\n",
    "from collections import defaultdict\n",
    "import pandas as pd\n",
    "import cvxopt\n",
    "cvxopt.solvers.options[\"show_progress\"] = False\n",
    "import optuna"
   ]
  },
  {
   "cell_type": "code",
   "execution_count": 2,
   "metadata": {},
   "outputs": [],
   "source": [
    "def load_data(seq_file: str, label_file: str) -> tuple:\n",
    "    \"\"\"\n",
    "    加载多组CSV文件并合并数据\n",
    "    \n",
    "    参数:\n",
    "        seq_files: 多个x.csv文件路径列表（如[\"x.csv\", \"x1.csv\"]）\n",
    "        label_files: 多个y.csv文件路径列表（如[\"y.csv\", \"y1.csv\"]）\n",
    "    \n",
    "    返回:\n",
    "        (sequences, labels): 合并后的序列列表和标签数组\n",
    "    \"\"\"\n",
    "    # 合并所有数据\n",
    "    df_seq = pd.read_csv(seq_file)\n",
    "    df_label = pd.read_csv(label_file)\n",
    "    \n",
    "    merged = pd.merge(df_seq, df_label, on='Id', how='inner')\n",
    "    if merged.empty:\n",
    "        print(f\"警告: {seq_file}和{label_file}中没有匹配的ID\")\n",
    "\n",
    "    # 提取数据\n",
    "    sequences = merged['seq'].values\n",
    "    labels = np.where(merged['Bound'] == 1, 1, -1)\n",
    "    return sequences, labels"
   ]
  },
  {
   "cell_type": "code",
   "execution_count": 3,
   "metadata": {},
   "outputs": [],
   "source": [
    "def generate_mismatch_neighbors(kmer, m, alphabet = \"ACGT\"):\n",
    "    \"\"\"\n",
    "    Generate all possible k-mers that are within 'm' mismatches of the given k-mer.\n",
    "    \n",
    "    Args:\n",
    "        kmer (str): The original k-mer.\n",
    "        m (int): Maximum allowed mismatches.\n",
    "        alphabet (str): Possible characters in the k-mers (e.g., \"ACGT\").\n",
    "    \n",
    "    Returns:\n",
    "        set: A set of k-mers within m mismatches.\n",
    "    \"\"\"\n",
    "    if m == 0:\n",
    "        return {kmer}  # No mismatches allowed, return the k-mer itself\n",
    "\n",
    "    n = len(kmer)\n",
    "    mismatch_neighbors = set()\n",
    "\n",
    "    # Generate all possible positions and substitutions up to m mismatches\n",
    "    def generate(pos, mismatches, current_kmer):\n",
    "        if mismatches > m:  # Stop if we exceed the allowed mismatches\n",
    "            return\n",
    "        if pos == n:  # If we processed all positions, add the modified k-mer\n",
    "            mismatch_neighbors.add(\"\".join(current_kmer))\n",
    "            return\n",
    "\n",
    "        # Keep the original character (no mismatch at this position)\n",
    "        generate(pos + 1, mismatches, current_kmer)\n",
    "\n",
    "        # Try all possible mismatches at the current position\n",
    "        original_char = current_kmer[pos]\n",
    "        for char in alphabet:\n",
    "            if char != original_char:  # Only substitute if it's different\n",
    "                current_kmer[pos] = char\n",
    "                generate(pos + 1, mismatches + 1, current_kmer)\n",
    "                current_kmer[pos] = original_char  # Restore original\n",
    "\n",
    "    generate(0, 0, list(kmer))\n",
    "    return mismatch_neighbors\n",
    "\n",
    "def compute_feature_vector(seq, k, m, alphabet, neighbor_cache):\n",
    "    \"\"\"\n",
    "    Compute the feature vector for a given sequence using the mismatch kernel.\n",
    "\n",
    "    Args:\n",
    "        seq (str): Input DNA sequence.\n",
    "        k (int): Length of k-mers.\n",
    "        m (int): Maximum number of mismatches allowed.\n",
    "        alphabet (str): Alphabet set (e.g., \"ACGT\").\n",
    "        neighbor_cache (dict): Dictionary to cache computed mismatch neighborhoods.\n",
    "\n",
    "    Returns:\n",
    "        dict: Feature vector where keys are k-mers and values are their frequencies.\n",
    "    \"\"\"\n",
    "    feature_vector = defaultdict(int)\n",
    "\n",
    "    # Iterate over all k-mers in the sequence\n",
    "    for i in range(len(seq) - k + 1):\n",
    "        kmer = seq[i : i + k]  # Extract k-mer from the sequence\n",
    "\n",
    "        # Check if neighbors are cached\n",
    "        if kmer in neighbor_cache:\n",
    "            neighbors = neighbor_cache[kmer]\n",
    "        else:\n",
    "            neighbors = generate_mismatch_neighbors(kmer, m, alphabet)\n",
    "            neighbor_cache[kmer] = neighbors  # Cache the result\n",
    "\n",
    "        # Update feature vector for all mismatch neighbors\n",
    "        for neighbor in neighbors:\n",
    "            feature_vector[neighbor] += 1  # Count occurrences\n",
    "\n",
    "    return feature_vector\n"
   ]
  },
  {
   "cell_type": "code",
   "execution_count": 4,
   "metadata": {},
   "outputs": [],
   "source": [
    "\n",
    "def compute_mismatch_kernel(sequences, k, m=1, alphabet=\"ACGT\"):\n",
    "    \"\"\"\n",
    "    Compute the mismatch kernel matrix for a set of sequences.\n",
    "    \n",
    "    Args:\n",
    "        sequences (list of str): List of input DNA sequences.\n",
    "        k (int): Length of k-mers.\n",
    "        m (int): Maximum number of mismatches allowed.\n",
    "        alphabet (str): Alphabet set (default: \"ACGT\").\n",
    "    \n",
    "    Returns:\n",
    "        np.ndarray: The normalized mismatch kernel matrix.\n",
    "    \"\"\"\n",
    "    n = len(sequences)\n",
    "\n",
    "    # Create a shared neighbor cache (read-only after computed)\n",
    "    neighbor_cache = {}\n",
    "\n",
    "    # Compute feature vectors in parallel\n",
    "    feature_vectors = list(\n",
    "        Parallel(n_jobs=-1)(\n",
    "            delayed(compute_feature_vector)(seq, k, m, alphabet, neighbor_cache)\n",
    "            for seq in tqdm(sequences, total=n, desc=\"Computing feature vectors\")\n",
    "        )\n",
    "    )\n",
    "\n",
    "    # Build the global vocabulary from all feature vectors\n",
    "    all_kmers = set()\n",
    "    \n",
    "    # Collect all k-mers from feature vectors in parallel\n",
    "    all_kmers = set().union(*Parallel(n_jobs=-1)(\n",
    "        delayed(lambda fv: set(fv.keys()))(fv) for fv in tqdm(feature_vectors, desc=\"Collecting k-mers\")\n",
    "    ))\n",
    "\n",
    "    all_kmers = sorted(all_kmers)\n",
    "    kmer_index = {kmer: idx for idx, kmer in enumerate(all_kmers)}\n",
    "\n",
    "    # Collect entries for the sparse matrix in parallel\n",
    "    rows, cols, data = [], [], []\n",
    "    results = Parallel(n_jobs=-1)(\n",
    "        delayed(lambda i, fv: (\n",
    "            [i] * len(fv),\n",
    "            [kmer_index[kmer] for kmer in fv.keys()],\n",
    "            list(fv.values())\n",
    "        ))(i, fv) for i, fv in tqdm(enumerate(feature_vectors), total=len(feature_vectors), desc=\"Building sparse matrix entries\")\n",
    "    )\n",
    "\n",
    "    for r, c, d in results:\n",
    "        rows.extend(r)\n",
    "        cols.extend(c)\n",
    "        data.extend(d)\n",
    "\n",
    "    # Build the sparse matrix (COO format) and convert to CSR\n",
    "    X = coo_matrix((data, (rows, cols)), shape=(n, len(all_kmers)), dtype=np.float32).tocsr()\n",
    "\n",
    "    # Compute kernel matrix (dot product)\n",
    "    K = X @ X.T\n",
    "    return K.toarray()\n"
   ]
  },
  {
   "cell_type": "code",
   "execution_count": null,
   "metadata": {},
   "outputs": [],
   "source": [
    "def manual_kfold_split(X, y, n_splits=3, seed=42):\n",
    "    \"\"\"Manually splits X and y into K folds for cross-validation.\"\"\"\n",
    "    np.random.seed(seed)\n",
    "    indices = np.arange(len(X))\n",
    "    np.random.shuffle(indices)\n",
    "    \n",
    "    folds = np.array_split(indices, n_splits)\n",
    "    return folds\n",
    "\n",
    "def train_svm(K, y, C=1.0):\n",
    "    \"\"\"Train an SVM using the precomputed kernel matrix K.\"\"\"\n",
    "    n = len(y)\n",
    "    y = y.astype(float).reshape(-1, 1)  # Ensure y is a column vector\n",
    "\n",
    "    # Construct the quadratic programming matrices\n",
    "    P = cvxopt.matrix(np.outer(y, y) * K)  # P_ij = y_i * y_j * K_ij\n",
    "    q = cvxopt.matrix(-np.ones(n))        # q_i = -1\n",
    "    G = cvxopt.matrix(np.vstack((-np.eye(n), np.eye(n))))  # Constraints 0 <= α <= C\n",
    "    h = cvxopt.matrix(np.hstack((np.zeros(n), C * np.ones(n))))\n",
    "    A = cvxopt.matrix(y.T)  # Equality constraint sum(α_i * y_i) = 0\n",
    "    b = cvxopt.matrix(0.0)\n",
    "\n",
    "    # Solve the quadratic program\n",
    "    solution = cvxopt.solvers.qp(P, q, G, h, A, b)\n",
    "    alphas = np.ravel(solution['x'])\n",
    "\n",
    "    # Support vectors: α > 0\n",
    "    sv_indices = alphas > 1e-5\n",
    "    support_vectors = np.where(sv_indices)[0]\n",
    "    alphas = alphas[sv_indices]\n",
    "    support_y = y[sv_indices].flatten()\n",
    "\n",
    "    # Compute the bias term (intercept)\n",
    "    bias = np.mean(support_y - np.sum(alphas * support_y * K[support_vectors][:, support_vectors], axis=1))\n",
    "\n",
    "    return alphas, support_vectors, bias\n",
    "\n",
    "def predict_svm(K_test, alphas, support_vectors, support_y, bias):\n",
    "    \"\"\"Make predictions using the trained SVM.\"\"\"\n",
    "    return np.sign(np.sum(alphas * support_y * K_test[:, support_vectors], axis=1) + bias)\n",
    "\n",
    "def cross_val_score_manual(X, y, C, kernel_matrix, n_splits=3):\n",
    "    \"\"\"Performs cross-validation without using sklearn.\"\"\"\n",
    "    folds = manual_kfold_split(X, y, n_splits)\n",
    "    accuracies = []\n",
    "\n",
    "    for i in range(n_splits):\n",
    "        # print(\"i = \", i)\n",
    "        val_indices = folds[i]  # Current fold is validation set\n",
    "        train_indices = np.hstack([folds[j] for j in range(n_splits) if j != i])  # Rest are training\n",
    "\n",
    "        y_train = y[train_indices]\n",
    "        y_val = y[val_indices]\n",
    "\n",
    "        # Compute kernel matrices\n",
    "        indices_train_submatrix = np.ix_(train_indices, train_indices)\n",
    "        K_train = kernel_matrix[indices_train_submatrix]\n",
    "\n",
    "        indices_test_submatrix = np.ix_(val_indices, train_indices)\n",
    "        K_val = kernel_matrix[indices_test_submatrix]\n",
    "\n",
    "        # Train and predict\n",
    "        alphas, support_vectors, bias = train_svm(K_train, y_train, C)\n",
    "        predictions = predict_svm(K_val, alphas, support_vectors, y_train[support_vectors], bias)\n",
    "\n",
    "        # Compute accuracy\n",
    "        accuracy = np.mean(predictions == y_val)\n",
    "        accuracies.append(accuracy)\n",
    "\n",
    "        # print(\"accuracies: \", accuracies)\n",
    "    return np.mean(accuracies)\n",
    "\n",
    "def objective(trial):\n",
    "    \"\"\"Objective function for Optuna to optimize k and C.\"\"\"\n",
    "    k = trial.suggest_int(\"k\", 4, 7)  # k-mer length between 2 and 6\n",
    "    m = trial.suggest_int(\"m\", 1, 3)\n",
    "    C = trial.suggest_loguniform(\"C\", 1e-3, 1e2)  # C in [0.01, 100]\n",
    "    \n",
    "    kernel_matrix = compute_mismatch_kernel(X_train, k, m = m)\n",
    "\n",
    "    cross_val = cross_val_score_manual(X_train, Y_train, C, kernel_matrix)\n",
    "\n",
    "    print(f\"C = {C}, k = {k}: {cross_val}\")\n",
    "    return cross_val\n",
    "\n",
    "def train_and_predict_mismatch_svm(X_train_path, Y_train_path, X_test_path, n_trials=20):\n",
    "    \"\"\"Hyperparameter optimization with Optuna, then train and predict.\"\"\"\n",
    "    global X_train, Y_train  # Needed for Optuna's objective function\n",
    "    X_train, Y_train = load_data(X_train_path, Y_train_path)\n",
    "\n",
    "    df_pred = pd.read_csv(X_test_path)\n",
    "    X_test = df_pred[\"seq\"].values\n",
    "    # X_test = load_data(X_test_path)\n",
    "\n",
    "    # Run Optuna optimization\n",
    "    study = optuna.create_study(direction=\"maximize\")\n",
    "    study.optimize(objective, n_trials=n_trials)\n",
    "\n",
    "    # Best hyperparameters\n",
    "    best_k = study.best_params[\"k\"]\n",
    "    best_m = study.best_params[\"m\"]\n",
    "    best_C = study.best_params[\"C\"]\n",
    "    print(f\"Best k: {best_k}, Best C: {best_C}\")\n",
    "\n",
    "    # Train final model with best hyperparameters\n",
    "    sequences = np.concatenate([X_train, X_test])\n",
    "    kernel_matrix = compute_mismatch_kernel(sequences, best_k, m = best_m)\n",
    "    K_train = kernel_matrix[0:len(K_train), 0:len(K_train)]\n",
    "    K_test = kernel_matrix[0:len(X_test), 0:len(X_train)]\n",
    "    # K_test = spectrum_kernel_matrix(X_test, X_train, best_k)\n",
    "    alphas, support_vectors, bias = train_svm(K_train, Y_train, best_C)\n",
    "\n",
    "    # Predict on test set\n",
    "    predictions = predict_svm(K_test, alphas, support_vectors, Y_train[support_vectors], bias)\n",
    "\n",
    "    # Convert {-1,1} predictions to {0,1}\n",
    "    predictions = (predictions + 1) // 2\n",
    "\n",
    "    df_pred[\"Bound\"] = predictions\n",
    "\n",
    "    return df_pred"
   ]
  },
  {
   "cell_type": "code",
   "execution_count": 7,
   "metadata": {},
   "outputs": [
    {
     "name": "stderr",
     "output_type": "stream",
     "text": [
      "[I 2025-03-09 18:12:37,116] A new study created in memory with name: no-name-5fae2711-fdfa-4483-a2f5-5f9e390c315f\n",
      "C:\\Users\\liuce\\AppData\\Local\\Temp\\ipykernel_3592\\640963372.py:77: FutureWarning: suggest_loguniform has been deprecated in v3.0.0. This feature will be removed in v6.0.0. See https://github.com/optuna/optuna/releases/tag/v3.0.0. Use suggest_float(..., log=True) instead.\n",
      "  C = trial.suggest_loguniform(\"C\", 1e-3, 1e2)  # C in [0.01, 100]\n",
      "Computing feature vectors: 100%|██████████| 2000/2000 [00:58<00:00, 34.31it/s]\n",
      "Collecting k-mers: 100%|██████████| 2000/2000 [00:02<00:00, 876.10it/s]\n",
      "Building sparse matrix entries: 100%|██████████| 2000/2000 [00:01<00:00, 1162.69it/s]\n",
      "[I 2025-03-09 18:14:14,782] Trial 0 finished with value: 0.6194890542716629 and parameters: {'k': 6, 'm': 3, 'C': 49.75825041847994}. Best is trial 0 with value: 0.6194890542716629.\n"
     ]
    },
    {
     "name": "stdout",
     "output_type": "stream",
     "text": [
      "C = 49.75825041847994, k = 6: 0.6194890542716629\n"
     ]
    },
    {
     "name": "stderr",
     "output_type": "stream",
     "text": [
      "Computing feature vectors: 100%|██████████| 2000/2000 [00:03<00:00, 646.81it/s]\n",
      "Collecting k-mers: 100%|██████████| 2000/2000 [00:00<00:00, 3890.81it/s]\n",
      "Building sparse matrix entries: 100%|██████████| 2000/2000 [00:00<00:00, 4313.85it/s]\n",
      "[I 2025-03-09 18:14:30,193] Trial 1 finished with value: 0.6835050942996971 and parameters: {'k': 6, 'm': 1, 'C': 3.894064669024647}. Best is trial 1 with value: 0.6835050942996971.\n"
     ]
    },
    {
     "name": "stdout",
     "output_type": "stream",
     "text": [
      "C = 3.894064669024647, k = 6: 0.6835050942996971\n"
     ]
    },
    {
     "name": "stderr",
     "output_type": "stream",
     "text": [
      "Computing feature vectors: 100%|██████████| 2000/2000 [00:05<00:00, 363.97it/s]\n",
      "Collecting k-mers: 100%|██████████| 2000/2000 [00:01<00:00, 1847.26it/s]\n",
      "Building sparse matrix entries: 100%|██████████| 2000/2000 [00:01<00:00, 1538.46it/s]\n",
      "[I 2025-03-09 18:14:48,603] Trial 2 finished with value: 0.7045103574338957 and parameters: {'k': 7, 'm': 1, 'C': 2.4099874536290806}. Best is trial 2 with value: 0.7045103574338957.\n"
     ]
    },
    {
     "name": "stdout",
     "output_type": "stream",
     "text": [
      "C = 2.4099874536290806, k = 7: 0.7045103574338957\n"
     ]
    },
    {
     "name": "stderr",
     "output_type": "stream",
     "text": [
      "Computing feature vectors: 100%|██████████| 2000/2000 [00:00<00:00, 2761.93it/s]\n",
      "Collecting k-mers: 100%|██████████| 2000/2000 [00:00<00:00, 14285.34it/s]\n",
      "Building sparse matrix entries: 100%|██████████| 2000/2000 [00:00<00:00, 9565.75it/s]\n",
      "[I 2025-03-09 18:14:59,916] Trial 3 finished with value: 0.624008566287427 and parameters: {'k': 4, 'm': 2, 'C': 2.354265153539472}. Best is trial 2 with value: 0.7045103574338957.\n"
     ]
    },
    {
     "name": "stdout",
     "output_type": "stream",
     "text": [
      "C = 2.354265153539472, k = 4: 0.624008566287427\n"
     ]
    },
    {
     "name": "stderr",
     "output_type": "stream",
     "text": [
      "Computing feature vectors: 100%|██████████| 2000/2000 [00:24<00:00, 81.95it/s]\n",
      "Collecting k-mers: 100%|██████████| 2000/2000 [00:00<00:00, 5999.79it/s]\n",
      "Building sparse matrix entries: 100%|██████████| 2000/2000 [00:00<00:00, 6311.08it/s]\n",
      "[I 2025-03-09 18:15:38,370] Trial 4 finished with value: 0.6374988181584883 and parameters: {'k': 5, 'm': 3, 'C': 0.3608209762686849}. Best is trial 2 with value: 0.7045103574338957.\n"
     ]
    },
    {
     "name": "stdout",
     "output_type": "stream",
     "text": [
      "C = 0.3608209762686849, k = 5: 0.6374988181584883\n"
     ]
    },
    {
     "name": "stderr",
     "output_type": "stream",
     "text": [
      "Computing feature vectors: 100%|██████████| 2000/2000 [00:00<00:00, 2681.22it/s]\n",
      "Collecting k-mers: 100%|██████████| 2000/2000 [00:00<00:00, 14804.88it/s]\n",
      "Building sparse matrix entries: 100%|██████████| 2000/2000 [00:00<00:00, 14180.99it/s]\n",
      "[I 2025-03-09 18:15:48,342] Trial 5 finished with value: 0.6434995715355535 and parameters: {'k': 4, 'm': 2, 'C': 0.007740329457427919}. Best is trial 2 with value: 0.7045103574338957.\n"
     ]
    },
    {
     "name": "stdout",
     "output_type": "stream",
     "text": [
      "C = 0.007740329457427919, k = 4: 0.6434995715355535\n"
     ]
    },
    {
     "name": "stderr",
     "output_type": "stream",
     "text": [
      "Computing feature vectors: 100%|██████████| 2000/2000 [00:02<00:00, 671.46it/s]\n",
      "Collecting k-mers: 100%|██████████| 2000/2000 [00:00<00:00, 3821.61it/s]\n",
      "Building sparse matrix entries: 100%|██████████| 2000/2000 [00:00<00:00, 4092.81it/s]\n",
      "[I 2025-03-09 18:16:03,213] Trial 6 finished with value: 0.6835050942996971 and parameters: {'k': 6, 'm': 1, 'C': 0.2191326267343542}. Best is trial 2 with value: 0.7045103574338957.\n"
     ]
    },
    {
     "name": "stdout",
     "output_type": "stream",
     "text": [
      "C = 0.2191326267343542, k = 6: 0.6835050942996971\n"
     ]
    },
    {
     "name": "stderr",
     "output_type": "stream",
     "text": [
      "Computing feature vectors: 100%|██████████| 2000/2000 [01:04<00:00, 30.93it/s]\n",
      "Collecting k-mers: 100%|██████████| 2000/2000 [00:03<00:00, 655.62it/s]\n",
      "Building sparse matrix entries: 100%|██████████| 2000/2000 [00:02<00:00, 809.07it/s]\n",
      "[I 2025-03-09 18:17:50,866] Trial 7 finished with value: 0.6194898046472259 and parameters: {'k': 6, 'm': 3, 'C': 0.013432622282106125}. Best is trial 2 with value: 0.7045103574338957.\n"
     ]
    },
    {
     "name": "stdout",
     "output_type": "stream",
     "text": [
      "C = 0.013432622282106125, k = 6: 0.6194898046472259\n"
     ]
    },
    {
     "name": "stderr",
     "output_type": "stream",
     "text": [
      "Computing feature vectors: 100%|██████████| 2000/2000 [00:01<00:00, 1973.35it/s]\n",
      "Collecting k-mers: 100%|██████████| 2000/2000 [00:00<00:00, 4486.53it/s]\n",
      "Building sparse matrix entries: 100%|██████████| 2000/2000 [00:00<00:00, 6387.13it/s]\n",
      "[I 2025-03-09 18:18:04,070] Trial 8 finished with value: 0.6545083314198757 and parameters: {'k': 5, 'm': 1, 'C': 1.0715152112724788}. Best is trial 2 with value: 0.7045103574338957.\n"
     ]
    },
    {
     "name": "stdout",
     "output_type": "stream",
     "text": [
      "C = 1.0715152112724788, k = 5: 0.6545083314198757\n"
     ]
    },
    {
     "name": "stderr",
     "output_type": "stream",
     "text": [
      "Computing feature vectors: 100%|██████████| 2000/2000 [00:00<00:00, 2097.50it/s]\n",
      "Collecting k-mers: 100%|██████████| 2000/2000 [00:00<00:00, 5100.44it/s]\n",
      "Building sparse matrix entries: 100%|██████████| 2000/2000 [00:00<00:00, 7088.92it/s]\n",
      "[I 2025-03-09 18:18:17,382] Trial 9 finished with value: 0.6600138369253812 and parameters: {'k': 5, 'm': 1, 'C': 0.005947179092311141}. Best is trial 2 with value: 0.7045103574338957.\n"
     ]
    },
    {
     "name": "stdout",
     "output_type": "stream",
     "text": [
      "C = 0.005947179092311141, k = 5: 0.6600138369253812\n"
     ]
    },
    {
     "name": "stderr",
     "output_type": "stream",
     "text": [
      "Computing feature vectors: 100%|██████████| 2000/2000 [00:34<00:00, 58.21it/s]\n",
      "Collecting k-mers: 100%|██████████| 2000/2000 [00:09<00:00, 212.49it/s]\n",
      "Building sparse matrix entries: 100%|██████████| 2000/2000 [00:09<00:00, 212.20it/s]\n",
      "[I 2025-03-09 18:20:08,978] Trial 10 finished with value: 0.6870108489298894 and parameters: {'k': 7, 'm': 2, 'C': 35.67264714712135}. Best is trial 2 with value: 0.7045103574338957.\n"
     ]
    },
    {
     "name": "stdout",
     "output_type": "stream",
     "text": [
      "C = 35.67264714712135, k = 7: 0.6870108489298894\n"
     ]
    },
    {
     "name": "stderr",
     "output_type": "stream",
     "text": [
      "Computing feature vectors: 100%|██████████| 2000/2000 [00:34<00:00, 58.62it/s]\n",
      "Collecting k-mers: 100%|██████████| 2000/2000 [00:07<00:00, 272.46it/s]\n",
      "Building sparse matrix entries: 100%|██████████| 2000/2000 [00:06<00:00, 302.86it/s]\n",
      "[I 2025-03-09 18:22:03,144] Trial 11 finished with value: 0.6870108489298894 and parameters: {'k': 7, 'm': 2, 'C': 41.632385565448175}. Best is trial 2 with value: 0.7045103574338957.\n"
     ]
    },
    {
     "name": "stdout",
     "output_type": "stream",
     "text": [
      "C = 41.632385565448175, k = 7: 0.6870108489298894\n"
     ]
    },
    {
     "name": "stderr",
     "output_type": "stream",
     "text": [
      "Computing feature vectors: 100%|██████████| 2000/2000 [00:36<00:00, 54.63it/s]\n",
      "Collecting k-mers: 100%|██████████| 2000/2000 [00:06<00:00, 303.42it/s]\n",
      "Building sparse matrix entries: 100%|██████████| 2000/2000 [00:06<00:00, 294.06it/s]\n",
      "[I 2025-03-09 18:23:53,939] Trial 12 finished with value: 0.6870108489298894 and parameters: {'k': 7, 'm': 2, 'C': 18.86129284432882}. Best is trial 2 with value: 0.7045103574338957.\n"
     ]
    },
    {
     "name": "stdout",
     "output_type": "stream",
     "text": [
      "C = 18.86129284432882, k = 7: 0.6870108489298894\n"
     ]
    },
    {
     "name": "stderr",
     "output_type": "stream",
     "text": [
      "Computing feature vectors: 100%|██████████| 2000/2000 [00:05<00:00, 360.23it/s]\n",
      "Collecting k-mers: 100%|██████████| 2000/2000 [00:01<00:00, 1820.61it/s]\n",
      "Building sparse matrix entries: 100%|██████████| 2000/2000 [00:01<00:00, 1556.63it/s]\n",
      "[I 2025-03-09 18:24:13,204] Trial 13 finished with value: 0.7045103574338957 and parameters: {'k': 7, 'm': 1, 'C': 8.382248210504596}. Best is trial 2 with value: 0.7045103574338957.\n"
     ]
    },
    {
     "name": "stdout",
     "output_type": "stream",
     "text": [
      "C = 8.382248210504596, k = 7: 0.7045103574338957\n"
     ]
    },
    {
     "name": "stderr",
     "output_type": "stream",
     "text": [
      "Computing feature vectors: 100%|██████████| 2000/2000 [00:05<00:00, 367.75it/s]\n",
      "Collecting k-mers: 100%|██████████| 2000/2000 [00:01<00:00, 1662.12it/s]\n",
      "Building sparse matrix entries: 100%|██████████| 2000/2000 [00:01<00:00, 1403.24it/s]\n",
      "[I 2025-03-09 18:24:32,295] Trial 14 finished with value: 0.7045103574338957 and parameters: {'k': 7, 'm': 1, 'C': 0.05519541267874976}. Best is trial 2 with value: 0.7045103574338957.\n"
     ]
    },
    {
     "name": "stdout",
     "output_type": "stream",
     "text": [
      "C = 0.05519541267874976, k = 7: 0.7045103574338957\n"
     ]
    },
    {
     "name": "stderr",
     "output_type": "stream",
     "text": [
      "Computing feature vectors: 100%|██████████| 2000/2000 [00:05<00:00, 377.07it/s]\n",
      "Collecting k-mers: 100%|██████████| 2000/2000 [00:00<00:00, 2033.44it/s]\n",
      "Building sparse matrix entries: 100%|██████████| 2000/2000 [00:00<00:00, 2297.21it/s]\n",
      "[I 2025-03-09 18:24:49,816] Trial 15 finished with value: 0.7045103574338957 and parameters: {'k': 7, 'm': 1, 'C': 7.701659619417176}. Best is trial 2 with value: 0.7045103574338957.\n"
     ]
    },
    {
     "name": "stdout",
     "output_type": "stream",
     "text": [
      "C = 7.701659619417176, k = 7: 0.7045103574338957\n"
     ]
    },
    {
     "name": "stderr",
     "output_type": "stream",
     "text": [
      "Computing feature vectors: 100%|██████████| 2000/2000 [00:05<00:00, 373.06it/s]\n",
      "Collecting k-mers: 100%|██████████| 2000/2000 [00:00<00:00, 2014.76it/s]\n",
      "Building sparse matrix entries: 100%|██████████| 2000/2000 [00:01<00:00, 1609.91it/s]\n",
      "[I 2025-03-09 18:25:07,559] Trial 16 finished with value: 0.7045103574338957 and parameters: {'k': 7, 'm': 1, 'C': 0.6837301812993599}. Best is trial 2 with value: 0.7045103574338957.\n"
     ]
    },
    {
     "name": "stdout",
     "output_type": "stream",
     "text": [
      "C = 0.6837301812993599, k = 7: 0.7045103574338957\n"
     ]
    },
    {
     "name": "stderr",
     "output_type": "stream",
     "text": [
      "Computing feature vectors: 100%|██████████| 2000/2000 [00:03<00:00, 557.80it/s]\n",
      "Collecting k-mers: 100%|██████████| 2000/2000 [00:00<00:00, 3769.46it/s]\n",
      "Building sparse matrix entries: 100%|██████████| 2000/2000 [00:00<00:00, 4119.50it/s]\n",
      "[I 2025-03-09 18:25:22,900] Trial 17 finished with value: 0.695003099051075 and parameters: {'k': 6, 'm': 1, 'C': 0.001043582567124231}. Best is trial 2 with value: 0.7045103574338957.\n"
     ]
    },
    {
     "name": "stdout",
     "output_type": "stream",
     "text": [
      "C = 0.001043582567124231, k = 6: 0.695003099051075\n"
     ]
    },
    {
     "name": "stderr",
     "output_type": "stream",
     "text": [
      "Computing feature vectors: 100%|██████████| 2000/2000 [00:05<00:00, 364.27it/s]\n",
      "Collecting k-mers: 100%|██████████| 2000/2000 [00:01<00:00, 1939.52it/s]\n",
      "Building sparse matrix entries: 100%|██████████| 2000/2000 [00:01<00:00, 1661.30it/s]\n",
      "[I 2025-03-09 18:25:40,980] Trial 18 finished with value: 0.7045103574338957 and parameters: {'k': 7, 'm': 1, 'C': 8.97619252480154}. Best is trial 2 with value: 0.7045103574338957.\n"
     ]
    },
    {
     "name": "stdout",
     "output_type": "stream",
     "text": [
      "C = 8.97619252480154, k = 7: 0.7045103574338957\n"
     ]
    },
    {
     "name": "stderr",
     "output_type": "stream",
     "text": [
      "Computing feature vectors: 100%|██████████| 2000/2000 [00:20<00:00, 99.05it/s] \n",
      "Collecting k-mers: 100%|██████████| 2000/2000 [00:01<00:00, 1090.24it/s]\n",
      "Building sparse matrix entries: 100%|██████████| 2000/2000 [00:01<00:00, 1317.17it/s]\n",
      "[I 2025-03-09 18:26:34,912] Trial 19 finished with value: 0.6880050965508238 and parameters: {'k': 6, 'm': 2, 'C': 0.1175919224662916}. Best is trial 2 with value: 0.7045103574338957.\n"
     ]
    },
    {
     "name": "stdout",
     "output_type": "stream",
     "text": [
      "C = 0.1175919224662916, k = 6: 0.6880050965508238\n",
      "Best k: 7, Best C: 2.4099874536290806\n"
     ]
    },
    {
     "ename": "TypeError",
     "evalue": "only integer scalar arrays can be converted to a scalar index",
     "output_type": "error",
     "traceback": [
      "\u001b[1;31m---------------------------------------------------------------------------\u001b[0m",
      "\u001b[1;31mTypeError\u001b[0m                                 Traceback (most recent call last)",
      "Cell \u001b[1;32mIn[7], line 1\u001b[0m\n\u001b[1;32m----> 1\u001b[0m prediction_1 \u001b[38;5;241m=\u001b[39m \u001b[43mtrain_and_predict_mismatch_svm\u001b[49m\u001b[43m(\u001b[49m\u001b[38;5;124;43m\"\u001b[39;49m\u001b[38;5;124;43m./data/Xtr1.csv\u001b[39;49m\u001b[38;5;124;43m\"\u001b[39;49m\u001b[43m,\u001b[49m\u001b[43m \u001b[49m\u001b[38;5;124;43m\"\u001b[39;49m\u001b[38;5;124;43m./data/Ytr1.csv\u001b[39;49m\u001b[38;5;124;43m\"\u001b[39;49m\u001b[43m,\u001b[49m\u001b[43m \u001b[49m\u001b[38;5;124;43m\"\u001b[39;49m\u001b[38;5;124;43m./data/Xte1.csv\u001b[39;49m\u001b[38;5;124;43m\"\u001b[39;49m\u001b[43m,\u001b[49m\u001b[43m \u001b[49m\u001b[43mn_trials\u001b[49m\u001b[38;5;241;43m=\u001b[39;49m\u001b[38;5;241;43m20\u001b[39;49m\u001b[43m)\u001b[49m\n",
      "Cell \u001b[1;32mIn[5], line 106\u001b[0m, in \u001b[0;36mtrain_and_predict_mismatch_svm\u001b[1;34m(X_train_path, Y_train_path, X_test_path, n_trials)\u001b[0m\n\u001b[0;32m    103\u001b[0m \u001b[38;5;28mprint\u001b[39m(\u001b[38;5;124mf\u001b[39m\u001b[38;5;124m\"\u001b[39m\u001b[38;5;124mBest k: \u001b[39m\u001b[38;5;132;01m{\u001b[39;00mbest_k\u001b[38;5;132;01m}\u001b[39;00m\u001b[38;5;124m, Best C: \u001b[39m\u001b[38;5;132;01m{\u001b[39;00mbest_C\u001b[38;5;132;01m}\u001b[39;00m\u001b[38;5;124m\"\u001b[39m)\n\u001b[0;32m    105\u001b[0m \u001b[38;5;66;03m# Train final model with best hyperparameters\u001b[39;00m\n\u001b[1;32m--> 106\u001b[0m sequences \u001b[38;5;241m=\u001b[39m \u001b[43mnp\u001b[49m\u001b[38;5;241;43m.\u001b[39;49m\u001b[43mconcatenate\u001b[49m\u001b[43m(\u001b[49m\u001b[43mX_train\u001b[49m\u001b[43m,\u001b[49m\u001b[43m \u001b[49m\u001b[43mX_test\u001b[49m\u001b[43m)\u001b[49m\n\u001b[0;32m    107\u001b[0m kernel_matrix \u001b[38;5;241m=\u001b[39m compute_mismatch_kernel(sequences, best_k, m \u001b[38;5;241m=\u001b[39m best_m)\n\u001b[0;32m    108\u001b[0m K_train \u001b[38;5;241m=\u001b[39m kernel_matrix[\u001b[38;5;241m0\u001b[39m:\u001b[38;5;28mlen\u001b[39m(K_train), \u001b[38;5;241m0\u001b[39m:\u001b[38;5;28mlen\u001b[39m(K_train)]\n",
      "\u001b[1;31mTypeError\u001b[0m: only integer scalar arrays can be converted to a scalar index"
     ]
    }
   ],
   "source": [
    "prediction_1 = train_and_predict_mismatch_svm(\"./data/Xtr1.csv\", \"./data/Ytr1.csv\", \"./data/Xte1.csv\", n_trials=20)"
   ]
  },
  {
   "cell_type": "code",
   "execution_count": null,
   "metadata": {},
   "outputs": [],
   "source": []
  },
  {
   "cell_type": "markdown",
   "metadata": {},
   "source": [
    "# With logistic regression"
   ]
  },
  {
   "cell_type": "code",
   "execution_count": null,
   "metadata": {},
   "outputs": [],
   "source": [
    "def sigmoid(z):\n",
    "    \"\"\"Sigmoid activation function.\"\"\"\n",
    "    return 1 / (1 + np.exp(-z))\n",
    "\n",
    "def train_logistic_regression(K_train, y_train, C, lr=0.01, epochs=1000):\n",
    "    \"\"\"\n",
    "    Train logistic regression using batch gradient descent.\n",
    "    \n",
    "    Parameters:\n",
    "    - K_train: (n_samples, n_samples) kernel matrix\n",
    "    - y_train: (n_samples,) labels {-1,1}\n",
    "    - C: regularization parameter\n",
    "    - lr: learning rate\n",
    "    - epochs: number of gradient updates\n",
    "    \n",
    "    Returns:\n",
    "    - w: optimized weight vector\n",
    "    - b: bias term\n",
    "    \"\"\"\n",
    "    n_samples = K_train.shape[0]\n",
    "    \n",
    "    # Initialize weights\n",
    "    w = np.zeros(n_samples)\n",
    "    b = 0\n",
    "    \n",
    "    # Gradient Descent\n",
    "    for _ in range(epochs):\n",
    "        linear_model = K_train @ w + b\n",
    "        y_pred = sigmoid(linear_model)\n",
    "        \n",
    "        # Compute gradients\n",
    "        error = y_pred - (y_train + 1) / 2  # Convert {-1,1} -> {0,1} for logistic loss\n",
    "        dw = (K_train.T @ error) / n_samples + C * w\n",
    "        db = np.mean(error)\n",
    "        \n",
    "        # Update weights\n",
    "        w -= lr * dw\n",
    "        b -= lr * db\n",
    "\n",
    "    return w, b\n",
    "\n",
    "\n",
    "def predict_logistic_regression(K_test, w, b, threshold = 0.5):\n",
    "    \"\"\"\n",
    "    Predict using logistic regression with kernel.\n",
    "    \n",
    "    Parameters:\n",
    "    - K_test: (n_samples, n_train_samples) kernel matrix\n",
    "    - w: trained weight vector\n",
    "    - b: bias term\n",
    "    - threshold: threshold for prediction \n",
    "    \n",
    "    Returns:\n",
    "    - predictions: {-1,1}\n",
    "    \"\"\"\n",
    "    y_pred_prob = sigmoid(K_test @ w + b)\n",
    "    return np.where(y_pred_prob >= threshold, 1, -1)\n",
    "\n",
    "\n",
    "def cross_val_score_manual_logistic_regression(X, y, C, kernel_matrix, threshold, n_splits=3):\n",
    "    \"\"\"Performs cross-validation without using sklearn.\"\"\"\n",
    "    folds = manual_kfold_split(X, y, n_splits)\n",
    "    accuracies = []\n",
    "\n",
    "    for i in range(n_splits):\n",
    "        val_indices = folds[i]  \n",
    "        train_indices = np.hstack([folds[j] for j in range(n_splits) if j != i])\n",
    "\n",
    "        y_train = X[train_indices], y[train_indices]\n",
    "        y_val = X[val_indices], y[val_indices]\n",
    "\n",
    "         # Compute kernel matrices\n",
    "        indices_train_submatrix = np.ix_(train_indices, train_indices)\n",
    "        K_train = kernel_matrix[indices_train_submatrix]\n",
    "\n",
    "        indices_test_submatrix = np.ix_(val_indices, train_indices)\n",
    "        K_val = kernel_matrix[indices_test_submatrix]\n",
    "\n",
    "        # Train and predict\n",
    "        w, b = train_logistic_regression(K_train, y_train, C)\n",
    "        predictions = predict_logistic_regression(K_val, w, b, threshold = threshold)\n",
    "\n",
    "        # Compute accuracy\n",
    "        accuracy = np.mean(predictions == y_val)\n",
    "        accuracies.append(accuracy)\n",
    "\n",
    "    return np.mean(accuracies)\n",
    "\n",
    "\n",
    "def objective(trial):\n",
    "    \"\"\"Objective function for Optuna to optimize k and C.\"\"\"\n",
    "    k = trial.suggest_int(\"k\", 4, 7)  # k-mer length between 2 and 6\n",
    "    C = trial.suggest_float(\"C\", 1e-2, 1e1, log = True)  # Regularization term\n",
    "    m = trial.suggest_int(\"m\", 1, 3)\n",
    "    threshold = trial.suggest_float(\"threshold\", 0.48, 0.51)\n",
    "\n",
    "    kernel_matrix = compute_mismatch_kernel(X_train, k, m = m)\n",
    "    cross_val = cross_val_score_manual_logistic_regression(X_train, Y_train, C, kernel_matrix, threshold)\n",
    "\n",
    "    # print(f\"C = {C}, k = {k}: {cross_val}, m: {}\")\n",
    "    return cross_val\n",
    "\n",
    "\n",
    "def train_and_predict_spectrum_logistic_regression(X_train_path, Y_train_path, X_test_path, n_trials=30):\n",
    "    \"\"\"Hyperparameter optimization with Optuna, then train and predict.\"\"\"\n",
    "    global X_train, Y_train  \n",
    "    X_train, Y_train = load_data(X_train_path, Y_train_path)\n",
    "\n",
    "    df_pred = pd.read_csv(X_test_path)\n",
    "    X_test = df_pred[\"seq\"].values\n",
    "\n",
    "    # Run Optuna optimization\n",
    "    study = optuna.create_study(direction=\"maximize\")\n",
    "    study.optimize(objective, n_trials=n_trials)\n",
    "\n",
    "    # Best hyperparameters\n",
    "    best_k = study.best_params[\"k\"]\n",
    "    best_C = study.best_params[\"C\"]\n",
    "    best_m = study.best_params[\"m\"]\n",
    "\n",
    "\n",
    "    #A MODIFIER !!!\n",
    "    best_threshold = study.best_params[\"threshold\"]\n",
    "    print(f\"Best k: {best_k}, Best C: {best_C}, Best threshold: {best_threshold}, Best m: {best_m}\")\n",
    "\n",
    "    # Train final model\n",
    "    sequences = np.concatenate([X_train, X_test])\n",
    "    kernel_matrix = compute_mismatch_kernel(sequences, best_k, m = best_m)\n",
    "    K_train = kernel_matrix[0:len(K_train), 0:len(K_train)]\n",
    "    K_test = kernel_matrix[0:len(X_test), 0:len(X_train)]\n",
    "\n",
    "    w, b = train_logistic_regression(K_train, Y_train, best_C)\n",
    "\n",
    "    # Predict on test set\n",
    "    predictions = predict_logistic_regression(K_test, w, b, threshold = best_threshold)\n",
    "\n",
    "    # Convert {-1,1} predictions to {0,1}\n",
    "    predictions = (predictions + 1) // 2\n",
    "\n",
    "    df_pred[\"Bound\"] = predictions\n",
    "\n",
    "    return df_pred"
   ]
  },
  {
   "cell_type": "code",
   "execution_count": null,
   "metadata": {},
   "outputs": [],
   "source": []
  },
  {
   "cell_type": "code",
   "execution_count": null,
   "metadata": {},
   "outputs": [],
   "source": []
  },
  {
   "cell_type": "code",
   "execution_count": null,
   "metadata": {},
   "outputs": [],
   "source": []
  },
  {
   "cell_type": "code",
   "execution_count": null,
   "metadata": {},
   "outputs": [],
   "source": []
  },
  {
   "cell_type": "code",
   "execution_count": null,
   "metadata": {},
   "outputs": [],
   "source": []
  },
  {
   "cell_type": "code",
   "execution_count": null,
   "metadata": {},
   "outputs": [],
   "source": []
  },
  {
   "cell_type": "code",
   "execution_count": 14,
   "metadata": {},
   "outputs": [
    {
     "name": "stderr",
     "output_type": "stream",
     "text": [
      "Computing feature vectors:   0%|          | 0/3000 [00:00<?, ?it/s]"
     ]
    },
    {
     "name": "stderr",
     "output_type": "stream",
     "text": [
      "Computing feature vectors: 100%|██████████| 3000/3000 [00:02<00:00, 1243.69it/s]\n",
      "Collecting k-mers: 100%|██████████| 3000/3000 [00:00<00:00, 8119.96it/s]\n",
      "Building sparse matrix entries: 100%|██████████| 3000/3000 [00:00<00:00, 9648.78it/s]\n"
     ]
    }
   ],
   "source": [
    "X_train_path = \"./data/Xtr0.csv\"\n",
    "Y_train_path = \"./data/Ytr0.csv\"\n",
    "X_test_path = \"./data/Xte0.csv\"\n",
    "\n",
    "X_train, Y_train = load_data(X_train_path, Y_train_path)\n",
    "\n",
    "df_pred = pd.read_csv(X_test_path)\n",
    "X_test = df_pred[\"seq\"].values\n",
    "\n",
    "X = np.concatenate([X_train, X_test])\n",
    "\n",
    "kernel = compute_mismatch_kernel(X, 5, m=1, alphabet=\"ACGT\")\n"
   ]
  },
  {
   "cell_type": "code",
   "execution_count": 15,
   "metadata": {},
   "outputs": [
    {
     "data": {
      "text/plain": [
       "(3000, 3000)"
      ]
     },
     "execution_count": 15,
     "metadata": {},
     "output_type": "execute_result"
    }
   ],
   "source": [
    "kernel.shape"
   ]
  },
  {
   "cell_type": "code",
   "execution_count": 25,
   "metadata": {},
   "outputs": [
    {
     "data": {
      "text/plain": [
       "array([[3860., 2710., 2710., ..., 2408., 2412., 2220.],\n",
       "       [2710., 4728., 1938., ..., 3880., 2000., 1816.],\n",
       "       [2710., 1938., 4116., ..., 1690., 2746., 2744.],\n",
       "       ...,\n",
       "       [2408., 3880., 1690., ..., 6628., 1866., 1434.],\n",
       "       [2412., 2000., 2746., ..., 1866., 4040., 2522.],\n",
       "       [2220., 1816., 2744., ..., 1434., 2522., 4544.]],\n",
       "      shape=(2000, 2000), dtype=float32)"
      ]
     },
     "execution_count": 25,
     "metadata": {},
     "output_type": "execute_result"
    }
   ],
   "source": [
    "kernel[0:len(X_train), 0:len(X_train)]"
   ]
  },
  {
   "cell_type": "code",
   "execution_count": 18,
   "metadata": {},
   "outputs": [
    {
     "data": {
      "text/plain": [
       "(2000, 1000)"
      ]
     },
     "execution_count": 18,
     "metadata": {},
     "output_type": "execute_result"
    }
   ],
   "source": [
    "kernel[0:len(X_train), 0:len(X_test)].shape"
   ]
  },
  {
   "cell_type": "code",
   "execution_count": 22,
   "metadata": {},
   "outputs": [
    {
     "data": {
      "text/plain": [
       "array([[3860., 2710.],\n",
       "       [2710., 4116.]], dtype=float32)"
      ]
     },
     "execution_count": 22,
     "metadata": {},
     "output_type": "execute_result"
    }
   ],
   "source": [
    "kernel[np.ix_([0,2], [0,2])]"
   ]
  },
  {
   "cell_type": "code",
   "execution_count": 24,
   "metadata": {},
   "outputs": [
    {
     "data": {
      "text/plain": [
       "np.float32(3860.0)"
      ]
     },
     "execution_count": 24,
     "metadata": {},
     "output_type": "execute_result"
    }
   ],
   "source": [
    "kernel[0,0]"
   ]
  },
  {
   "cell_type": "code",
   "execution_count": null,
   "metadata": {},
   "outputs": [],
   "source": []
  }
 ],
 "metadata": {
  "kernelspec": {
   "display_name": "kernel-env",
   "language": "python",
   "name": "python3"
  },
  "language_info": {
   "codemirror_mode": {
    "name": "ipython",
    "version": 3
   },
   "file_extension": ".py",
   "mimetype": "text/x-python",
   "name": "python",
   "nbconvert_exporter": "python",
   "pygments_lexer": "ipython3",
   "version": "3.10.16"
  }
 },
 "nbformat": 4,
 "nbformat_minor": 2
}
